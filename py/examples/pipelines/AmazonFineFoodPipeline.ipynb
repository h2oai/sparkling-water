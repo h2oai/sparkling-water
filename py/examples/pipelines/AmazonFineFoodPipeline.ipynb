{
 "cells": [
  {
   "cell_type": "code",
   "execution_count": 1,
   "metadata": {},
   "outputs": [
    {
     "data": {
      "text/html": [
       "\n",
       "            <div>\n",
       "                <p><b>SparkSession - hive</b></p>\n",
       "                \n",
       "        <div>\n",
       "            <p><b>SparkContext</b></p>\n",
       "\n",
       "            <p><a href=\"http://172.16.2.17:4040\">Spark UI</a></p>\n",
       "\n",
       "            <dl>\n",
       "              <dt>Version</dt>\n",
       "                <dd><code>v2.2.0</code></dd>\n",
       "              <dt>Master</dt>\n",
       "                <dd><code>local</code></dd>\n",
       "              <dt>AppName</dt>\n",
       "                <dd><code>PySparkShell</code></dd>\n",
       "            </dl>\n",
       "        </div>\n",
       "        \n",
       "            </div>\n",
       "        "
      ],
      "text/plain": [
       "<pyspark.sql.session.SparkSession at 0x108820810>"
      ]
     },
     "execution_count": 1,
     "metadata": {},
     "output_type": "execute_result"
    }
   ],
   "source": [
    "# Check that SparkSession is available\n",
    "spark"
   ]
  },
  {
   "cell_type": "code",
   "execution_count": 2,
   "metadata": {},
   "outputs": [
    {
     "name": "stdout",
     "output_type": "stream",
     "text": [
      "Connecting to H2O server at http://172.16.2.17:54321... successful.\n"
     ]
    },
    {
     "data": {
      "text/html": [
       "<div style=\"overflow:auto\"><table style=\"width:50%\"><tr><td>H2O cluster uptime:</td>\n",
       "<td>07 secs</td></tr>\n",
       "<tr><td>H2O cluster version:</td>\n",
       "<td>3.16.0.1</td></tr>\n",
       "<tr><td>H2O cluster version age:</td>\n",
       "<td>6 days </td></tr>\n",
       "<tr><td>H2O cluster name:</td>\n",
       "<td>sparkling-water-kuba_local-1512079439108</td></tr>\n",
       "<tr><td>H2O cluster total nodes:</td>\n",
       "<td>1</td></tr>\n",
       "<tr><td>H2O cluster free memory:</td>\n",
       "<td>3.417 Gb</td></tr>\n",
       "<tr><td>H2O cluster total cores:</td>\n",
       "<td>8</td></tr>\n",
       "<tr><td>H2O cluster allowed cores:</td>\n",
       "<td>8</td></tr>\n",
       "<tr><td>H2O cluster status:</td>\n",
       "<td>accepting new members, healthy</td></tr>\n",
       "<tr><td>H2O connection url:</td>\n",
       "<td>http://172.16.2.17:54321</td></tr>\n",
       "<tr><td>H2O connection proxy:</td>\n",
       "<td>None</td></tr>\n",
       "<tr><td>H2O internal security:</td>\n",
       "<td>False</td></tr>\n",
       "<tr><td>H2O API Extensions:</td>\n",
       "<td>XGBoost, Algos, AutoML, Core V3, Core V4</td></tr>\n",
       "<tr><td>Python version:</td>\n",
       "<td>2.7.14 final</td></tr></table></div>"
      ],
      "text/plain": [
       "--------------------------  ----------------------------------------\n",
       "H2O cluster uptime:         07 secs\n",
       "H2O cluster version:        3.16.0.1\n",
       "H2O cluster version age:    6 days\n",
       "H2O cluster name:           sparkling-water-kuba_local-1512079439108\n",
       "H2O cluster total nodes:    1\n",
       "H2O cluster free memory:    3.417 Gb\n",
       "H2O cluster total cores:    8\n",
       "H2O cluster allowed cores:  8\n",
       "H2O cluster status:         accepting new members, healthy\n",
       "H2O connection url:         http://172.16.2.17:54321\n",
       "H2O connection proxy:\n",
       "H2O internal security:      False\n",
       "H2O API Extensions:         XGBoost, Algos, AutoML, Core V3, Core V4\n",
       "Python version:             2.7.14 final\n",
       "--------------------------  ----------------------------------------"
      ]
     },
     "metadata": {},
     "output_type": "display_data"
    },
    {
     "name": "stdout",
     "output_type": "stream",
     "text": [
      "\n",
      "Sparkling Water Context:\n",
      " * H2O name: sparkling-water-kuba_local-1512079439108\n",
      " * cluster size: 1\n",
      " * list of used nodes:\n",
      "  (executorId, host, port)\n",
      "  ------------------------\n",
      "  (driver,172.16.2.17,54321)\n",
      "  ------------------------\n",
      "\n",
      "  Open H2O Flow in browser: http://172.16.2.17:54321 (CMD + click in Mac OSX)\n",
      "\n",
      "    \n"
     ]
    }
   ],
   "source": [
    "# Start H2OContext in internal backend\n",
    "from pysparkling import *\n",
    "hc = H2OContext.getOrCreate(spark)"
   ]
  },
  {
   "cell_type": "code",
   "execution_count": 3,
   "metadata": {},
   "outputs": [
    {
     "name": "stdout",
     "output_type": "stream",
     "text": [
      "Parse progress: |█████████████████████████████████████████████████████████| 100%\n"
     ]
    }
   ],
   "source": [
    "# Load \n",
    "import h2o\n",
    "reviews = h2o.upload_file(\"Reviews.csv\")"
   ]
  },
  {
   "cell_type": "code",
   "execution_count": 4,
   "metadata": {},
   "outputs": [
    {
     "data": {
      "text/html": [
       "<table>\n",
       "<tr><th style=\"text-align: right;\">  Id</th><th>ProductId  </th><th>UserId        </th><th style=\"text-align: right;\">  HelpfulnessNumerator</th><th style=\"text-align: right;\">  HelpfulnessDenominator</th><th style=\"text-align: right;\">  Score</th><th style=\"text-align: right;\">       Time</th><th>Summary                                      </th><th>Text                                                                                                                                                                                                                                                                                                                                                                                                                                                                                                                         </th></tr>\n",
       "<tr><td style=\"text-align: right;\">   1</td><td>B001E4KFG0 </td><td>A3SGXH7AUHU8GW</td><td style=\"text-align: right;\">                     1</td><td style=\"text-align: right;\">                       1</td><td style=\"text-align: right;\">      5</td><td style=\"text-align: right;\">1.30386e+09</td><td>Good Quality Dog Food                        </td><td>I have bought several of the Vitality canned dog food products and have found them all to be of good quality. The product looks more like a stew than a processed meat and it smells better. My Labrador is finicky and she appreciates this product better than  most.                                                                                                                                                                                                                                                      </td></tr>\n",
       "<tr><td style=\"text-align: right;\">   2</td><td>B00813GRG4 </td><td>A1D87F6ZCVE5NK</td><td style=\"text-align: right;\">                     0</td><td style=\"text-align: right;\">                       0</td><td style=\"text-align: right;\">      1</td><td style=\"text-align: right;\">1.34698e+09</td><td>Not as Advertised                            </td><td>Product arrived labeled as Jumbo Salted Peanuts...the peanuts were actually small sized unsalted. Not sure if this was an error or if the vendor intended to represent the product as \"\"Jumbo\"                                                                                                                                                                                                                                                                                                                               </td></tr>\n",
       "<tr><td style=\"text-align: right;\">   3</td><td>B000LQOCH0 </td><td>ABXLMWJIXXAIN </td><td style=\"text-align: right;\">                     1</td><td style=\"text-align: right;\">                       1</td><td style=\"text-align: right;\">      4</td><td style=\"text-align: right;\">1.21902e+09</td><td>\"\"Delight\"\" says it a                        </td><td>This is a confection that has been around a few centuries.  It is a light, pillowy citrus gelatin with nuts - in this case Filberts. And it is cut into tiny squares and then liberally coated with powdered sugar.  And it is a tiny mouthful of heaven.  Not too chewy, and very flavorful.  I highly recommend this yummy treat.  If you are familiar with the story of C.S. Lewis' \"\"The Lion, The Witch, and The Wardrobe\"\" - this is the treat that seduces Edmund into selling out his Brother and Sisters to the Witc</td></tr>\n",
       "<tr><td style=\"text-align: right;\">   4</td><td>B000UA0QIQ </td><td>A395BORC6FGVXV</td><td style=\"text-align: right;\">                     3</td><td style=\"text-align: right;\">                       3</td><td style=\"text-align: right;\">      2</td><td style=\"text-align: right;\">1.30792e+09</td><td>Cough Medicine                               </td><td>If you are looking for the secret ingredient in Robitussin I believe I have found it.  I got this in addition to the Root Beer Extract I ordered (which was good) and made some cherry soda.  The flavor is very medicinal.                                                                                                                                                                                                                                                                                                  </td></tr>\n",
       "<tr><td style=\"text-align: right;\">   5</td><td>B006K2ZZ7K </td><td>A1UQRSCLF8GW1T</td><td style=\"text-align: right;\">                     0</td><td style=\"text-align: right;\">                       0</td><td style=\"text-align: right;\">      5</td><td style=\"text-align: right;\">1.35078e+09</td><td>Great taffy                                  </td><td>Great taffy at a great price.  There was a wide assortment of yummy taffy.  Delivery was very quick.  If your a taffy lover, this is a deal.                                                                                                                                                                                                                                                                                                                                                                                 </td></tr>\n",
       "<tr><td style=\"text-align: right;\">   6</td><td>B006K2ZZ7K </td><td>ADT0SRK1MGOEU </td><td style=\"text-align: right;\">                     0</td><td style=\"text-align: right;\">                       0</td><td style=\"text-align: right;\">      4</td><td style=\"text-align: right;\">1.34205e+09</td><td>Nice Taffy                                   </td><td>I got a wild hair for taffy and ordered this five pound bag. The taffy was all very enjoyable with many flavors: watermelon, root beer, melon, peppermint, grape, etc. My only complaint is there was a bit too much red/black licorice-flavored pieces (just not my particular favorites). Between me, my kids, and my husband, this lasted only two weeks! I would recommend this brand of taffy -- it was a delightful treat.                                                                                             </td></tr>\n",
       "<tr><td style=\"text-align: right;\">   7</td><td>B006K2ZZ7K </td><td>A1SP2KVKFXXRU1</td><td style=\"text-align: right;\">                     0</td><td style=\"text-align: right;\">                       0</td><td style=\"text-align: right;\">      5</td><td style=\"text-align: right;\">1.34015e+09</td><td>Great!  Just as good as the expensive brands!</td><td>This saltwater taffy had great flavors and was very soft and chewy.  Each candy was individually wrapped well.  None of the candies were stuck together, which did happen in the expensive version, Fralinger's.  Would highly recommend this candy!  I served it at a beach-themed party and everyone loved it!                                                                                                                                                                                                             </td></tr>\n",
       "<tr><td style=\"text-align: right;\">   8</td><td>B006K2ZZ7K </td><td>A3JRGQVEQN31IQ</td><td style=\"text-align: right;\">                     0</td><td style=\"text-align: right;\">                       0</td><td style=\"text-align: right;\">      5</td><td style=\"text-align: right;\">1.336e+09  </td><td>Wonderful, tasty taffy                       </td><td>This taffy is so good.  It is very soft and chewy.  The flavors are amazing.  I would definitely recommend you buying it.  Very satisfying!!                                                                                                                                                                                                                                                                                                                                                                                 </td></tr>\n",
       "<tr><td style=\"text-align: right;\">   9</td><td>B000E7L2R4 </td><td>A1MZYO9TZK0BBI</td><td style=\"text-align: right;\">                     1</td><td style=\"text-align: right;\">                       1</td><td style=\"text-align: right;\">      5</td><td style=\"text-align: right;\">1.32201e+09</td><td>Yay Barley                                   </td><td>Right now I'm mostly just sprouting this so my cats can eat the grass. They love it. I rotate it around with Wheatgrass and Rye too                                                                                                                                                                                                                                                                                                                                                                                          </td></tr>\n",
       "<tr><td style=\"text-align: right;\">  10</td><td>B00171APVA </td><td>A21BT40VZCCYT4</td><td style=\"text-align: right;\">                     0</td><td style=\"text-align: right;\">                       0</td><td style=\"text-align: right;\">      5</td><td style=\"text-align: right;\">1.35121e+09</td><td>Healthy Dog Food                             </td><td>This is a very healthy dog food. Good for their digestion. Also good for small puppies. My dog eats her required amount at every feeding.                                                                                                                                                                                                                                                                                                                                                                                    </td></tr>\n",
       "</table>"
      ]
     },
     "metadata": {},
     "output_type": "display_data"
    },
    {
     "data": {
      "text/plain": []
     },
     "execution_count": 4,
     "metadata": {},
     "output_type": "execute_result"
    }
   ],
   "source": [
    "# Drop unnecessary columns\n",
    "reviews.drop(\"Id\")\n",
    "reviews.drop(\"ProfileName\")"
   ]
  },
  {
   "cell_type": "code",
   "execution_count": 5,
   "metadata": {
    "collapsed": true
   },
   "outputs": [],
   "source": [
    "# Refine date column\n",
    "def refine_date_col(data, col, drop):\n",
    "    data[\"Day\"] = data[col].day()\n",
    "    data[\"Month\"] = data[col].month()\n",
    "    data[\"Year\"] = data[col].year()\n",
    "    data[\"WeekNum\"] = data[col].week()\n",
    "    data[\"WeekDay\"] = data[col].dayOfWeek()\n",
    "    data[\"HourOfDay\"] = data[col].hour()\n",
    "    \n",
    "    # Create weekend and season cols\n",
    "    # Spring = Mar, Apr, May. Summer = Jun, Jul, Aug. Autumn = Sep, Oct. Winter = Nov, Dec, Jan, Feb.\n",
    "    # data[\"Weekend\"]   = [1 if x in (\"Sun\", \"Sat\") else 0 for x in data[\"WeekDay\"]]\n",
    "    data[\"Weekend\"] = ((data[\"WeekDay\"] == \"Sun\") | (data[\"WeekDay\"] == \"Sat\"))\n",
    "    data[\"Season\"] = data[\"Month\"].cut([0, 2, 5, 7, 10, 12], [\"Winter\", \"Spring\", \"Summer\", \"Autumn\", \"Winter\"])\n",
    "    if drop:\n",
    "        data.drop(col)\n",
    "    \n",
    "refine_date_col(reviews, \"Time\", True)\n"
   ]
  },
  {
   "cell_type": "code",
   "execution_count": 6,
   "metadata": {},
   "outputs": [
    {
     "name": "stdout",
     "output_type": "stream",
     "text": [
      "root\n",
      " |-- Id: integer (nullable = false)\n",
      " |-- ProductId: string (nullable = false)\n",
      " |-- UserId: string (nullable = false)\n",
      " |-- ProfileName: string (nullable = false)\n",
      " |-- HelpfulnessNumerator: short (nullable = false)\n",
      " |-- HelpfulnessDenominator: short (nullable = false)\n",
      " |-- Score: byte (nullable = false)\n",
      " |-- Time: integer (nullable = false)\n",
      " |-- Summary: string (nullable = false)\n",
      " |-- Text: string (nullable = false)\n",
      " |-- Day: byte (nullable = false)\n",
      " |-- Month: byte (nullable = false)\n",
      " |-- Year: short (nullable = false)\n",
      " |-- WeekNum: byte (nullable = false)\n",
      " |-- WeekDay: string (nullable = false)\n",
      " |-- HourOfDay: byte (nullable = false)\n",
      " |-- Weekend: byte (nullable = false)\n",
      " |-- Season: string (nullable = false)\n",
      "\n"
     ]
    }
   ],
   "source": [
    "# Convert data to spark Data Frame\n",
    "df = hc.as_spark_frame(reviews)\n",
    "# Show the schema\n",
    "df.printSchema()"
   ]
  },
  {
   "cell_type": "code",
   "execution_count": 7,
   "metadata": {
    "collapsed": true
   },
   "outputs": [],
   "source": [
    "from pyspark.sql.functions import *\n",
    "# Calculate average score per Year\n",
    "avg_score_per_year = hc.as_h2o_frame(df.groupBy(\"Year\").agg(mean(\"Score\"), count(\"Score\")), \"avgScorePerYear\")"
   ]
  },
  {
   "cell_type": "code",
   "execution_count": 8,
   "metadata": {
    "collapsed": true
   },
   "outputs": [],
   "source": [
    "# Calculate average score per Month\n",
    "avg_score_per_month = hc.as_h2o_frame(df.groupBy(\"Month\").agg(mean(\"Score\"), count(\"Score\")), \"avgScorePerMonth\")"
   ]
  },
  {
   "cell_type": "code",
   "execution_count": 9,
   "metadata": {
    "collapsed": true
   },
   "outputs": [],
   "source": [
    "# Calculate average score per Day\n",
    "avg_score_per_month = hc.as_h2o_frame(df.groupBy(\"WeekDay\").agg(mean(\"Score\"), count(\"Score\")), \"avgScorePerDay\")"
   ]
  },
  {
   "cell_type": "code",
   "execution_count": 11,
   "metadata": {
    "collapsed": true
   },
   "outputs": [],
   "source": [
    "# Calculate input data frame for sentiment analysis\n",
    "sentimentDF = hc.as_spark_frame(reviews[[\"Score\", \"Month\", \"Day\", \"WeekDay\", \"Summary\"]])"
   ]
  },
  {
   "cell_type": "code",
   "execution_count": null,
   "metadata": {},
   "outputs": [],
   "source": [
    "from pyspark.sql.types import FloatType\n",
    "from pyspark.sql.functions import col, udf\n",
    "from pyspark.ml import Pipeline\n",
    "from pyspark.ml.feature import Tokenizer, RegexTokenizer, StopWordsRemover, IDF, HashingTF\n",
    "\n",
    "\n",
    "# Prepare data for the pipeline\n",
    "toFloat = udf(lambda score: float(score), FloatType())\n",
    "sentimentDF.where(\"Score != 3\").withColumn(\"Score\", toFloat(col(\"Score\")))\n",
    "\n",
    "# Define the pipeline stages\n",
    "regexTokenizer = RegexTokenizer(inputCol=\"Summary\",\n",
    "                                outputCol=\"TokenizedSummary\",\n",
    "                                pattern=\"[, ]\",\n",
    "                                toLowercase=True)\n",
    "\n",
    "stopWordsRemover = StopWordsRemover(inputCol=regexTokenizer.getOutputCol(),\n",
    "                                    outputCol=\"CleanedSummary\",\n",
    "                                    caseSensitive=False)\n",
    "## Hash the words\n",
    "hashingTF = HashingTF(inputCol=stopWordsRemover.getOutputCol(),\n",
    "                      outputCol=\"wordToIndex\",\n",
    "                      numFeatures=1 << 10)\n",
    "\n",
    "\n",
    "## Create inverse document frequencies model\n",
    "idf = IDF(inputCol=hashingTF.getOutputCol(),\n",
    "          outputCol=\"tf_idf\",\n",
    "          minDocFreq=1)\n",
    "\n",
    "from pysparkling.ml import ColumnPruner, H2OGBM\n",
    "\n",
    "## Create GBM model\n",
    "gbm = H2OGBM(ratio=0.8,\n",
    "             featuresCols=[idf.getOutputCol()],\n",
    "             predictionCol=\"Summary\")\n",
    "\n",
    "## Remove all helper columns\n",
    "colPruner = ColumnPruner(columns=[idf.getOutputCol(), hashingTF.getOutputCol(), stopWordsRemover.getOutputCol(), regexTokenizer.getOutputCol()])\n",
    "\n",
    "##  Create the pipeline by defining all the stages\n",
    "pipeline = Pipeline(stages=[regexTokenizer, stopWordsRemover, hashingTF, idf, gbm, colPruner])\n",
    "\n",
    "## Train the pipeline model\n",
    "model = pipeline.fit(sentimentDF)\n",
    "\n",
    "model\n"
   ]
  },
  {
   "cell_type": "code",
   "execution_count": 45,
   "metadata": {},
   "outputs": [
    {
     "data": {
      "text/plain": [
       "[Row(Score=5, Month=1, Day=16, WeekDay=u'Fri', Summary=u'Good Quality Dog Food', value=4.054493898772716),\n",
       " Row(Score=1, Month=1, Day=16, WeekDay=u'Fri', Summary=u'Not as Advertised', value=4.054493898772716),\n",
       " Row(Score=4, Month=1, Day=15, WeekDay=u'Thu', Summary=u'\"\"Delight\"\" says it a', value=4.054493898772716),\n",
       " Row(Score=2, Month=1, Day=16, WeekDay=u'Fri', Summary=u'Cough Medicine', value=4.054493898772716),\n",
       " Row(Score=5, Month=1, Day=16, WeekDay=u'Fri', Summary=u'Great taffy', value=4.613358328249387),\n",
       " Row(Score=4, Month=1, Day=16, WeekDay=u'Fri', Summary=u'Nice Taffy', value=4.054493898772716),\n",
       " Row(Score=5, Month=1, Day=16, WeekDay=u'Fri', Summary=u'Great!  Just as good as the expensive brands!', value=4.18077098095041),\n",
       " Row(Score=5, Month=1, Day=16, WeekDay=u'Fri', Summary=u'Wonderful, tasty taffy', value=4.502975996597751),\n",
       " Row(Score=5, Month=1, Day=16, WeekDay=u'Fri', Summary=u'Yay Barley', value=4.054493898772716),\n",
       " Row(Score=5, Month=1, Day=16, WeekDay=u'Fri', Summary=u'Healthy Dog Food', value=4.199643722982227)]"
      ]
     },
     "execution_count": 45,
     "metadata": {},
     "output_type": "execute_result"
    }
   ],
   "source": [
    "model.transform(sentimentDF).take(10)\n"
   ]
  },
  {
   "cell_type": "code",
   "execution_count": 43,
   "metadata": {},
   "outputs": [
    {
     "data": {
      "text/plain": [
       "Row(Score=5, Month=1, Day=16, WeekDay=u'Fri', Summary=u'Good Quality Dog Food')"
      ]
     },
     "execution_count": 43,
     "metadata": {},
     "output_type": "execute_result"
    }
   ],
   "source": [
    "sentimentDF.head()"
   ]
  }
 ],
 "metadata": {
  "kernelspec": {
   "display_name": "Python 2",
   "language": "python",
   "name": "python2"
  },
  "language_info": {
   "codemirror_mode": {
    "name": "ipython",
    "version": 2
   },
   "file_extension": ".py",
   "mimetype": "text/x-python",
   "name": "python",
   "nbconvert_exporter": "python",
   "pygments_lexer": "ipython2",
   "version": "2.7.14"
  }
 },
 "nbformat": 4,
 "nbformat_minor": 2
}
