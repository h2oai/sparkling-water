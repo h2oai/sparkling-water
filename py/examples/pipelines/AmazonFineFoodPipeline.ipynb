{
 "cells": [
  {
   "cell_type": "markdown",
   "metadata": {},
   "source": [
    "# Sparkling Water Pipeline Productionalization"
   ]
  },
  {
   "cell_type": "markdown",
   "metadata": {},
   "source": [
    "## Background\n",
    "\n",
    "Sparkling Water provides access to H2O algorithms and publishes API to integrate them as part of regular Spark pipelines. This feature allows for seamless training and deployment of H2O algorithms in the Spark environment. Furthermore, trained pipelines do not require H2O runtime anymore (thanks to MOJO representation of trained H2O models) which enables variety of deployment scenarios.\n",
    "\n",
    "Moreover, by supporting Python and Scala environment, we enable a simple transfer of modeling results between data scientists (Python land) and production (JVM land).\n"
   ]
  },
  {
   "cell_type": "markdown",
   "metadata": {},
   "source": [
    "## Goal\n",
    "\n",
    "The goal of this hands-on is to:\n",
    "  - show integration of H2O models into Spark pipelines using PySpark and PySparkling\n",
    "  - demonstrate deployment of the trained pipeline in the context of JVM and Spark streaming\n",
    "  \n",
    "Our modeling goal is to predict sentiment of Amazon food reviews. For this purpose, we use a pre-processed dataset from [SNAP repository](https://snap.stanford.edu/data/web-FineFoods.html). The dataset contains multiple columns but for simplicity, we will use only date, summary and overall score. The score helps us to approximate sentiment."
   ]
  },
  {
   "cell_type": "markdown",
   "metadata": {},
   "source": [
    "![Scenario](./img/scenario.png)"
   ]
  },
  {
   "cell_type": "markdown",
   "metadata": {},
   "source": [
    "## Environment preparation"
   ]
  },
  {
   "cell_type": "markdown",
   "metadata": {},
   "source": [
    "First, let's verify that `SparkSession` is available in the notebook environment. We do not need to explicitly create `SparkSession` as it is created for us\n",
    "automatically during start of the Jupyter notebook. This works because of the Jupyter is set up with a Spark kernel.\n"
   ]
  },
  {
   "cell_type": "code",
   "execution_count": 1,
   "metadata": {},
   "outputs": [
    {
     "data": {
      "text/html": [
       "\n",
       "            <div>\n",
       "                <p><b>SparkSession - hive</b></p>\n",
       "                \n",
       "        <div>\n",
       "            <p><b>SparkContext</b></p>\n",
       "\n",
       "            <p><a href=\"http://10.1.10.237:4040\">Spark UI</a></p>\n",
       "\n",
       "            <dl>\n",
       "              <dt>Version</dt>\n",
       "                <dd><code>v2.2.0</code></dd>\n",
       "              <dt>Master</dt>\n",
       "                <dd><code>local</code></dd>\n",
       "              <dt>AppName</dt>\n",
       "                <dd><code>PySparkShell</code></dd>\n",
       "            </dl>\n",
       "        </div>\n",
       "        \n",
       "            </div>\n",
       "        "
      ],
      "text/plain": [
       "<pyspark.sql.session.SparkSession at 0x107758cd0>"
      ]
     },
     "execution_count": 1,
     "metadata": {},
     "output_type": "execute_result"
    }
   ],
   "source": [
    "spark"
   ]
  },
  {
   "cell_type": "markdown",
   "metadata": {},
   "source": [
    "### Prepare `H2OContext`\n",
    "\n",
    "We will start `H2OContext` in the so called _internal backend_ mode. The means H2O is sharing JVM with Spark (see details in [Sparkling Water documentation](https://github.com/h2oai/sparkling-water/blob/rel-2.2/doc/tutorials/backends.rst)).\n",
    "\n",
    "The following call initializes H2O on each Spark executor in the Spark cluster."
   ]
  },
  {
   "cell_type": "code",
   "execution_count": 2,
   "metadata": {},
   "outputs": [
    {
     "name": "stdout",
     "output_type": "stream",
     "text": [
      "Connecting to H2O server at http://10.1.10.237:54321... successful.\n"
     ]
    },
    {
     "data": {
      "text/html": [
       "<div style=\"overflow:auto\"><table style=\"width:50%\"><tr><td>H2O cluster uptime:</td>\n",
       "<td>07 secs</td></tr>\n",
       "<tr><td>H2O cluster version:</td>\n",
       "<td>3.16.0.2</td></tr>\n",
       "<tr><td>H2O cluster version age:</td>\n",
       "<td>3 days </td></tr>\n",
       "<tr><td>H2O cluster name:</td>\n",
       "<td>sparkling-water-kuba_local-1512344413711</td></tr>\n",
       "<tr><td>H2O cluster total nodes:</td>\n",
       "<td>1</td></tr>\n",
       "<tr><td>H2O cluster free memory:</td>\n",
       "<td>3.556 Gb</td></tr>\n",
       "<tr><td>H2O cluster total cores:</td>\n",
       "<td>8</td></tr>\n",
       "<tr><td>H2O cluster allowed cores:</td>\n",
       "<td>8</td></tr>\n",
       "<tr><td>H2O cluster status:</td>\n",
       "<td>accepting new members, healthy</td></tr>\n",
       "<tr><td>H2O connection url:</td>\n",
       "<td>http://10.1.10.237:54321</td></tr>\n",
       "<tr><td>H2O connection proxy:</td>\n",
       "<td>None</td></tr>\n",
       "<tr><td>H2O internal security:</td>\n",
       "<td>False</td></tr>\n",
       "<tr><td>H2O API Extensions:</td>\n",
       "<td>XGBoost, Algos, AutoML, Core V3, Core V4</td></tr>\n",
       "<tr><td>Python version:</td>\n",
       "<td>2.7.14 final</td></tr></table></div>"
      ],
      "text/plain": [
       "--------------------------  ----------------------------------------\n",
       "H2O cluster uptime:         07 secs\n",
       "H2O cluster version:        3.16.0.2\n",
       "H2O cluster version age:    3 days\n",
       "H2O cluster name:           sparkling-water-kuba_local-1512344413711\n",
       "H2O cluster total nodes:    1\n",
       "H2O cluster free memory:    3.556 Gb\n",
       "H2O cluster total cores:    8\n",
       "H2O cluster allowed cores:  8\n",
       "H2O cluster status:         accepting new members, healthy\n",
       "H2O connection url:         http://10.1.10.237:54321\n",
       "H2O connection proxy:\n",
       "H2O internal security:      False\n",
       "H2O API Extensions:         XGBoost, Algos, AutoML, Core V3, Core V4\n",
       "Python version:             2.7.14 final\n",
       "--------------------------  ----------------------------------------"
      ]
     },
     "metadata": {},
     "output_type": "display_data"
    },
    {
     "name": "stdout",
     "output_type": "stream",
     "text": [
      "\n",
      "Sparkling Water Context:\n",
      " * H2O name: sparkling-water-kuba_local-1512344413711\n",
      " * cluster size: 1\n",
      " * list of used nodes:\n",
      "  (executorId, host, port)\n",
      "  ------------------------\n",
      "  (driver,10.1.10.237,54321)\n",
      "  ------------------------\n",
      "\n",
      "  Open H2O Flow in browser: http://10.1.10.237:54321 (CMD + click in Mac OSX)\n",
      "\n",
      "    \n"
     ]
    }
   ],
   "source": [
    "from pysparkling import *\n",
    "hc = H2OContext.getOrCreate(spark)"
   ]
  },
  {
   "cell_type": "markdown",
   "metadata": {},
   "source": [
    "> Note: the reported IP is a private IP of docker container where the demo is running.\n"
   ]
  },
  {
   "cell_type": "markdown",
   "metadata": {},
   "source": [
    "## Data preparation"
   ]
  },
  {
   "cell_type": "markdown",
   "metadata": {},
   "source": [
    "We are going to use H2O to load data using H2O since it does pretty good job to guess all nuances of input format."
   ]
  },
  {
   "cell_type": "code",
   "execution_count": 3,
   "metadata": {},
   "outputs": [
    {
     "name": "stdout",
     "output_type": "stream",
     "text": [
      "Parse progress: |█████████████████████████████████████████████████████████| 100%\n"
     ]
    }
   ],
   "source": [
    "import h2o\n",
    "reviews_h2o = h2o.upload_file(\"../data/kuba/AmazonReviews_Train.csv\", \"reviews.hex\")"
   ]
  },
  {
   "cell_type": "markdown",
   "metadata": {},
   "source": [
    "### Explore data table in H2O flow\n",
    "\n",
    "At this point, we can explore data directly in this notebook, or we can access H2O Flow and explore data and its properties directly there.\n"
   ]
  },
  {
   "cell_type": "markdown",
   "metadata": {},
   "source": [
    "### Convert H2O frame to Spark frame se we can pass it as the input to the pipeline\n",
    "\n",
    "After data exploration, we can start with data munging. We are going to use Spark, hence we need to publish H2O frame as Spark DataFrame."
   ]
  },
  {
   "cell_type": "code",
   "execution_count": 4,
   "metadata": {},
   "outputs": [],
   "source": [
    "reviews_spark = hc.as_spark_frame(reviews_h2o)"
   ]
  },
  {
   "cell_type": "markdown",
   "metadata": {},
   "source": [
    "#### Trick #1: Save the original Spark schema\n",
    "\n",
    "At this point we will save the schema of input data and we will reuse it later to configure deployed Spark streaming application."
   ]
  },
  {
   "cell_type": "code",
   "execution_count": 5,
   "metadata": {},
   "outputs": [
    {
     "name": "stdout",
     "output_type": "stream",
     "text": [
      "root\n",
      " |-- Id: integer (nullable = false)\n",
      " |-- ProductId: string (nullable = false)\n",
      " |-- UserId: string (nullable = false)\n",
      " |-- ProfileName: string (nullable = false)\n",
      " |-- HelpfulnessNumerator: short (nullable = false)\n",
      " |-- HelpfulnessDenominator: short (nullable = false)\n",
      " |-- Score: byte (nullable = false)\n",
      " |-- Time: integer (nullable = false)\n",
      " |-- Summary: string (nullable = false)\n",
      " |-- Text: string (nullable = false)\n",
      "\n"
     ]
    }
   ],
   "source": [
    "reviews_spark.printSchema()\n",
    "\n",
    "with open('schema.json','w') as f:\n",
    "    f.write(str(reviews_spark.schema.json()))"
   ]
  },
  {
   "cell_type": "markdown",
   "metadata": {},
   "source": [
    "## Now let's define all the stages for the pipeline\n",
    "\n",
    "The Spark pipelines are composed of various transformers. In our example, we combine a few Spark transformers to clean up textual data and transform it into numerical format. The pipeline is finalized by training an H2O GBM binomial model.\n",
    "\n",
    "> Note: The pipeline stages are not executed right away, they are executed during each fit and transform call."
   ]
  },
  {
   "cell_type": "markdown",
   "metadata": {},
   "source": [
    "### Define transformer to drop unnecessary columns\n",
    "The Spark `SQLTransformer` allows for using SQL to munge data.\n",
    "\n",
    "As part of this transformer, we convert timestamp to the human readable date string:\n",
    "\n",
    "We are selecting just `Score`, `Time` and `Summary` columns. The goal of this demo is to predict sentiment, ie, whether the review is positive or negative. The review can be influenced by several aspects. The `Summary` is of course the mostly important information, but `Time` can influence the model as well. For example, people may tend to give higher reviews on Friday evenings because there's a weekend in from of them :)"
   ]
  },
  {
   "cell_type": "code",
   "execution_count": 6,
   "metadata": {},
   "outputs": [],
   "source": [
    "from pyspark.ml.feature import SQLTransformer\n",
    "colSelect = SQLTransformer(\n",
    "    statement=\"SELECT Score, from_unixtime(Time) as Time, Summary FROM __THIS__\")"
   ]
  },
  {
   "cell_type": "markdown",
   "metadata": {},
   "source": [
    "#### Trick #2: Explore intermediate results\n",
    "To explore intermediate results, we can also invoke defined transformer directly"
   ]
  },
  {
   "cell_type": "code",
   "execution_count": 7,
   "metadata": {},
   "outputs": [
    {
     "name": "stdout",
     "output_type": "stream",
     "text": [
      "+-----+-------------------+--------------------+\n",
      "|Score|               Time|             Summary|\n",
      "+-----+-------------------+--------------------+\n",
      "|    5|2011-04-26 17:00:00|Good Quality Dog ...|\n",
      "|    1|2012-09-06 17:00:00|   Not as Advertised|\n",
      "|    4|2008-08-17 17:00:00|\"\"Delight\"\" says ...|\n",
      "|    2|2011-06-12 17:00:00|      Cough Medicine|\n",
      "|    5|2012-10-20 17:00:00|         Great taffy|\n",
      "|    4|2012-07-11 17:00:00|          Nice Taffy|\n",
      "|    5|2012-06-19 17:00:00|Great!  Just as g...|\n",
      "|    5|2012-05-02 17:00:00|Wonderful, tasty ...|\n",
      "|    5|2011-11-22 16:00:00|          Yay Barley|\n",
      "|    5|2012-10-25 17:00:00|    Healthy Dog Food|\n",
      "|    5|2005-02-07 16:00:00|The Best Hot Sauc...|\n",
      "|    5|2010-08-26 17:00:00|My cats LOVE this...|\n",
      "|    1|2012-06-12 17:00:00|My Cats Are Not F...|\n",
      "|    4|2010-11-04 17:00:00|   fresh and greasy!|\n",
      "|    5|2010-03-11 16:00:00|Strawberry Twizzl...|\n",
      "|    5|2009-12-28 16:00:00|Lots of twizzlers...|\n",
      "|    2|2012-09-19 17:00:00|          poor taste|\n",
      "|    5|2012-08-15 17:00:00|            Love it!|\n",
      "|    5|2011-12-22 16:00:00|  GREAT SWEET CANDY!|\n",
      "|    5|2011-10-07 17:00:00|Home delivered tw...|\n",
      "+-----+-------------------+--------------------+\n",
      "only showing top 20 rows\n",
      "\n"
     ]
    }
   ],
   "source": [
    "selected = colSelect.transform(reviews_spark)\n",
    "selected.show()"
   ]
  },
  {
   "cell_type": "markdown",
   "metadata": {},
   "source": [
    "### Create transformer which creates several time columns based on the `Time` colum\n",
    "\n",
    "The time is stored as a timestamp, however, we would like to get a more human readable information from it. We can use the SparkSQL data methods such as `month`, `dayofmonth` and so on to achieve this."
   ]
  },
  {
   "cell_type": "code",
   "execution_count": 8,
   "metadata": {},
   "outputs": [],
   "source": [
    "refineTime = SQLTransformer(\n",
    "    statement=\"\"\"\n",
    "    SELECT  Score,\n",
    "            Summary, \n",
    "            dayofmonth(Time) as Day, \n",
    "            month(Time) as Month, year(Time) as Year, \n",
    "            weekofyear(Time) as WeekNum, \n",
    "            date_format(Time, 'EEE') as WeekDay, \n",
    "            hour(Time) as HourOfDay, \n",
    "            IF(date_format(Time, 'EEE')='Sat' OR date_format(Time, 'EEE')='Sun', 1, 0) as Weekend, \n",
    "            CASE \n",
    "                WHEN month(TIME)=12 OR month(Time)<=2 THEN 'Winter' \n",
    "                WHEN month(TIME)>=3 OR month(Time)<=5 THEN 'Spring' \n",
    "                WHEN month(TIME)>=6 AND month(Time)<=9 THEN 'Summer' \n",
    "                ELSE 'Autumn' END as Seasson \n",
    "    FROM __THIS__\"\"\")"
   ]
  },
  {
   "cell_type": "markdown",
   "metadata": {},
   "source": [
    "Inspect the data after "
   ]
  },
  {
   "cell_type": "code",
   "execution_count": 9,
   "metadata": {},
   "outputs": [
    {
     "name": "stdout",
     "output_type": "stream",
     "text": [
      "+-----+--------------------+---+-----+----+-------+-------+---------+-------+-------+\n",
      "|Score|             Summary|Day|Month|Year|WeekNum|WeekDay|HourOfDay|Weekend|Seasson|\n",
      "+-----+--------------------+---+-----+----+-------+-------+---------+-------+-------+\n",
      "|    5|Good Quality Dog ...| 26|    4|2011|     17|    Tue|       17|      0| Spring|\n",
      "|    1|   Not as Advertised|  6|    9|2012|     36|    Thu|       17|      0| Spring|\n",
      "|    4|\"\"Delight\"\" says ...| 17|    8|2008|     33|    Sun|       17|      1| Spring|\n",
      "|    2|      Cough Medicine| 12|    6|2011|     23|    Sun|       17|      1| Spring|\n",
      "|    5|         Great taffy| 20|   10|2012|     42|    Sat|       17|      1| Spring|\n",
      "|    4|          Nice Taffy| 11|    7|2012|     28|    Wed|       17|      0| Spring|\n",
      "|    5|Great!  Just as g...| 19|    6|2012|     25|    Tue|       17|      0| Spring|\n",
      "|    5|Wonderful, tasty ...|  2|    5|2012|     18|    Wed|       17|      0| Spring|\n",
      "|    5|          Yay Barley| 22|   11|2011|     47|    Tue|       16|      0| Spring|\n",
      "|    5|    Healthy Dog Food| 25|   10|2012|     43|    Thu|       17|      0| Spring|\n",
      "|    5|The Best Hot Sauc...|  7|    2|2005|      6|    Mon|       16|      0| Winter|\n",
      "|    5|My cats LOVE this...| 26|    8|2010|     34|    Thu|       17|      0| Spring|\n",
      "|    1|My Cats Are Not F...| 12|    6|2012|     24|    Tue|       17|      0| Spring|\n",
      "|    4|   fresh and greasy!|  4|   11|2010|     44|    Thu|       17|      0| Spring|\n",
      "|    5|Strawberry Twizzl...| 11|    3|2010|     10|    Thu|       16|      0| Spring|\n",
      "|    5|Lots of twizzlers...| 28|   12|2009|     53|    Mon|       16|      0| Winter|\n",
      "|    2|          poor taste| 19|    9|2012|     38|    Wed|       17|      0| Spring|\n",
      "|    5|            Love it!| 15|    8|2012|     33|    Wed|       17|      0| Spring|\n",
      "|    5|  GREAT SWEET CANDY!| 22|   12|2011|     51|    Thu|       16|      0| Winter|\n",
      "|    5|Home delivered tw...|  7|   10|2011|     40|    Fri|       17|      0| Spring|\n",
      "+-----+--------------------+---+-----+----+-------+-------+---------+-------+-------+\n",
      "only showing top 20 rows\n",
      "\n"
     ]
    }
   ],
   "source": [
    "refined = refineTime.transform(selected)\n",
    "refined.show()"
   ]
  },
  {
   "cell_type": "markdown",
   "metadata": {},
   "source": [
    "### Remove neutral reviews and classify the Scores\n",
    "\n",
    "We are not interested in the neutral reviews (reviews with the `Score=3`) as they would not add much information to the model"
   ]
  },
  {
   "cell_type": "code",
   "execution_count": 10,
   "metadata": {},
   "outputs": [],
   "source": [
    "from pyspark.sql.types import FloatType\n",
    "from pyspark.sql.functions import col, udf\n",
    "from pyspark.ml import Pipeline\n",
    "from pyspark.ml.feature import Tokenizer, RegexTokenizer, StopWordsRemover, IDF, CountVectorizer\n",
    "\n",
    "filterScore = SQLTransformer(\n",
    "    statement=\"\"\"\n",
    "    SELECT  IF(Score<3,'NEGATIVE', 'POSITIVE') as Sentiment, Summary, Day, Month, Year,\n",
    "            WeekNum, WeekDay, HourOfDay, Weekend, Seasson \n",
    "    FROM __THIS__ WHERE Score !=3 \"\"\")\n",
    "\n"
   ]
  },
  {
   "cell_type": "markdown",
   "metadata": {},
   "source": [
    " Inspect the data"
   ]
  },
  {
   "cell_type": "code",
   "execution_count": 11,
   "metadata": {},
   "outputs": [
    {
     "name": "stdout",
     "output_type": "stream",
     "text": [
      "+---------+--------------------+---+-----+----+-------+-------+---------+-------+-------+\n",
      "|Sentiment|             Summary|Day|Month|Year|WeekNum|WeekDay|HourOfDay|Weekend|Seasson|\n",
      "+---------+--------------------+---+-----+----+-------+-------+---------+-------+-------+\n",
      "| POSITIVE|Good Quality Dog ...| 26|    4|2011|     17|    Tue|       17|      0| Spring|\n",
      "| NEGATIVE|   Not as Advertised|  6|    9|2012|     36|    Thu|       17|      0| Spring|\n",
      "| POSITIVE|\"\"Delight\"\" says ...| 17|    8|2008|     33|    Sun|       17|      1| Spring|\n",
      "| NEGATIVE|      Cough Medicine| 12|    6|2011|     23|    Sun|       17|      1| Spring|\n",
      "| POSITIVE|         Great taffy| 20|   10|2012|     42|    Sat|       17|      1| Spring|\n",
      "| POSITIVE|          Nice Taffy| 11|    7|2012|     28|    Wed|       17|      0| Spring|\n",
      "| POSITIVE|Great!  Just as g...| 19|    6|2012|     25|    Tue|       17|      0| Spring|\n",
      "| POSITIVE|Wonderful, tasty ...|  2|    5|2012|     18|    Wed|       17|      0| Spring|\n",
      "| POSITIVE|          Yay Barley| 22|   11|2011|     47|    Tue|       16|      0| Spring|\n",
      "| POSITIVE|    Healthy Dog Food| 25|   10|2012|     43|    Thu|       17|      0| Spring|\n",
      "| POSITIVE|The Best Hot Sauc...|  7|    2|2005|      6|    Mon|       16|      0| Winter|\n",
      "| POSITIVE|My cats LOVE this...| 26|    8|2010|     34|    Thu|       17|      0| Spring|\n",
      "| NEGATIVE|My Cats Are Not F...| 12|    6|2012|     24|    Tue|       17|      0| Spring|\n",
      "| POSITIVE|   fresh and greasy!|  4|   11|2010|     44|    Thu|       17|      0| Spring|\n",
      "| POSITIVE|Strawberry Twizzl...| 11|    3|2010|     10|    Thu|       16|      0| Spring|\n",
      "| POSITIVE|Lots of twizzlers...| 28|   12|2009|     53|    Mon|       16|      0| Winter|\n",
      "| NEGATIVE|          poor taste| 19|    9|2012|     38|    Wed|       17|      0| Spring|\n",
      "| POSITIVE|            Love it!| 15|    8|2012|     33|    Wed|       17|      0| Spring|\n",
      "| POSITIVE|  GREAT SWEET CANDY!| 22|   12|2011|     51|    Thu|       16|      0| Winter|\n",
      "| POSITIVE|Home delivered tw...|  7|   10|2011|     40|    Fri|       17|      0| Spring|\n",
      "+---------+--------------------+---+-----+----+-------+-------+---------+-------+-------+\n",
      "only showing top 20 rows\n",
      "\n"
     ]
    }
   ],
   "source": [
    "filtered = filterScore.transform(refined)\n",
    "filtered.show()"
   ]
  },
  {
   "cell_type": "markdown",
   "metadata": {},
   "source": [
    "### Tokenize the message\n",
    "\n",
    "Here we use the [RegexTokenizer](https://spark.apache.org/docs/2.1.0/ml-features.html#tokenizer) to tokenize the messages."
   ]
  },
  {
   "cell_type": "code",
   "execution_count": 12,
   "metadata": {},
   "outputs": [],
   "source": [
    "regexTokenizer = RegexTokenizer(inputCol=\"Summary\",\n",
    "                                outputCol=\"tokenized_summary\",\n",
    "                                pattern=\"[, ]\",\n",
    "                                toLowercase=True)"
   ]
  },
  {
   "cell_type": "markdown",
   "metadata": {},
   "source": [
    "Inspect the data"
   ]
  },
  {
   "cell_type": "code",
   "execution_count": 13,
   "metadata": {},
   "outputs": [
    {
     "name": "stdout",
     "output_type": "stream",
     "text": [
      "+---------+--------------------+---+-----+----+-------+-------+---------+-------+-------+--------------------+\n",
      "|Sentiment|             Summary|Day|Month|Year|WeekNum|WeekDay|HourOfDay|Weekend|Seasson|   tokenized_summary|\n",
      "+---------+--------------------+---+-----+----+-------+-------+---------+-------+-------+--------------------+\n",
      "| POSITIVE|Good Quality Dog ...| 26|    4|2011|     17|    Tue|       17|      0| Spring|[good, quality, d...|\n",
      "| NEGATIVE|   Not as Advertised|  6|    9|2012|     36|    Thu|       17|      0| Spring|[not, as, adverti...|\n",
      "| POSITIVE|\"\"Delight\"\" says ...| 17|    8|2008|     33|    Sun|       17|      1| Spring|[\"\"delight\"\", say...|\n",
      "| NEGATIVE|      Cough Medicine| 12|    6|2011|     23|    Sun|       17|      1| Spring|   [cough, medicine]|\n",
      "| POSITIVE|         Great taffy| 20|   10|2012|     42|    Sat|       17|      1| Spring|      [great, taffy]|\n",
      "| POSITIVE|          Nice Taffy| 11|    7|2012|     28|    Wed|       17|      0| Spring|       [nice, taffy]|\n",
      "| POSITIVE|Great!  Just as g...| 19|    6|2012|     25|    Tue|       17|      0| Spring|[great!, just, as...|\n",
      "| POSITIVE|Wonderful, tasty ...|  2|    5|2012|     18|    Wed|       17|      0| Spring|[wonderful, tasty...|\n",
      "| POSITIVE|          Yay Barley| 22|   11|2011|     47|    Tue|       16|      0| Spring|       [yay, barley]|\n",
      "| POSITIVE|    Healthy Dog Food| 25|   10|2012|     43|    Thu|       17|      0| Spring|[healthy, dog, food]|\n",
      "| POSITIVE|The Best Hot Sauc...|  7|    2|2005|      6|    Mon|       16|      0| Winter|[the, best, hot, ...|\n",
      "| POSITIVE|My cats LOVE this...| 26|    8|2010|     34|    Thu|       17|      0| Spring|[my, cats, love, ...|\n",
      "| NEGATIVE|My Cats Are Not F...| 12|    6|2012|     24|    Tue|       17|      0| Spring|[my, cats, are, n...|\n",
      "| POSITIVE|   fresh and greasy!|  4|   11|2010|     44|    Thu|       17|      0| Spring|[fresh, and, grea...|\n",
      "| POSITIVE|Strawberry Twizzl...| 11|    3|2010|     10|    Thu|       16|      0| Spring|[strawberry, twiz...|\n",
      "| POSITIVE|Lots of twizzlers...| 28|   12|2009|     53|    Mon|       16|      0| Winter|[lots, of, twizzl...|\n",
      "| NEGATIVE|          poor taste| 19|    9|2012|     38|    Wed|       17|      0| Spring|       [poor, taste]|\n",
      "| POSITIVE|            Love it!| 15|    8|2012|     33|    Wed|       17|      0| Spring|         [love, it!]|\n",
      "| POSITIVE|  GREAT SWEET CANDY!| 22|   12|2011|     51|    Thu|       16|      0| Winter|[great, sweet, ca...|\n",
      "| POSITIVE|Home delivered tw...|  7|   10|2011|     40|    Fri|       17|      0| Spring|[home, delivered,...|\n",
      "+---------+--------------------+---+-----+----+-------+-------+---------+-------+-------+--------------------+\n",
      "only showing top 20 rows\n",
      "\n"
     ]
    }
   ],
   "source": [
    "tokenized = regexTokenizer.transform(filtered)\n",
    "tokenized.show()"
   ]
  },
  {
   "cell_type": "markdown",
   "metadata": {},
   "source": [
    "### Remove unnecessary words\n",
    "\n",
    "Some words do not bring much information for the resulting model. For this, we use the [StopWordsRemover](https://spark.apache.org/docs/2.1.0/ml-features.html#stopwordsremover) to clean the data."
   ]
  },
  {
   "cell_type": "code",
   "execution_count": 14,
   "metadata": {},
   "outputs": [],
   "source": [
    "stopWordsRemover = StopWordsRemover(inputCol=regexTokenizer.getOutputCol(),\n",
    "                                    outputCol=\"CleanedSummary\",\n",
    "                                    caseSensitive=False)"
   ]
  },
  {
   "cell_type": "markdown",
   "metadata": {},
   "source": [
    "Inspect the data"
   ]
  },
  {
   "cell_type": "code",
   "execution_count": 15,
   "metadata": {},
   "outputs": [
    {
     "name": "stdout",
     "output_type": "stream",
     "text": [
      "+---------+--------------------+--------------------+\n",
      "|Sentiment|             Summary|      CleanedSummary|\n",
      "+---------+--------------------+--------------------+\n",
      "| POSITIVE|Good Quality Dog ...|[good, quality, d...|\n",
      "| NEGATIVE|   Not as Advertised|        [advertised]|\n",
      "| POSITIVE|\"\"Delight\"\" says ...| [\"\"delight\"\", says]|\n",
      "| NEGATIVE|      Cough Medicine|   [cough, medicine]|\n",
      "| POSITIVE|         Great taffy|      [great, taffy]|\n",
      "| POSITIVE|          Nice Taffy|       [nice, taffy]|\n",
      "| POSITIVE|Great!  Just as g...|[great!, good, ex...|\n",
      "| POSITIVE|Wonderful, tasty ...|[wonderful, tasty...|\n",
      "| POSITIVE|          Yay Barley|       [yay, barley]|\n",
      "| POSITIVE|    Healthy Dog Food|[healthy, dog, food]|\n",
      "| POSITIVE|The Best Hot Sauc...|[best, hot, sauce...|\n",
      "| POSITIVE|My cats LOVE this...|[cats, love, \"\"di...|\n",
      "| NEGATIVE|My Cats Are Not F...|[cats, fans, new,...|\n",
      "| POSITIVE|   fresh and greasy!|    [fresh, greasy!]|\n",
      "| POSITIVE|Strawberry Twizzl...|[strawberry, twiz...|\n",
      "| POSITIVE|Lots of twizzlers...|[lots, twizzlers,...|\n",
      "| NEGATIVE|          poor taste|       [poor, taste]|\n",
      "| POSITIVE|            Love it!|         [love, it!]|\n",
      "| POSITIVE|  GREAT SWEET CANDY!|[great, sweet, ca...|\n",
      "| POSITIVE|Home delivered tw...|[home, delivered,...|\n",
      "+---------+--------------------+--------------------+\n",
      "only showing top 20 rows\n",
      "\n"
     ]
    }
   ],
   "source": [
    "stopWordsRemoved = stopWordsRemover.transform(tokenized)\n",
    "stopWordsRemoved.select([\"Sentiment\", \"Summary\", \"CleanedSummary\"]).show()"
   ]
  },
  {
   "cell_type": "markdown",
   "metadata": {},
   "source": [
    "### Hash the words\n",
    "\n",
    "The algorithms can efficiently work with the numeric values hence we create a numeric representation of them using [CountVectorizer](https://spark.apache.org/docs/2.1.0/ml-features.html#countvectorizer).\n",
    "\n",
    "CountVectorizer is very similar to [HashingTF](https://spark.apache.org/docs/2.1.0/ml-features.html#tf-idf) function, except that it preserves the mapping from the index back to the word using internal vocabulary.\n",
    "\n",
    "For example, if word `Dog` is stored in the hash at the index `100`, we can get the word back as `countVectorizerModel.vocabulary[100]`\n",
    "\n",
    "#### Trick #3: Set minDF parameter to limit number of words\n",
    "\n",
    "The minDF parameter ensures that only words which occur more the 100 times in our case are included. This also speeds the process of modelling and ensures that outliers does not affect our model that much.\n"
   ]
  },
  {
   "cell_type": "code",
   "execution_count": 16,
   "metadata": {},
   "outputs": [],
   "source": [
    "countVectorizer = CountVectorizer(inputCol=stopWordsRemover.getOutputCol(),\n",
    "                                  outputCol=\"frequencies\",\n",
    "                                  minDF=100)"
   ]
  },
  {
   "cell_type": "markdown",
   "metadata": {},
   "source": [
    "#### Trick #4: Manually train the count vectorizer so we can see how it behaves before we execute the pipeline\n"
   ]
  },
  {
   "cell_type": "code",
   "execution_count": 17,
   "metadata": {},
   "outputs": [],
   "source": [
    "countVecModel = countVectorizer.fit(stopWordsRemoved)"
   ]
  },
  {
   "cell_type": "markdown",
   "metadata": {},
   "source": [
    "See the vocabulary"
   ]
  },
  {
   "cell_type": "code",
   "execution_count": 18,
   "metadata": {},
   "outputs": [
    {
     "name": "stdout",
     "output_type": "stream",
     "text": [
      "Vocabulary size is 1523\n",
      "[u'great', u'good', u'best', u'love', u'coffee', u'tea', u'product', u'taste', u'delicious', u'excellent']\n"
     ]
    }
   ],
   "source": [
    "print(\"Vocabulary size is \" + str(len(countVecModel.vocabulary)))\n",
    "\n",
    "print(countVecModel.vocabulary[:10])"
   ]
  },
  {
   "cell_type": "markdown",
   "metadata": {},
   "source": [
    "Inspect the data"
   ]
  },
  {
   "cell_type": "code",
   "execution_count": 19,
   "metadata": {},
   "outputs": [
    {
     "name": "stdout",
     "output_type": "stream",
     "text": [
      "+---------+--------------------+--------------------+\n",
      "|Sentiment|      CleanedSummary|         frequencies|\n",
      "+---------+--------------------+--------------------+\n",
      "| POSITIVE|[good, quality, d...|(1523,[1,10,12,35...|\n",
      "| NEGATIVE|        [advertised]|  (1523,[621],[1.0])|\n",
      "| POSITIVE| [\"\"delight\"\", says]|  (1523,[401],[1.0])|\n",
      "| NEGATIVE|   [cough, medicine]|        (1523,[],[])|\n",
      "| POSITIVE|      [great, taffy]|(1523,[0,1435],[1...|\n",
      "| POSITIVE|       [nice, taffy]|(1523,[30,1435],[...|\n",
      "| POSITIVE|[great!, good, ex...|(1523,[1,59,126],...|\n",
      "| POSITIVE|[wonderful, tasty...|(1523,[15,37,1435...|\n",
      "| POSITIVE|       [yay, barley]|        (1523,[],[])|\n",
      "| POSITIVE|[healthy, dog, food]|(1523,[10,12,21],...|\n",
      "| POSITIVE|[best, hot, sauce...|(1523,[2,44,86,45...|\n",
      "| POSITIVE|[cats, love, \"\"di...|(1523,[3,12,23,42...|\n",
      "| NEGATIVE|[cats, fans, new,...|(1523,[12,42,79],...|\n",
      "| POSITIVE|    [fresh, greasy!]|   (1523,[83],[1.0])|\n",
      "| POSITIVE|[strawberry, twiz...|(1523,[13,19,667]...|\n",
      "| POSITIVE|[lots, twizzlers,...|  (1523,[407],[1.0])|\n",
      "| NEGATIVE|       [poor, taste]|(1523,[7,178],[1....|\n",
      "| POSITIVE|         [love, it!]|(1523,[3,32],[1.0...|\n",
      "| POSITIVE|[great, sweet, ca...|(1523,[0,43,931],...|\n",
      "| POSITIVE|[home, delivered,...|(1523,[351,1083],...|\n",
      "+---------+--------------------+--------------------+\n",
      "only showing top 20 rows\n",
      "\n"
     ]
    }
   ],
   "source": [
    "vectorized = countVecModel.transform(stopWordsRemoved)\n",
    "vectorized.select([\"Sentiment\", \"CleanedSummary\", \"frequencies\"]).show()"
   ]
  },
  {
   "cell_type": "markdown",
   "metadata": {
    "collapsed": true
   },
   "source": [
    "### Create inverse document frequencies model\n",
    "\n",
    "Here we use [tf-idf](https://spark.apache.org/docs/2.1.0/ml-features.html#tf-idf) method to reflect the importance of a term to a document in the given set of data. Please see the Spark documentation for more information at [tf-idf](https://spark.apache.org/docs/2.1.0/ml-features.html#tf-idf)."
   ]
  },
  {
   "cell_type": "code",
   "execution_count": 20,
   "metadata": {},
   "outputs": [],
   "source": [
    "idf = IDF(inputCol=countVectorizer.getOutputCol(),\n",
    "          outputCol=\"tf_idf_frequencies\",\n",
    "          minDocFreq=1)"
   ]
  },
  {
   "cell_type": "markdown",
   "metadata": {},
   "source": [
    "Manually train the IDF model to see the results before we execute the pipeline"
   ]
  },
  {
   "cell_type": "code",
   "execution_count": 21,
   "metadata": {},
   "outputs": [],
   "source": [
    "idfModel = idf.fit(vectorized)"
   ]
  },
  {
   "cell_type": "markdown",
   "metadata": {},
   "source": [
    "Inspect the data"
   ]
  },
  {
   "cell_type": "code",
   "execution_count": 22,
   "metadata": {},
   "outputs": [
    {
     "name": "stdout",
     "output_type": "stream",
     "text": [
      "+---------+--------------------+--------------------+--------------------+\n",
      "|Sentiment|      CleanedSummary|         frequencies|  tf_idf_frequencies|\n",
      "+---------+--------------------+--------------------+--------------------+\n",
      "| POSITIVE|[good, quality, d...|(1523,[1,10,12,35...|(1523,[1,10,12,35...|\n",
      "| NEGATIVE|        [advertised]|  (1523,[621],[1.0])|(1523,[621],[7.32...|\n",
      "| POSITIVE| [\"\"delight\"\", says]|  (1523,[401],[1.0])|(1523,[401],[6.86...|\n",
      "| NEGATIVE|   [cough, medicine]|        (1523,[],[])|        (1523,[],[])|\n",
      "| POSITIVE|      [great, taffy]|(1523,[0,1435],[1...|(1523,[0,1435],[2...|\n",
      "| POSITIVE|       [nice, taffy]|(1523,[30,1435],[...|(1523,[30,1435],[...|\n",
      "| POSITIVE|[great!, good, ex...|(1523,[1,59,126],...|(1523,[1,59,126],...|\n",
      "| POSITIVE|[wonderful, tasty...|(1523,[15,37,1435...|(1523,[15,37,1435...|\n",
      "| POSITIVE|       [yay, barley]|        (1523,[],[])|        (1523,[],[])|\n",
      "| POSITIVE|[healthy, dog, food]|(1523,[10,12,21],...|(1523,[10,12,21],...|\n",
      "| POSITIVE|[best, hot, sauce...|(1523,[2,44,86,45...|(1523,[2,44,86,45...|\n",
      "| POSITIVE|[cats, love, \"\"di...|(1523,[3,12,23,42...|(1523,[3,12,23,42...|\n",
      "| NEGATIVE|[cats, fans, new,...|(1523,[12,42,79],...|(1523,[12,42,79],...|\n",
      "| POSITIVE|    [fresh, greasy!]|   (1523,[83],[1.0])|(1523,[83],[5.508...|\n",
      "| POSITIVE|[strawberry, twiz...|(1523,[13,19,667]...|(1523,[13,19,667]...|\n",
      "| POSITIVE|[lots, twizzlers,...|  (1523,[407],[1.0])|(1523,[407],[6.88...|\n",
      "| NEGATIVE|       [poor, taste]|(1523,[7,178],[1....|(1523,[7,178],[3....|\n",
      "| POSITIVE|         [love, it!]|(1523,[3,32],[1.0...|(1523,[3,32],[3.0...|\n",
      "| POSITIVE|[great, sweet, ca...|(1523,[0,43,931],...|(1523,[0,43,931],...|\n",
      "| POSITIVE|[home, delivered,...|(1523,[351,1083],...|(1523,[351,1083],...|\n",
      "+---------+--------------------+--------------------+--------------------+\n",
      "only showing top 20 rows\n",
      "\n"
     ]
    }
   ],
   "source": [
    "afterIdf = idfModel.transform(vectorized)\n",
    "afterIdf.select([\"Sentiment\", \"CleanedSummary\", \"frequencies\", \"tf_idf_frequencies\"]).show()"
   ]
  },
  {
   "cell_type": "markdown",
   "metadata": {
    "collapsed": true
   },
   "source": [
    "### Remove Summary Column\n",
    "\n",
    "The algoritms do not understand the string values very well. This is also the reason why we transformed the data using TF-IDF and created a numeric values out of the `Summary` column. Now we can drop the original string information so we do not confuse the model.\n"
   ]
  },
  {
   "cell_type": "code",
   "execution_count": 23,
   "metadata": {},
   "outputs": [],
   "source": [
    "removeSummary = SQLTransformer(\n",
    "    statement=\"\"\"\n",
    "    SELECT Sentiment, Day, Month, Year, WeekNum, WeekDay, HourOfDay, Weekend, Seasson, tf_idf_frequencies\n",
    "    FROM __THIS__ \"\"\")"
   ]
  },
  {
   "cell_type": "markdown",
   "metadata": {},
   "source": [
    "Inspect the data"
   ]
  },
  {
   "cell_type": "code",
   "execution_count": 24,
   "metadata": {},
   "outputs": [
    {
     "name": "stdout",
     "output_type": "stream",
     "text": [
      "+---------+---+-----+----+-------+-------+---------+-------+-------+--------------------+\n",
      "|Sentiment|Day|Month|Year|WeekNum|WeekDay|HourOfDay|Weekend|Seasson|  tf_idf_frequencies|\n",
      "+---------+---+-----+----+-------+-------+---------+-------+-------+--------------------+\n",
      "| POSITIVE| 26|    4|2011|     17|    Tue|       17|      0| Spring|(1523,[1,10,12,35...|\n",
      "| NEGATIVE|  6|    9|2012|     36|    Thu|       17|      0| Spring|(1523,[621],[7.32...|\n",
      "| POSITIVE| 17|    8|2008|     33|    Sun|       17|      1| Spring|(1523,[401],[6.86...|\n",
      "| NEGATIVE| 12|    6|2011|     23|    Sun|       17|      1| Spring|        (1523,[],[])|\n",
      "| POSITIVE| 20|   10|2012|     42|    Sat|       17|      1| Spring|(1523,[0,1435],[2...|\n",
      "| POSITIVE| 11|    7|2012|     28|    Wed|       17|      0| Spring|(1523,[30,1435],[...|\n",
      "| POSITIVE| 19|    6|2012|     25|    Tue|       17|      0| Spring|(1523,[1,59,126],...|\n",
      "| POSITIVE|  2|    5|2012|     18|    Wed|       17|      0| Spring|(1523,[15,37,1435...|\n",
      "| POSITIVE| 22|   11|2011|     47|    Tue|       16|      0| Spring|        (1523,[],[])|\n",
      "| POSITIVE| 25|   10|2012|     43|    Thu|       17|      0| Spring|(1523,[10,12,21],...|\n",
      "| POSITIVE|  7|    2|2005|      6|    Mon|       16|      0| Winter|(1523,[2,44,86,45...|\n",
      "| POSITIVE| 26|    8|2010|     34|    Thu|       17|      0| Spring|(1523,[3,12,23,42...|\n",
      "| NEGATIVE| 12|    6|2012|     24|    Tue|       17|      0| Spring|(1523,[12,42,79],...|\n",
      "| POSITIVE|  4|   11|2010|     44|    Thu|       17|      0| Spring|(1523,[83],[5.508...|\n",
      "| POSITIVE| 11|    3|2010|     10|    Thu|       16|      0| Spring|(1523,[13,19,667]...|\n",
      "| POSITIVE| 28|   12|2009|     53|    Mon|       16|      0| Winter|(1523,[407],[6.88...|\n",
      "| NEGATIVE| 19|    9|2012|     38|    Wed|       17|      0| Spring|(1523,[7,178],[3....|\n",
      "| POSITIVE| 15|    8|2012|     33|    Wed|       17|      0| Spring|(1523,[3,32],[3.0...|\n",
      "| POSITIVE| 22|   12|2011|     51|    Thu|       16|      0| Winter|(1523,[0,43,931],...|\n",
      "| POSITIVE|  7|   10|2011|     40|    Fri|       17|      0| Spring|(1523,[351,1083],...|\n",
      "+---------+---+-----+----+-------+-------+---------+-------+-------+--------------------+\n",
      "only showing top 20 rows\n",
      "\n"
     ]
    }
   ],
   "source": [
    "removedSummary = removeSummary.transform(afterIdf)\n",
    "removedSummary.show()"
   ]
  },
  {
   "cell_type": "markdown",
   "metadata": {},
   "source": [
    "### Create GBM model\n",
    "\n",
    "Here we are using H2O's estimator to train a H2O GBM model on `Sentiment` column with 50 trees (default). The full documentation for GBM is available at [H2O Documentation](http://docs.h2o.ai/h2o/latest-stable/h2o-docs/data-science/gbm.html)"
   ]
  },
  {
   "cell_type": "code",
   "execution_count": 25,
   "metadata": {},
   "outputs": [],
   "source": [
    "from pysparkling.ml import ColumnPruner, H2OGBM\n",
    "\n",
    "gbm = H2OGBM(ratio=0.8,\n",
    "             featuresCols=[idf.getOutputCol()],\n",
    "             predictionCol=\"Sentiment\")"
   ]
  },
  {
   "cell_type": "markdown",
   "metadata": {},
   "source": [
    "###  Create the pipeline by defining all the stages\n",
    "\n",
    "Now we have all the pieces ready and can define the final pipeline."
   ]
  },
  {
   "cell_type": "code",
   "execution_count": null,
   "metadata": {},
   "outputs": [],
   "source": [
    "pipeline = Pipeline(stages=[colSelect,\n",
    "                            refineTime,\n",
    "                            filterScore,\n",
    "                            regexTokenizer,\n",
    "                            stopWordsRemover,\n",
    "                            countVectorizer,\n",
    "                            idf,\n",
    "                            removeSummary,\n",
    "                            gbm])"
   ]
  },
  {
   "cell_type": "markdown",
   "metadata": {},
   "source": [
    "## Train the pipeline model\n",
    "\n",
    "The `fit` call calls each trasformer and estimator in the pipeline and creates so called the `PipelineModel`. The model is trained from the cleaned data from previous transformers and the final model is ready to accept the raw data to make predictions"
   ]
  },
  {
   "cell_type": "code",
   "execution_count": null,
   "metadata": {},
   "outputs": [],
   "source": [
    "model = pipeline.fit(reviews_spark)"
   ]
  },
  {
   "cell_type": "markdown",
   "metadata": {},
   "source": [
    "### Try predictions\n",
    "\n",
    "First, lets load data we use for the predictions"
   ]
  },
  {
   "cell_type": "code",
   "execution_count": null,
   "metadata": {},
   "outputs": [],
   "source": [
    "reviews_h2o_pred = h2o.upload_file(\"../data/kuba/AmazonReviews_Predictions.csv\", \"reviews_preds.hex\")"
   ]
  },
  {
   "cell_type": "markdown",
   "metadata": {},
   "source": [
    "And convert them to Spark so we can run the Spark pipeline on it"
   ]
  },
  {
   "cell_type": "code",
   "execution_count": null,
   "metadata": {},
   "outputs": [],
   "source": [
    "reviews_spark_pred = hc.as_spark_frame(reviews_h2o_pred)"
   ]
  },
  {
   "cell_type": "markdown",
   "metadata": {},
   "source": [
    "And run the predictions"
   ]
  },
  {
   "cell_type": "code",
   "execution_count": null,
   "metadata": {},
   "outputs": [],
   "source": [
    "\n",
    "model.transform(reviews_spark_pred).show()"
   ]
  },
  {
   "cell_type": "markdown",
   "metadata": {},
   "source": [
    "## Save the pipeline model\n",
    "\n",
    "Later we use the pipeline model in the Scala to demonstrate the deployment of the pipeline in the JVM world"
   ]
  },
  {
   "cell_type": "code",
   "execution_count": null,
   "metadata": {},
   "outputs": [],
   "source": [
    "model.write().overwrite().save(\"reviews_pipeline.model\")"
   ]
  },
  {
   "cell_type": "markdown",
   "metadata": {},
   "source": [
    "#### Trick #5: Check variable inportances\n",
    "\n",
    "We can inspect the model in Flow and see the variable importances. However we do not have information about the words, just the indices. We can ask the `CountVectorizer` what word is on the specific index to see what words affect our model the most."
   ]
  },
  {
   "cell_type": "code",
   "execution_count": null,
   "metadata": {},
   "outputs": [],
   "source": [
    "model.stages[5].vocabulary[0]"
   ]
  },
  {
   "cell_type": "markdown",
   "metadata": {},
   "source": [
    "### Let's deploy the application\n",
    "\n",
    "Right now, we defined the PySPark pipeline. We will now demonstrate its deployment using Spark Streaming application in Scala where the pipeline defined above will receive raw streaming data and run preditions on them right away.\n",
    "\n",
    "The steps will be:\n",
    "\n",
    " - Load the schema from the schema file\n",
    " - Create input data stream and pass it the schema. The input data stream will point to a directory where a new csv files will be comming from different streaming sources\n",
    " - Load the pipeline from the pipeline file\n",
    " - Create output data stream. For our purposes, we store the data into memory and also to a SparkSQL table\n",
    " - We can inspect the predictions  by regularly displaying the content of the desired table"
   ]
  },
  {
   "cell_type": "markdown",
   "metadata": {},
   "source": [
    "The steps above are written using Scala as:\n",
    "```\n",
    " val spark = SparkSession.builder().master(\"local\").getOrCreate()\n",
    "\n",
    "      //\n",
    "      // Load exported pipeline\n",
    "      //\n",
    "      import org.apache.spark.sql.types.DataType\n",
    "      val pipelineModel = PipelineModel.read.load(\"py/examples/pipelines/reviews_pipeline.model/\")\n",
    "\n",
    "      //\n",
    "      // Load exported schema of input data\n",
    "      //\n",
    "      val schema = StructType(DataType.fromJson(scala.io.Source.fromFile(\"py/examples/pipeline/schema.json\").mkString).asInstanceOf[StructType].map {\n",
    "        case StructField(name, dtype, nullable, metadata) => StructField(name, dtype, true, metadata)\n",
    "        case rec => rec\n",
    "      })\n",
    "      println(schema)\n",
    "\n",
    "      //\n",
    "      // Define input stream\n",
    "      //\n",
    "      val inputDataStream = spark.readStream.schema(schema).csv(\"py/examples/pipeline/data/kuba/input/*.csv\")\n",
    "\n",
    "      //\n",
    "      // Apply loaded model\n",
    "      //\n",
    "      val outputDataStream = pipelineModel.transform(inputDataStream)\n",
    "\n",
    "      //\n",
    "      // Forward output stream into memory-sink\n",
    "      //\n",
    "      outputDataStream.writeStream.format(\"memory\").queryName(\"predictions\").start()\n",
    "\n",
    "      //\n",
    "      // Query results\n",
    "      //\n",
    "      while(true){\n",
    "        spark.sql(\"select * from predictions\").show()\n",
    "        Thread.sleep(5000)\n",
    "      }\n",
    "```"
   ]
  },
  {
   "cell_type": "markdown",
   "metadata": {},
   "source": [
    "### Let's see it in practice!"
   ]
  }
 ],
 "metadata": {
  "kernelspec": {
   "display_name": "Python 2",
   "language": "python",
   "name": "python2"
  }
 },
 "nbformat": 4,
 "nbformat_minor": 2
}
