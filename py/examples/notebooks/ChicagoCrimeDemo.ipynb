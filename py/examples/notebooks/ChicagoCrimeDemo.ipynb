{
 "cells": [
  {
   "cell_type": "code",
   "execution_count": 1,
   "metadata": {
    "collapsed": false
   },
   "outputs": [
    {
     "name": "stdout",
     "output_type": "stream",
     "text": [
      "Connecting to H2O server at http://172.16.2.139:54327... successful.\n"
     ]
    },
    {
     "data": {
      "text/html": [
       "<div style=\"overflow:auto\"><table style=\"width:50%\"><tr><td>H2O cluster uptime:</td>\n",
       "<td>15 secs</td></tr>\n",
       "<tr><td>H2O cluster version:</td>\n",
       "<td>3.10.4.4</td></tr>\n",
       "<tr><td>H2O cluster version age:</td>\n",
       "<td>4 days </td></tr>\n",
       "<tr><td>H2O cluster name:</td>\n",
       "<td>sparkling-water-kuba_619243760</td></tr>\n",
       "<tr><td>H2O cluster total nodes:</td>\n",
       "<td>3</td></tr>\n",
       "<tr><td>H2O cluster free memory:</td>\n",
       "<td>2.280 Gb</td></tr>\n",
       "<tr><td>H2O cluster total cores:</td>\n",
       "<td>24</td></tr>\n",
       "<tr><td>H2O cluster allowed cores:</td>\n",
       "<td>24</td></tr>\n",
       "<tr><td>H2O cluster status:</td>\n",
       "<td>accepting new members, healthy</td></tr>\n",
       "<tr><td>H2O connection url:</td>\n",
       "<td>http://172.16.2.139:54327</td></tr>\n",
       "<tr><td>H2O connection proxy:</td>\n",
       "<td>None</td></tr>\n",
       "<tr><td>H2O internal security:</td>\n",
       "<td>False</td></tr>\n",
       "<tr><td>Python version:</td>\n",
       "<td>2.7.13 final</td></tr></table></div>"
      ],
      "text/plain": [
       "--------------------------  ------------------------------\n",
       "H2O cluster uptime:         15 secs\n",
       "H2O cluster version:        3.10.4.4\n",
       "H2O cluster version age:    4 days\n",
       "H2O cluster name:           sparkling-water-kuba_619243760\n",
       "H2O cluster total nodes:    3\n",
       "H2O cluster free memory:    2.280 Gb\n",
       "H2O cluster total cores:    24\n",
       "H2O cluster allowed cores:  24\n",
       "H2O cluster status:         accepting new members, healthy\n",
       "H2O connection url:         http://172.16.2.139:54327\n",
       "H2O connection proxy:\n",
       "H2O internal security:      False\n",
       "Python version:             2.7.13 final\n",
       "--------------------------  ------------------------------"
      ]
     },
     "metadata": {},
     "output_type": "execute_result"
    }
   ],
   "source": [
    "#Initiate H2OContext on top of Spark\n",
    "from pysparkling import *\n",
    "hc = H2OContext.getOrCreate(spark)"
   ]
  },
  {
   "cell_type": "code",
   "execution_count": 2,
   "metadata": {
    "collapsed": false
   },
   "outputs": [
    {
     "name": "stdout",
     "output_type": "stream",
     "text": [
      "Parse progress: |█████████████████████████████████████████████████████████| 100%\n",
      "Parse progress: |█████████████████████████████████████████████████████████| 100%\n",
      "Parse progress: |█████████████████████████████████████████████████████████| 100%\n"
     ]
    }
   ],
   "source": [
    "# This is just helper function returning relative path to data files within sparkling-water project directories\n",
    "def _locate(example_name): \n",
    "    return \"../../../examples/smalldata/\" + example_name \n",
    "\n",
    "\n",
    "# Define file names\n",
    "chicagoAllWeather = \"chicagoAllWeather.csv\"\n",
    "chicagoCensus = \"chicagoCensus.csv\"\n",
    "chicagoCrimes10k = \"chicagoCrimes10k.csv\"\n",
    "\n",
    "import h2o\n",
    "# h2o.import_file expects cluster-relative path\n",
    "f_weather = h2o.upload_file(_locate(chicagoAllWeather))\n",
    "f_census = h2o.upload_file(_locate(chicagoCensus))\n",
    "f_crimes = h2o.upload_file(_locate(chicagoCrimes10k), col_types = {\"Date\": \"string\"})"
   ]
  },
  {
   "cell_type": "code",
   "execution_count": 3,
   "metadata": {
    "collapsed": false
   },
   "outputs": [
    {
     "data": {
      "text/html": [
       "<table>\n",
       "<thead>\n",
       "<tr><th>date               </th><th style=\"text-align: right;\">  month</th><th style=\"text-align: right;\">  day</th><th style=\"text-align: right;\">  year</th><th style=\"text-align: right;\">  maxTemp</th><th style=\"text-align: right;\">  meanTemp</th><th style=\"text-align: right;\">  minTemp</th></tr>\n",
       "</thead>\n",
       "<tbody>\n",
       "<tr><td>2001-01-01 00:00:00</td><td style=\"text-align: right;\">      1</td><td style=\"text-align: right;\">    1</td><td style=\"text-align: right;\">  2001</td><td style=\"text-align: right;\">       23</td><td style=\"text-align: right;\">        14</td><td style=\"text-align: right;\">        6</td></tr>\n",
       "<tr><td>2001-01-02 00:00:00</td><td style=\"text-align: right;\">      1</td><td style=\"text-align: right;\">    2</td><td style=\"text-align: right;\">  2001</td><td style=\"text-align: right;\">       18</td><td style=\"text-align: right;\">        12</td><td style=\"text-align: right;\">        6</td></tr>\n",
       "<tr><td>2001-01-03 00:00:00</td><td style=\"text-align: right;\">      1</td><td style=\"text-align: right;\">    3</td><td style=\"text-align: right;\">  2001</td><td style=\"text-align: right;\">       28</td><td style=\"text-align: right;\">        18</td><td style=\"text-align: right;\">        8</td></tr>\n",
       "<tr><td>2001-01-04 00:00:00</td><td style=\"text-align: right;\">      1</td><td style=\"text-align: right;\">    4</td><td style=\"text-align: right;\">  2001</td><td style=\"text-align: right;\">       30</td><td style=\"text-align: right;\">        24</td><td style=\"text-align: right;\">       19</td></tr>\n",
       "<tr><td>2001-01-05 00:00:00</td><td style=\"text-align: right;\">      1</td><td style=\"text-align: right;\">    5</td><td style=\"text-align: right;\">  2001</td><td style=\"text-align: right;\">       36</td><td style=\"text-align: right;\">        30</td><td style=\"text-align: right;\">       21</td></tr>\n",
       "<tr><td>2001-01-06 00:00:00</td><td style=\"text-align: right;\">      1</td><td style=\"text-align: right;\">    6</td><td style=\"text-align: right;\">  2001</td><td style=\"text-align: right;\">       33</td><td style=\"text-align: right;\">        26</td><td style=\"text-align: right;\">       19</td></tr>\n",
       "<tr><td>2001-01-07 00:00:00</td><td style=\"text-align: right;\">      1</td><td style=\"text-align: right;\">    7</td><td style=\"text-align: right;\">  2001</td><td style=\"text-align: right;\">       34</td><td style=\"text-align: right;\">        28</td><td style=\"text-align: right;\">       21</td></tr>\n",
       "<tr><td>2001-01-08 00:00:00</td><td style=\"text-align: right;\">      1</td><td style=\"text-align: right;\">    8</td><td style=\"text-align: right;\">  2001</td><td style=\"text-align: right;\">       26</td><td style=\"text-align: right;\">        20</td><td style=\"text-align: right;\">       14</td></tr>\n",
       "<tr><td>2001-01-09 00:00:00</td><td style=\"text-align: right;\">      1</td><td style=\"text-align: right;\">    9</td><td style=\"text-align: right;\">  2001</td><td style=\"text-align: right;\">       23</td><td style=\"text-align: right;\">        16</td><td style=\"text-align: right;\">       10</td></tr>\n",
       "<tr><td>2001-01-10 00:00:00</td><td style=\"text-align: right;\">      1</td><td style=\"text-align: right;\">   10</td><td style=\"text-align: right;\">  2001</td><td style=\"text-align: right;\">       34</td><td style=\"text-align: right;\">        26</td><td style=\"text-align: right;\">       19</td></tr>\n",
       "</tbody>\n",
       "</table>"
      ]
     },
     "metadata": {},
     "output_type": "execute_result"
    },
    {
     "data": {
      "text/html": [
       "<table>\n",
       "<thead>\n",
       "<tr><th style=\"text-align: right;\">  Community Area Number</th><th>COMMUNITY AREA NAME  </th><th style=\"text-align: right;\">  PERCENT OF HOUSING CROWDED</th><th style=\"text-align: right;\">  PERCENT HOUSEHOLDS BELOW POVERTY</th><th style=\"text-align: right;\">  PERCENT AGED 16+ UNEMPLOYED</th><th style=\"text-align: right;\">  PERCENT AGED 25+ WITHOUT HIGH SCHOOL DIPLOMA</th><th style=\"text-align: right;\">  PERCENT AGED UNDER 18 OR OVER 64</th><th style=\"text-align: right;\">  PER CAPITA INCOME </th><th style=\"text-align: right;\">  HARDSHIP INDEX</th></tr>\n",
       "</thead>\n",
       "<tbody>\n",
       "<tr><td style=\"text-align: right;\">                      1</td><td>Rogers Park          </td><td style=\"text-align: right;\">                         7.7</td><td style=\"text-align: right;\">                              23.6</td><td style=\"text-align: right;\">                          8.7</td><td style=\"text-align: right;\">                                          18.2</td><td style=\"text-align: right;\">                              27.5</td><td style=\"text-align: right;\">               23939</td><td style=\"text-align: right;\">              39</td></tr>\n",
       "<tr><td style=\"text-align: right;\">                      2</td><td>West Ridge           </td><td style=\"text-align: right;\">                         7.8</td><td style=\"text-align: right;\">                              17.2</td><td style=\"text-align: right;\">                          8.8</td><td style=\"text-align: right;\">                                          20.8</td><td style=\"text-align: right;\">                              38.5</td><td style=\"text-align: right;\">               23040</td><td style=\"text-align: right;\">              46</td></tr>\n",
       "<tr><td style=\"text-align: right;\">                      3</td><td>Uptown               </td><td style=\"text-align: right;\">                         3.8</td><td style=\"text-align: right;\">                              24  </td><td style=\"text-align: right;\">                          8.9</td><td style=\"text-align: right;\">                                          11.8</td><td style=\"text-align: right;\">                              22.2</td><td style=\"text-align: right;\">               35787</td><td style=\"text-align: right;\">              20</td></tr>\n",
       "<tr><td style=\"text-align: right;\">                      4</td><td>Lincoln Square       </td><td style=\"text-align: right;\">                         3.4</td><td style=\"text-align: right;\">                              10.9</td><td style=\"text-align: right;\">                          8.2</td><td style=\"text-align: right;\">                                          13.4</td><td style=\"text-align: right;\">                              25.5</td><td style=\"text-align: right;\">               37524</td><td style=\"text-align: right;\">              17</td></tr>\n",
       "<tr><td style=\"text-align: right;\">                      5</td><td>North Center         </td><td style=\"text-align: right;\">                         0.3</td><td style=\"text-align: right;\">                               7.5</td><td style=\"text-align: right;\">                          5.2</td><td style=\"text-align: right;\">                                           4.5</td><td style=\"text-align: right;\">                              26.2</td><td style=\"text-align: right;\">               57123</td><td style=\"text-align: right;\">               6</td></tr>\n",
       "<tr><td style=\"text-align: right;\">                      6</td><td>Lake View            </td><td style=\"text-align: right;\">                         1.1</td><td style=\"text-align: right;\">                              11.4</td><td style=\"text-align: right;\">                          4.7</td><td style=\"text-align: right;\">                                           2.6</td><td style=\"text-align: right;\">                              17  </td><td style=\"text-align: right;\">               60058</td><td style=\"text-align: right;\">               5</td></tr>\n",
       "<tr><td style=\"text-align: right;\">                      7</td><td>Lincoln Park         </td><td style=\"text-align: right;\">                         0.8</td><td style=\"text-align: right;\">                              12.3</td><td style=\"text-align: right;\">                          5.1</td><td style=\"text-align: right;\">                                           3.6</td><td style=\"text-align: right;\">                              21.5</td><td style=\"text-align: right;\">               71551</td><td style=\"text-align: right;\">               2</td></tr>\n",
       "<tr><td style=\"text-align: right;\">                      8</td><td>Near North Side      </td><td style=\"text-align: right;\">                         1.9</td><td style=\"text-align: right;\">                              12.9</td><td style=\"text-align: right;\">                          7  </td><td style=\"text-align: right;\">                                           2.5</td><td style=\"text-align: right;\">                              22.6</td><td style=\"text-align: right;\">               88669</td><td style=\"text-align: right;\">               1</td></tr>\n",
       "<tr><td style=\"text-align: right;\">                      9</td><td>Edison Park          </td><td style=\"text-align: right;\">                         1.1</td><td style=\"text-align: right;\">                               3.3</td><td style=\"text-align: right;\">                          6.5</td><td style=\"text-align: right;\">                                           7.4</td><td style=\"text-align: right;\">                              35.3</td><td style=\"text-align: right;\">               40959</td><td style=\"text-align: right;\">               8</td></tr>\n",
       "<tr><td style=\"text-align: right;\">                     10</td><td>Norwood Park         </td><td style=\"text-align: right;\">                         2  </td><td style=\"text-align: right;\">                               5.4</td><td style=\"text-align: right;\">                          9  </td><td style=\"text-align: right;\">                                          11.5</td><td style=\"text-align: right;\">                              39.5</td><td style=\"text-align: right;\">               32875</td><td style=\"text-align: right;\">              21</td></tr>\n",
       "</tbody>\n",
       "</table>"
      ]
     },
     "metadata": {},
     "output_type": "execute_result"
    },
    {
     "data": {
      "text/html": [
       "<table>\n",
       "<thead>\n",
       "<tr><th style=\"text-align: right;\">             ID</th><th>Case Number  </th><th>Date                  </th><th>Block               </th><th style=\"text-align: right;\">  IUCR</th><th>Primary Type   </th><th>Description                 </th><th>Location Description  </th><th>Arrest  </th><th>Domestic  </th><th style=\"text-align: right;\">  Beat</th><th style=\"text-align: right;\">  District</th><th style=\"text-align: right;\">  Ward</th><th style=\"text-align: right;\">  Community Area</th><th style=\"text-align: right;\">  FBI Code</th><th style=\"text-align: right;\">  X Coordinate</th><th style=\"text-align: right;\">  Y Coordinate</th><th style=\"text-align: right;\">  Year</th><th>Updated On         </th><th style=\"text-align: right;\">  Latitude</th><th style=\"text-align: right;\">  Longitude</th><th>Location                     </th></tr>\n",
       "</thead>\n",
       "<tbody>\n",
       "<tr><td style=\"text-align: right;\">    9.95581e+06</td><td>HY144797     </td><td>02/08/2015 11:43:40 PM</td><td>081XX S COLES AVE   </td><td style=\"text-align: right;\">  1811</td><td>NARCOTICS      </td><td>POSS: CANNABIS 30GMS OR LESS</td><td>STREET                </td><td>true    </td><td>false     </td><td style=\"text-align: right;\">   422</td><td style=\"text-align: right;\">         4</td><td style=\"text-align: right;\">     7</td><td style=\"text-align: right;\">              46</td><td style=\"text-align: right;\">        18</td><td style=\"text-align: right;\">   1.19827e+06</td><td style=\"text-align: right;\">   1.85163e+06</td><td style=\"text-align: right;\">  2015</td><td>2015-02-15 00:43:39</td><td style=\"text-align: right;\">   41.7477</td><td style=\"text-align: right;\">   -87.549 </td><td>(41.747693646, -87.549035389)</td></tr>\n",
       "<tr><td style=\"text-align: right;\">    9.95586e+06</td><td>HY144838     </td><td>02/08/2015 11:41:42 PM</td><td>118XX S STATE ST    </td><td style=\"text-align: right;\">   486</td><td>BATTERY        </td><td>DOMESTIC BATTERY SIMPLE     </td><td>APARTMENT             </td><td>true    </td><td>true      </td><td style=\"text-align: right;\">   522</td><td style=\"text-align: right;\">         5</td><td style=\"text-align: right;\">    34</td><td style=\"text-align: right;\">              53</td><td style=\"text-align: right;\">       nan</td><td style=\"text-align: right;\">   1.17834e+06</td><td style=\"text-align: right;\">   1.82658e+06</td><td style=\"text-align: right;\">  2015</td><td>2015-02-15 00:43:39</td><td style=\"text-align: right;\">   41.6794</td><td style=\"text-align: right;\">   -87.6229</td><td>(41.679442289, -87.622850758)</td></tr>\n",
       "<tr><td style=\"text-align: right;\">    9.9558e+06 </td><td>HY144779     </td><td>02/08/2015 11:30:22 PM</td><td>002XX S LARAMIE AVE </td><td style=\"text-align: right;\">  2026</td><td>NARCOTICS      </td><td>POSS: PCP                   </td><td>SIDEWALK              </td><td>true    </td><td>false     </td><td style=\"text-align: right;\">  1522</td><td style=\"text-align: right;\">        15</td><td style=\"text-align: right;\">    29</td><td style=\"text-align: right;\">              25</td><td style=\"text-align: right;\">        18</td><td style=\"text-align: right;\">   1.14172e+06</td><td style=\"text-align: right;\">   1.89858e+06</td><td style=\"text-align: right;\">  2015</td><td>2015-02-15 00:43:39</td><td style=\"text-align: right;\">   41.8778</td><td style=\"text-align: right;\">   -87.7551</td><td>(41.87777333, -87.755117993) </td></tr>\n",
       "<tr><td style=\"text-align: right;\">    9.9562e+06 </td><td>HY144787     </td><td>02/08/2015 11:30:23 PM</td><td>006XX E 67TH ST     </td><td style=\"text-align: right;\">  1811</td><td>NARCOTICS      </td><td>POSS: CANNABIS 30GMS OR LESS</td><td>STREET                </td><td>true    </td><td>false     </td><td style=\"text-align: right;\">   321</td><td style=\"text-align: right;\">       nan</td><td style=\"text-align: right;\">     6</td><td style=\"text-align: right;\">              42</td><td style=\"text-align: right;\">        18</td><td style=\"text-align: right;\"> nan          </td><td style=\"text-align: right;\"> nan          </td><td style=\"text-align: right;\">  2015</td><td>2015-02-15 00:43:39</td><td style=\"text-align: right;\">  nan     </td><td style=\"text-align: right;\">   nan     </td><td>                             </td></tr>\n",
       "<tr><td style=\"text-align: right;\">    9.95585e+06</td><td>HY144829     </td><td>02/08/2015 11:30:58 PM</td><td>0000X S MAYFIELD AVE</td><td style=\"text-align: right;\">   610</td><td>BURGLARY       </td><td>FORCIBLE ENTRY              </td><td>APARTMENT             </td><td>false   </td><td>false     </td><td style=\"text-align: right;\">  1513</td><td style=\"text-align: right;\">        15</td><td style=\"text-align: right;\">    29</td><td style=\"text-align: right;\">              25</td><td style=\"text-align: right;\">         5</td><td style=\"text-align: right;\">   1.13724e+06</td><td style=\"text-align: right;\">   1.89937e+06</td><td style=\"text-align: right;\">  2015</td><td>2015-02-15 00:43:39</td><td style=\"text-align: right;\">   41.88  </td><td style=\"text-align: right;\">   -87.7715</td><td>(41.880025548, -87.771541324)</td></tr>\n",
       "<tr><td style=\"text-align: right;\">    9.95584e+06</td><td>HY144778     </td><td>02/08/2015 11:30:21 PM</td><td>010XX W 48TH ST     </td><td style=\"text-align: right;\">   486</td><td>BATTERY        </td><td>DOMESTIC BATTERY SIMPLE     </td><td>APARTMENT             </td><td>false   </td><td>true      </td><td style=\"text-align: right;\">   933</td><td style=\"text-align: right;\">         9</td><td style=\"text-align: right;\">     3</td><td style=\"text-align: right;\">              61</td><td style=\"text-align: right;\">       nan</td><td style=\"text-align: right;\">   1.16999e+06</td><td style=\"text-align: right;\">   1.87302e+06</td><td style=\"text-align: right;\">  2015</td><td>2015-02-15 00:43:39</td><td style=\"text-align: right;\">   41.8071</td><td style=\"text-align: right;\">   -87.6521</td><td>(41.807059405, -87.65206589) </td></tr>\n",
       "<tr><td style=\"text-align: right;\">    9.95587e+06</td><td>HY144822     </td><td>02/08/2015 11:27:24 PM</td><td>015XX W ARTHUR AVE  </td><td style=\"text-align: right;\">  1320</td><td>CRIMINAL DAMAGE</td><td>TO VEHICLE                  </td><td>STREET                </td><td>false   </td><td>false     </td><td style=\"text-align: right;\">  2432</td><td style=\"text-align: right;\">        24</td><td style=\"text-align: right;\">    40</td><td style=\"text-align: right;\">               1</td><td style=\"text-align: right;\">        14</td><td style=\"text-align: right;\">   1.16473e+06</td><td style=\"text-align: right;\">   1.94322e+06</td><td style=\"text-align: right;\">  2015</td><td>2015-02-15 00:43:39</td><td style=\"text-align: right;\">   41.9998</td><td style=\"text-align: right;\">   -87.6693</td><td>(41.999814056, -87.669342967)</td></tr>\n",
       "<tr><td style=\"text-align: right;\">21752          </td><td>HY144738     </td><td>02/08/2015 11:26:12 PM</td><td>060XX W GRAND AVE   </td><td style=\"text-align: right;\">   110</td><td>HOMICIDE       </td><td>FIRST DEGREE MURDER         </td><td>STREET                </td><td>true    </td><td>false     </td><td style=\"text-align: right;\">  2512</td><td style=\"text-align: right;\">        25</td><td style=\"text-align: right;\">    37</td><td style=\"text-align: right;\">              19</td><td style=\"text-align: right;\">       nan</td><td style=\"text-align: right;\">   1.13591e+06</td><td style=\"text-align: right;\">   1.91421e+06</td><td style=\"text-align: right;\">  2015</td><td>2015-02-15 00:43:39</td><td style=\"text-align: right;\">   41.9208</td><td style=\"text-align: right;\">   -87.7761</td><td>(41.920755683, -87.776067514)</td></tr>\n",
       "<tr><td style=\"text-align: right;\">    9.95581e+06</td><td>HY144775     </td><td>02/08/2015 11:20:33 PM</td><td>001XX W WACKER DR   </td><td style=\"text-align: right;\">   460</td><td>BATTERY        </td><td>SIMPLE                      </td><td>OTHER                 </td><td>false   </td><td>false     </td><td style=\"text-align: right;\">   122</td><td style=\"text-align: right;\">         1</td><td style=\"text-align: right;\">    42</td><td style=\"text-align: right;\">              32</td><td style=\"text-align: right;\">       nan</td><td style=\"text-align: right;\">   1.17538e+06</td><td style=\"text-align: right;\">   1.90209e+06</td><td style=\"text-align: right;\">  2015</td><td>2015-02-15 00:43:39</td><td style=\"text-align: right;\">   41.8867</td><td style=\"text-align: right;\">   -87.6314</td><td>(41.886707818, -87.631396356)</td></tr>\n",
       "<tr><td style=\"text-align: right;\">    9.95828e+06</td><td>HY146732     </td><td>02/08/2015 11:15:36 PM</td><td>001XX W WACKER DR   </td><td style=\"text-align: right;\">   460</td><td>BATTERY        </td><td>SIMPLE                      </td><td>HOTEL/MOTEL           </td><td>false   </td><td>false     </td><td style=\"text-align: right;\">   122</td><td style=\"text-align: right;\">         1</td><td style=\"text-align: right;\">    42</td><td style=\"text-align: right;\">              32</td><td style=\"text-align: right;\">       nan</td><td style=\"text-align: right;\">   1.17538e+06</td><td style=\"text-align: right;\">   1.90209e+06</td><td style=\"text-align: right;\">  2015</td><td>2015-02-15 00:43:39</td><td style=\"text-align: right;\">   41.8867</td><td style=\"text-align: right;\">   -87.6314</td><td>(41.886707818, -87.631396356)</td></tr>\n",
       "</tbody>\n",
       "</table>"
      ]
     },
     "metadata": {},
     "output_type": "execute_result"
    }
   ],
   "source": [
    "f_weather.show()\n",
    "f_census.show()\n",
    "f_crimes.show()"
   ]
  },
  {
   "cell_type": "code",
   "execution_count": 8,
   "metadata": {
    "collapsed": false
   },
   "outputs": [],
   "source": [
    "# Set time zone to UTC for date manipulation\n",
    "h2o.cluster().timezone = \"Etc/UTC\""
   ]
  },
  {
   "cell_type": "code",
   "execution_count": 9,
   "metadata": {
    "collapsed": true
   },
   "outputs": [],
   "source": [
    "# Transform weather table\n",
    "## Remove 1st column (date)\n",
    "f_weather = f_weather[1:]"
   ]
  },
  {
   "cell_type": "code",
   "execution_count": 10,
   "metadata": {
    "collapsed": true
   },
   "outputs": [],
   "source": [
    "# Transform census table\n",
    "## Remove all spaces from column names (causing problems in Spark SQL)\n",
    "col_names = map(lambda s: s.strip().replace(' ', '_').replace('+','_'), f_census.col_names)\n",
    "\n",
    "## Update column names in the table\n",
    "#f_weather.names = col_names\n",
    "f_census.names = col_names"
   ]
  },
  {
   "cell_type": "code",
   "execution_count": 11,
   "metadata": {
    "collapsed": false
   },
   "outputs": [
    {
     "name": "stdout",
     "output_type": "stream",
     "text": [
      "Rows:9999\n",
      "Cols:25\n",
      "\n",
      "\n"
     ]
    },
    {
     "data": {
      "text/html": [
       "<table>\n",
       "<thead>\n",
       "<tr><th>       </th><th>Date             </th><th>Block               </th><th>IUCR         </th><th>Primary_Type   </th><th>Description                 </th><th>Location_Description  </th><th>Arrest  </th><th>Domestic  </th><th>Beat         </th><th>District     </th><th>Ward         </th><th>Community_Area  </th><th>FBI_Code     </th><th>X_Coordinate  </th><th>Y_Coordinate  </th><th>Year  </th><th>Updated_On         </th><th>Latitude       </th><th>Longitude      </th><th>Location                     </th><th>Day          </th><th>Month         </th><th>WeekNum       </th><th>WeekDay  </th><th>HourOfDay    </th></tr>\n",
       "</thead>\n",
       "<tbody>\n",
       "<tr><td>type   </td><td>int              </td><td>enum                </td><td>int          </td><td>enum           </td><td>enum                        </td><td>enum                  </td><td>enum    </td><td>enum      </td><td>int          </td><td>int          </td><td>int          </td><td>int             </td><td>int          </td><td>int           </td><td>int           </td><td>int   </td><td>time               </td><td>real           </td><td>real           </td><td>enum                         </td><td>int          </td><td>int           </td><td>int           </td><td>enum     </td><td>int          </td></tr>\n",
       "<tr><td>mins   </td><td>1.42200183e+12   </td><td>                    </td><td>110.0        </td><td>               </td><td>                            </td><td>                      </td><td>        </td><td>          </td><td>111.0        </td><td>1.0          </td><td>1.0          </td><td>1.0             </td><td>2.0          </td><td>1100317.0     </td><td>1814255.0     </td><td>2015.0</td><td>1.422579065e+12    </td><td>41.64507243    </td><td>-87.906463888  </td><td>                             </td><td>1.0          </td><td>1.0           </td><td>4.0           </td><td>         </td><td>0.0          </td></tr>\n",
       "<tr><td>mean   </td><td>1.42268565081e+12</td><td>                    </td><td>1189.67651357</td><td>               </td><td>                            </td><td>                      </td><td>        </td><td>          </td><td>1159.61806181</td><td>11.3489885128</td><td>22.9540954095</td><td>37.4476447645   </td><td>12.7401236227</td><td>1163880.59815 </td><td>1885916.14984 </td><td>2015.0</td><td>1.42326095905e+12  </td><td>41.8425652247  </td><td>-87.6741405221 </td><td>                             </td><td>17.6839683968</td><td>1.41944194419 </td><td>5.18081808181 </td><td>         </td><td>13.6319631963</td></tr>\n",
       "<tr><td>maxs   </td><td>1.42343902e+12   </td><td>                    </td><td>5131.0       </td><td>               </td><td>                            </td><td>                      </td><td>        </td><td>          </td><td>2535.0       </td><td>25.0         </td><td>50.0         </td><td>77.0            </td><td>26.0         </td><td>1205069.0     </td><td>1951533.0     </td><td>2015.0</td><td>1.423961019e+12    </td><td>42.022646183   </td><td>-87.524773286  </td><td>                             </td><td>31.0         </td><td>2.0           </td><td>6.0           </td><td>         </td><td>23.0         </td></tr>\n",
       "<tr><td>sigma  </td><td>433879245.188    </td><td>                    </td><td>927.751435583</td><td>               </td><td>                            </td><td>                      </td><td>        </td><td>          </td><td>695.76029875 </td><td>6.94547493301</td><td>13.6495661144</td><td>21.2748762223   </td><td>7.57423857911</td><td>16496.4493681 </td><td>31274.0163199 </td><td>0.0   </td><td>435853634.476      </td><td>0.0860186579358</td><td>0.0600357970653</td><td>                             </td><td>11.1801043358</td><td>0.493492406787</td><td>0.738929830409</td><td>         </td><td>6.47321735807</td></tr>\n",
       "<tr><td>zeros  </td><td>0                </td><td>                    </td><td>0            </td><td>               </td><td>                            </td><td>                      </td><td>        </td><td>          </td><td>0            </td><td>0            </td><td>0            </td><td>0               </td><td>0            </td><td>0             </td><td>0             </td><td>0     </td><td>0                  </td><td>0              </td><td>0              </td><td>                             </td><td>0            </td><td>0             </td><td>0             </td><td>         </td><td>374          </td></tr>\n",
       "<tr><td>missing</td><td>0                </td><td>0                   </td><td>419          </td><td>0              </td><td>0                           </td><td>6                     </td><td>0       </td><td>0         </td><td>0            </td><td>162          </td><td>0            </td><td>0               </td><td>2557         </td><td>162           </td><td>162           </td><td>0     </td><td>0                  </td><td>162            </td><td>162            </td><td>162                          </td><td>0            </td><td>0             </td><td>0             </td><td>0        </td><td>0            </td></tr>\n",
       "<tr><td>0      </td><td>1.42343902e+12   </td><td>081XX S COLES AVE   </td><td>1811.0       </td><td>NARCOTICS      </td><td>POSS: CANNABIS 30GMS OR LESS</td><td>STREET                </td><td>true    </td><td>false     </td><td>422.0        </td><td>4.0          </td><td>7.0          </td><td>46.0            </td><td>18.0         </td><td>1198273.0     </td><td>1851626.0     </td><td>2015.0</td><td>2015-02-15 00:43:39</td><td>41.747693646   </td><td>-87.549035389  </td><td>(41.747693646, -87.549035389)</td><td>8.0          </td><td>2.0           </td><td>6.0           </td><td>Sun      </td><td>23.0         </td></tr>\n",
       "<tr><td>1      </td><td>1.423438902e+12  </td><td>118XX S STATE ST    </td><td>486.0        </td><td>BATTERY        </td><td>DOMESTIC BATTERY SIMPLE     </td><td>APARTMENT             </td><td>true    </td><td>true      </td><td>522.0        </td><td>5.0          </td><td>34.0         </td><td>53.0            </td><td>nan          </td><td>1178335.0     </td><td>1826581.0     </td><td>2015.0</td><td>2015-02-15 00:43:39</td><td>41.679442289   </td><td>-87.622850758  </td><td>(41.679442289, -87.622850758)</td><td>8.0          </td><td>2.0           </td><td>6.0           </td><td>Sun      </td><td>23.0         </td></tr>\n",
       "<tr><td>2      </td><td>1.423438222e+12  </td><td>002XX S LARAMIE AVE </td><td>2026.0       </td><td>NARCOTICS      </td><td>POSS: PCP                   </td><td>SIDEWALK              </td><td>true    </td><td>false     </td><td>1522.0       </td><td>15.0         </td><td>29.0         </td><td>25.0            </td><td>18.0         </td><td>1141717.0     </td><td>1898581.0     </td><td>2015.0</td><td>2015-02-15 00:43:39</td><td>41.87777333    </td><td>-87.755117993  </td><td>(41.87777333, -87.755117993) </td><td>8.0          </td><td>2.0           </td><td>6.0           </td><td>Sun      </td><td>23.0         </td></tr>\n",
       "<tr><td>3      </td><td>1.423438223e+12  </td><td>006XX E 67TH ST     </td><td>1811.0       </td><td>NARCOTICS      </td><td>POSS: CANNABIS 30GMS OR LESS</td><td>STREET                </td><td>true    </td><td>false     </td><td>321.0        </td><td>nan          </td><td>6.0          </td><td>42.0            </td><td>18.0         </td><td>nan           </td><td>nan           </td><td>2015.0</td><td>2015-02-15 00:43:39</td><td>nan            </td><td>nan            </td><td>                             </td><td>8.0          </td><td>2.0           </td><td>6.0           </td><td>Sun      </td><td>23.0         </td></tr>\n",
       "<tr><td>4      </td><td>1.423438258e+12  </td><td>0000X S MAYFIELD AVE</td><td>610.0        </td><td>BURGLARY       </td><td>FORCIBLE ENTRY              </td><td>APARTMENT             </td><td>false   </td><td>false     </td><td>1513.0       </td><td>15.0         </td><td>29.0         </td><td>25.0            </td><td>5.0          </td><td>1137239.0     </td><td>1899372.0     </td><td>2015.0</td><td>2015-02-15 00:43:39</td><td>41.880025548   </td><td>-87.771541324  </td><td>(41.880025548, -87.771541324)</td><td>8.0          </td><td>2.0           </td><td>6.0           </td><td>Sun      </td><td>23.0         </td></tr>\n",
       "<tr><td>5      </td><td>1.423438221e+12  </td><td>010XX W 48TH ST     </td><td>486.0        </td><td>BATTERY        </td><td>DOMESTIC BATTERY SIMPLE     </td><td>APARTMENT             </td><td>false   </td><td>true      </td><td>933.0        </td><td>9.0          </td><td>3.0          </td><td>61.0            </td><td>nan          </td><td>1169986.0     </td><td>1873019.0     </td><td>2015.0</td><td>2015-02-15 00:43:39</td><td>41.807059405   </td><td>-87.65206589   </td><td>(41.807059405, -87.65206589) </td><td>8.0          </td><td>2.0           </td><td>6.0           </td><td>Sun      </td><td>23.0         </td></tr>\n",
       "<tr><td>6      </td><td>1.423438044e+12  </td><td>015XX W ARTHUR AVE  </td><td>1320.0       </td><td>CRIMINAL DAMAGE</td><td>TO VEHICLE                  </td><td>STREET                </td><td>false   </td><td>false     </td><td>2432.0       </td><td>24.0         </td><td>40.0         </td><td>1.0             </td><td>14.0         </td><td>1164732.0     </td><td>1943222.0     </td><td>2015.0</td><td>2015-02-15 00:43:39</td><td>41.999814056   </td><td>-87.669342967  </td><td>(41.999814056, -87.669342967)</td><td>8.0          </td><td>2.0           </td><td>6.0           </td><td>Sun      </td><td>23.0         </td></tr>\n",
       "<tr><td>7      </td><td>1.423437972e+12  </td><td>060XX W GRAND AVE   </td><td>110.0        </td><td>HOMICIDE       </td><td>FIRST DEGREE MURDER         </td><td>STREET                </td><td>true    </td><td>false     </td><td>2512.0       </td><td>25.0         </td><td>37.0         </td><td>19.0            </td><td>nan          </td><td>1135910.0     </td><td>1914206.0     </td><td>2015.0</td><td>2015-02-15 00:43:39</td><td>41.920755683   </td><td>-87.776067514  </td><td>(41.920755683, -87.776067514)</td><td>8.0          </td><td>2.0           </td><td>6.0           </td><td>Sun      </td><td>23.0         </td></tr>\n",
       "<tr><td>8      </td><td>1.423437633e+12  </td><td>001XX W WACKER DR   </td><td>460.0        </td><td>BATTERY        </td><td>SIMPLE                      </td><td>OTHER                 </td><td>false   </td><td>false     </td><td>122.0        </td><td>1.0          </td><td>42.0         </td><td>32.0            </td><td>nan          </td><td>1175384.0     </td><td>1902088.0     </td><td>2015.0</td><td>2015-02-15 00:43:39</td><td>41.886707818   </td><td>-87.631396356  </td><td>(41.886707818, -87.631396356)</td><td>8.0          </td><td>2.0           </td><td>6.0           </td><td>Sun      </td><td>23.0         </td></tr>\n",
       "<tr><td>9      </td><td>1.423437336e+12  </td><td>001XX W WACKER DR   </td><td>460.0        </td><td>BATTERY        </td><td>SIMPLE                      </td><td>HOTEL/MOTEL           </td><td>false   </td><td>false     </td><td>122.0        </td><td>1.0          </td><td>42.0         </td><td>32.0            </td><td>nan          </td><td>1175384.0     </td><td>1902088.0     </td><td>2015.0</td><td>2015-02-15 00:43:39</td><td>41.886707818   </td><td>-87.631396356  </td><td>(41.886707818, -87.631396356)</td><td>8.0          </td><td>2.0           </td><td>6.0           </td><td>Sun      </td><td>23.0         </td></tr>\n",
       "</tbody>\n",
       "</table>"
      ]
     },
     "metadata": {},
     "output_type": "execute_result"
    },
    {
     "name": "stdout",
     "output_type": "stream",
     "text": [
      "Rows:9999\n",
      "Cols:26\n",
      "\n",
      "\n"
     ]
    },
    {
     "data": {
      "text/html": [
       "<table>\n",
       "<thead>\n",
       "<tr><th>       </th><th>Block               </th><th>IUCR         </th><th>Primary_Type   </th><th>Description                 </th><th>Location_Description  </th><th>Arrest  </th><th>Domestic  </th><th>Beat         </th><th>District     </th><th>Ward         </th><th>Community_Area  </th><th>FBI_Code     </th><th>X_Coordinate  </th><th>Y_Coordinate  </th><th>Year  </th><th>Updated_On         </th><th>Latitude       </th><th>Longitude      </th><th>Location                     </th><th>Day          </th><th>Month         </th><th>WeekNum       </th><th>WeekDay  </th><th>HourOfDay    </th><th>Weekend       </th><th>Season  </th></tr>\n",
       "</thead>\n",
       "<tbody>\n",
       "<tr><td>type   </td><td>enum                </td><td>int          </td><td>enum           </td><td>enum                        </td><td>enum                  </td><td>enum    </td><td>enum      </td><td>int          </td><td>int          </td><td>int          </td><td>int             </td><td>int          </td><td>int           </td><td>int           </td><td>int   </td><td>time               </td><td>real           </td><td>real           </td><td>enum                         </td><td>int          </td><td>int           </td><td>int           </td><td>enum     </td><td>int          </td><td>int           </td><td>enum    </td></tr>\n",
       "<tr><td>mins   </td><td>                    </td><td>110.0        </td><td>               </td><td>                            </td><td>                      </td><td>        </td><td>          </td><td>111.0        </td><td>1.0          </td><td>1.0          </td><td>1.0             </td><td>2.0          </td><td>1100317.0     </td><td>1814255.0     </td><td>2015.0</td><td>1.422579065e+12    </td><td>41.64507243    </td><td>-87.906463888  </td><td>                             </td><td>1.0          </td><td>1.0           </td><td>4.0           </td><td>         </td><td>0.0          </td><td>0.0           </td><td>        </td></tr>\n",
       "<tr><td>mean   </td><td>                    </td><td>1189.67651357</td><td>               </td><td>                            </td><td>                      </td><td>        </td><td>          </td><td>1159.61806181</td><td>11.3489885128</td><td>22.9540954095</td><td>37.4476447645   </td><td>12.7401236227</td><td>1163880.59815 </td><td>1885916.14984 </td><td>2015.0</td><td>1.42326095905e+12  </td><td>41.8425652247  </td><td>-87.6741405221 </td><td>                             </td><td>17.6839683968</td><td>1.41944194419 </td><td>5.18081808181 </td><td>         </td><td>13.6319631963</td><td>0.357535753575</td><td>        </td></tr>\n",
       "<tr><td>maxs   </td><td>                    </td><td>5131.0       </td><td>               </td><td>                            </td><td>                      </td><td>        </td><td>          </td><td>2535.0       </td><td>25.0         </td><td>50.0         </td><td>77.0            </td><td>26.0         </td><td>1205069.0     </td><td>1951533.0     </td><td>2015.0</td><td>1.423961019e+12    </td><td>42.022646183   </td><td>-87.524773286  </td><td>                             </td><td>31.0         </td><td>2.0           </td><td>6.0           </td><td>         </td><td>23.0         </td><td>1.0           </td><td>        </td></tr>\n",
       "<tr><td>sigma  </td><td>                    </td><td>927.751435583</td><td>               </td><td>                            </td><td>                      </td><td>        </td><td>          </td><td>695.76029875 </td><td>6.94547493301</td><td>13.6495661144</td><td>21.2748762223   </td><td>7.57423857911</td><td>16496.4493681 </td><td>31274.0163199 </td><td>0.0   </td><td>435853634.476      </td><td>0.0860186579358</td><td>0.0600357970653</td><td>                             </td><td>11.1801043358</td><td>0.493492406787</td><td>0.738929830409</td><td>         </td><td>6.47321735807</td><td>0.47929835539 </td><td>        </td></tr>\n",
       "<tr><td>zeros  </td><td>                    </td><td>0            </td><td>               </td><td>                            </td><td>                      </td><td>        </td><td>          </td><td>0            </td><td>0            </td><td>0            </td><td>0               </td><td>0            </td><td>0             </td><td>0             </td><td>0     </td><td>0                  </td><td>0              </td><td>0              </td><td>                             </td><td>0            </td><td>0             </td><td>0             </td><td>         </td><td>374          </td><td>6424          </td><td>        </td></tr>\n",
       "<tr><td>missing</td><td>0                   </td><td>419          </td><td>0              </td><td>0                           </td><td>6                     </td><td>0       </td><td>0         </td><td>0            </td><td>162          </td><td>0            </td><td>0               </td><td>2557         </td><td>162           </td><td>162           </td><td>0     </td><td>0                  </td><td>162            </td><td>162            </td><td>162                          </td><td>0            </td><td>0             </td><td>0             </td><td>0        </td><td>0            </td><td>0             </td><td>0       </td></tr>\n",
       "<tr><td>0      </td><td>081XX S COLES AVE   </td><td>1811.0       </td><td>NARCOTICS      </td><td>POSS: CANNABIS 30GMS OR LESS</td><td>STREET                </td><td>true    </td><td>false     </td><td>422.0        </td><td>4.0          </td><td>7.0          </td><td>46.0            </td><td>18.0         </td><td>1198273.0     </td><td>1851626.0     </td><td>2015.0</td><td>2015-02-15 00:43:39</td><td>41.747693646   </td><td>-87.549035389  </td><td>(41.747693646, -87.549035389)</td><td>8.0          </td><td>2.0           </td><td>6.0           </td><td>Sun      </td><td>23.0         </td><td>1.0           </td><td>Winter  </td></tr>\n",
       "<tr><td>1      </td><td>118XX S STATE ST    </td><td>486.0        </td><td>BATTERY        </td><td>DOMESTIC BATTERY SIMPLE     </td><td>APARTMENT             </td><td>true    </td><td>true      </td><td>522.0        </td><td>5.0          </td><td>34.0         </td><td>53.0            </td><td>nan          </td><td>1178335.0     </td><td>1826581.0     </td><td>2015.0</td><td>2015-02-15 00:43:39</td><td>41.679442289   </td><td>-87.622850758  </td><td>(41.679442289, -87.622850758)</td><td>8.0          </td><td>2.0           </td><td>6.0           </td><td>Sun      </td><td>23.0         </td><td>1.0           </td><td>Winter  </td></tr>\n",
       "<tr><td>2      </td><td>002XX S LARAMIE AVE </td><td>2026.0       </td><td>NARCOTICS      </td><td>POSS: PCP                   </td><td>SIDEWALK              </td><td>true    </td><td>false     </td><td>1522.0       </td><td>15.0         </td><td>29.0         </td><td>25.0            </td><td>18.0         </td><td>1141717.0     </td><td>1898581.0     </td><td>2015.0</td><td>2015-02-15 00:43:39</td><td>41.87777333    </td><td>-87.755117993  </td><td>(41.87777333, -87.755117993) </td><td>8.0          </td><td>2.0           </td><td>6.0           </td><td>Sun      </td><td>23.0         </td><td>1.0           </td><td>Winter  </td></tr>\n",
       "<tr><td>3      </td><td>006XX E 67TH ST     </td><td>1811.0       </td><td>NARCOTICS      </td><td>POSS: CANNABIS 30GMS OR LESS</td><td>STREET                </td><td>true    </td><td>false     </td><td>321.0        </td><td>nan          </td><td>6.0          </td><td>42.0            </td><td>18.0         </td><td>nan           </td><td>nan           </td><td>2015.0</td><td>2015-02-15 00:43:39</td><td>nan            </td><td>nan            </td><td>                             </td><td>8.0          </td><td>2.0           </td><td>6.0           </td><td>Sun      </td><td>23.0         </td><td>1.0           </td><td>Winter  </td></tr>\n",
       "<tr><td>4      </td><td>0000X S MAYFIELD AVE</td><td>610.0        </td><td>BURGLARY       </td><td>FORCIBLE ENTRY              </td><td>APARTMENT             </td><td>false   </td><td>false     </td><td>1513.0       </td><td>15.0         </td><td>29.0         </td><td>25.0            </td><td>5.0          </td><td>1137239.0     </td><td>1899372.0     </td><td>2015.0</td><td>2015-02-15 00:43:39</td><td>41.880025548   </td><td>-87.771541324  </td><td>(41.880025548, -87.771541324)</td><td>8.0          </td><td>2.0           </td><td>6.0           </td><td>Sun      </td><td>23.0         </td><td>1.0           </td><td>Winter  </td></tr>\n",
       "<tr><td>5      </td><td>010XX W 48TH ST     </td><td>486.0        </td><td>BATTERY        </td><td>DOMESTIC BATTERY SIMPLE     </td><td>APARTMENT             </td><td>false   </td><td>true      </td><td>933.0        </td><td>9.0          </td><td>3.0          </td><td>61.0            </td><td>nan          </td><td>1169986.0     </td><td>1873019.0     </td><td>2015.0</td><td>2015-02-15 00:43:39</td><td>41.807059405   </td><td>-87.65206589   </td><td>(41.807059405, -87.65206589) </td><td>8.0          </td><td>2.0           </td><td>6.0           </td><td>Sun      </td><td>23.0         </td><td>1.0           </td><td>Winter  </td></tr>\n",
       "<tr><td>6      </td><td>015XX W ARTHUR AVE  </td><td>1320.0       </td><td>CRIMINAL DAMAGE</td><td>TO VEHICLE                  </td><td>STREET                </td><td>false   </td><td>false     </td><td>2432.0       </td><td>24.0         </td><td>40.0         </td><td>1.0             </td><td>14.0         </td><td>1164732.0     </td><td>1943222.0     </td><td>2015.0</td><td>2015-02-15 00:43:39</td><td>41.999814056   </td><td>-87.669342967  </td><td>(41.999814056, -87.669342967)</td><td>8.0          </td><td>2.0           </td><td>6.0           </td><td>Sun      </td><td>23.0         </td><td>1.0           </td><td>Winter  </td></tr>\n",
       "<tr><td>7      </td><td>060XX W GRAND AVE   </td><td>110.0        </td><td>HOMICIDE       </td><td>FIRST DEGREE MURDER         </td><td>STREET                </td><td>true    </td><td>false     </td><td>2512.0       </td><td>25.0         </td><td>37.0         </td><td>19.0            </td><td>nan          </td><td>1135910.0     </td><td>1914206.0     </td><td>2015.0</td><td>2015-02-15 00:43:39</td><td>41.920755683   </td><td>-87.776067514  </td><td>(41.920755683, -87.776067514)</td><td>8.0          </td><td>2.0           </td><td>6.0           </td><td>Sun      </td><td>23.0         </td><td>1.0           </td><td>Winter  </td></tr>\n",
       "<tr><td>8      </td><td>001XX W WACKER DR   </td><td>460.0        </td><td>BATTERY        </td><td>SIMPLE                      </td><td>OTHER                 </td><td>false   </td><td>false     </td><td>122.0        </td><td>1.0          </td><td>42.0         </td><td>32.0            </td><td>nan          </td><td>1175384.0     </td><td>1902088.0     </td><td>2015.0</td><td>2015-02-15 00:43:39</td><td>41.886707818   </td><td>-87.631396356  </td><td>(41.886707818, -87.631396356)</td><td>8.0          </td><td>2.0           </td><td>6.0           </td><td>Sun      </td><td>23.0         </td><td>1.0           </td><td>Winter  </td></tr>\n",
       "<tr><td>9      </td><td>001XX W WACKER DR   </td><td>460.0        </td><td>BATTERY        </td><td>SIMPLE                      </td><td>HOTEL/MOTEL           </td><td>false   </td><td>false     </td><td>122.0        </td><td>1.0          </td><td>42.0         </td><td>32.0            </td><td>nan          </td><td>1175384.0     </td><td>1902088.0     </td><td>2015.0</td><td>2015-02-15 00:43:39</td><td>41.886707818   </td><td>-87.631396356  </td><td>(41.886707818, -87.631396356)</td><td>8.0          </td><td>2.0           </td><td>6.0           </td><td>Sun      </td><td>23.0         </td><td>1.0           </td><td>Winter  </td></tr>\n",
       "</tbody>\n",
       "</table>"
      ]
     },
     "metadata": {},
     "output_type": "execute_result"
    }
   ],
   "source": [
    "# Transform crimes table\n",
    "\n",
    "## Drop useless columns\n",
    "f_crimes = f_crimes[2:]\n",
    "\n",
    "## Replace ' ' by '_' in column names\n",
    "col_names = map(lambda s: s.replace(' ', '_'), f_crimes.col_names)\n",
    "f_crimes.names = col_names\n",
    "\n",
    "## Refine date column\n",
    "def refine_date_col(data, col, pattern):\n",
    "    data[col]         = data[col].as_date(pattern)\n",
    "    data[\"Day\"]       = data[col].day()\n",
    "    data[\"Month\"]     = data[col].month()\n",
    "    data[\"Year\"]      = data[col].year()\n",
    "    data[\"WeekNum\"]   = data[col].week()\n",
    "    data[\"WeekDay\"]   = data[col].dayOfWeek()\n",
    "    data[\"HourOfDay\"] = data[col].hour()\n",
    "    \n",
    "    data.describe() # HACK: Force evaluation before ifelse and cut. See PUBDEV-1425.\n",
    "        \n",
    "    # Create weekend and season cols\n",
    "    data[\"Weekend\"] = ((data[\"WeekDay\"] == \"Sun\") | (data[\"WeekDay\"] == \"Sat\"))\n",
    "    data[\"Season\"] = data[\"Month\"].cut([0, 2, 5, 7, 10, 12], [\"Winter\", \"Spring\", \"Summer\", \"Autumn\", \"Winter\"])\n",
    "    \n",
    "refine_date_col(f_crimes, \"Date\", \"%m/%d/%Y %I:%M:%S %p\")\n",
    "f_crimes = f_crimes.drop(\"Date\")\n",
    "f_crimes.describe()"
   ]
  },
  {
   "cell_type": "code",
   "execution_count": 12,
   "metadata": {
    "collapsed": true
   },
   "outputs": [],
   "source": [
    "# Expose H2O frames as Spark DataFrame\n",
    "df_weather = hc.as_spark_frame(f_weather)\n",
    "df_census = hc.as_spark_frame(f_census)\n",
    "df_crimes = hc.as_spark_frame(f_crimes)"
   ]
  },
  {
   "cell_type": "code",
   "execution_count": 13,
   "metadata": {
    "collapsed": false
   },
   "outputs": [
    {
     "name": "stdout",
     "output_type": "stream",
     "text": [
      "+-----+---+----+-------+--------+-------+\n",
      "|month|day|year|maxTemp|meanTemp|minTemp|\n",
      "+-----+---+----+-------+--------+-------+\n",
      "|    1|  1|2001|     23|      14|      6|\n",
      "|    1|  2|2001|     18|      12|      6|\n",
      "|    1|  3|2001|     28|      18|      8|\n",
      "|    1|  4|2001|     30|      24|     19|\n",
      "|    1|  5|2001|     36|      30|     21|\n",
      "|    1|  6|2001|     33|      26|     19|\n",
      "|    1|  7|2001|     34|      28|     21|\n",
      "|    1|  8|2001|     26|      20|     14|\n",
      "|    1|  9|2001|     23|      16|     10|\n",
      "|    1| 10|2001|     34|      26|     19|\n",
      "|    1| 11|2001|     39|      28|     18|\n",
      "|    1| 12|2001|     37|      31|     25|\n",
      "|    1| 13|2001|     35|      34|     33|\n",
      "|    1| 14|2001|     36|      34|     32|\n",
      "|    1| 15|2001|     35|      32|     30|\n",
      "|    1| 16|2001|     30|      28|     26|\n",
      "|    1| 17|2001|     26|      22|     19|\n",
      "|    1| 18|2001|     30|      24|     19|\n",
      "|    1| 19|2001|     27|      22|     17|\n",
      "|    1| 20|2001|     24|      18|     10|\n",
      "+-----+---+----+-------+--------+-------+\n",
      "only showing top 20 rows\n",
      "\n"
     ]
    }
   ],
   "source": [
    "df_weather.show()"
   ]
  },
  {
   "cell_type": "code",
   "execution_count": 18,
   "metadata": {
    "collapsed": true
   },
   "outputs": [],
   "source": [
    "# Use Spark SQL to join datasets\n",
    "\n",
    "# Register DataFrames as tables\n",
    "df_weather.createOrReplaceTempView(\"chicagoWeather\")\n",
    "df_census.createOrReplaceTempView(\"chicagoCensus\")\n",
    "df_crimes.createOrReplaceTempView(\"chicagoCrime\")\n",
    "\n",
    "\n",
    "crimeWithWeather = spark.sql(\"\"\"SELECT\n",
    "a.Year, a.Month, a.Day, a.WeekNum, a.HourOfDay, a.Weekend, a.Season, a.WeekDay,\n",
    "a.IUCR, a.Primary_Type, a.Location_Description, a.Community_Area, a.District,\n",
    "a.Arrest, a.Domestic, a.Beat, a.Ward, a.FBI_Code,\n",
    "b.minTemp, b.maxTemp, b.meanTemp,\n",
    "c.PERCENT_AGED_UNDER_18_OR_OVER_64, c.PER_CAPITA_INCOME, c.HARDSHIP_INDEX,\n",
    "c.PERCENT_OF_HOUSING_CROWDED, c.PERCENT_HOUSEHOLDS_BELOW_POVERTY,\n",
    "c.PERCENT_AGED_16__UNEMPLOYED, c.PERCENT_AGED_25__WITHOUT_HIGH_SCHOOL_DIPLOMA\n",
    "FROM chicagoCrime a\n",
    "JOIN chicagoWeather b\n",
    "ON a.Year = b.year AND a.Month = b.month AND a.Day = b.day\n",
    "JOIN chicagoCensus c\n",
    "ON a.Community_Area = c.Community_Area_Number\"\"\")"
   ]
  },
  {
   "cell_type": "code",
   "execution_count": 19,
   "metadata": {
    "collapsed": false
   },
   "outputs": [
    {
     "name": "stdout",
     "output_type": "stream",
     "text": [
      "+----+-----+---+-------+---------+-------+------+-------+----+--------------------+--------------------+--------------+--------+------+--------+----+----+--------+-------+-------+--------+--------------------------------+-----------------+--------------+--------------------------+--------------------------------+---------------------------+--------------------------------------------+\n",
      "|Year|Month|Day|WeekNum|HourOfDay|Weekend|Season|WeekDay|IUCR|        Primary_Type|Location_Description|Community_Area|District|Arrest|Domestic|Beat|Ward|FBI_Code|minTemp|maxTemp|meanTemp|PERCENT_AGED_UNDER_18_OR_OVER_64|PER_CAPITA_INCOME|HARDSHIP_INDEX|PERCENT_OF_HOUSING_CROWDED|PERCENT_HOUSEHOLDS_BELOW_POVERTY|PERCENT_AGED_16__UNEMPLOYED|PERCENT_AGED_25__WITHOUT_HIGH_SCHOOL_DIPLOMA|\n",
      "+----+-----+---+-------+---------+-------+------+-------+----+--------------------+--------------------+--------------+--------+------+--------+----+----+--------+-------+-------+--------+--------------------------------+-----------------+--------------+--------------------------+--------------------------------+---------------------------+--------------------------------------------+\n",
      "|2015|    1| 23|      4|       18|      0|Winter|    Fri|1310|     CRIMINAL DAMAGE|          RESTAURANT|            31|      12| false|   false|1235|  25|      14|     29|     31|      30|                            32.6|            16444|            76|         9.600000000000001|                            25.8|                       15.8|                                        40.7|\n",
      "|2015|    1| 23|      4|       18|      0|Winter|    Fri| 610|            BURGLARY|           RESIDENCE|            31|      12| false|   false|1234|  25|       5|     29|     31|      30|                            32.6|            16444|            76|         9.600000000000001|                            25.8|                       15.8|                                        40.7|\n",
      "|2015|    1| 23|      4|       16|      0|Winter|    Fri|2210|LIQUOR LAW VIOLATION| TAVERN/LIQUOR STORE|            31|      12|  true|   false|1233|  25|      22|     29|     31|      30|                            32.6|            16444|            76|         9.600000000000001|                            25.8|                       15.8|                                        40.7|\n",
      "|2015|    1| 23|      4|       10|      0|Winter|    Fri| 486|             BATTERY|           APARTMENT|            31|      12|  true|   false|1234|  25|    null|     29|     31|      30|                            32.6|            16444|            76|         9.600000000000001|                            25.8|                       15.8|                                        40.7|\n",
      "|2015|    1| 23|      4|       22|      0|Winter|    Fri|null|   WEAPONS VIOLATION|               ALLEY|            31|      12|  true|   false|1234|  25|      15|     29|     31|      30|                            32.6|            16444|            76|         9.600000000000001|                            25.8|                       15.8|                                        40.7|\n",
      "|2015|    1| 23|      4|       19|      0|Winter|    Fri|4625|       OTHER OFFENSE|            SIDEWALK|            31|      10|  true|   false|1034|  25|      26|     29|     31|      30|                            32.6|            16444|            76|         9.600000000000001|                            25.8|                       15.8|                                        40.7|\n",
      "|2015|    1| 23|      4|       19|      0|Winter|    Fri| 320|             ROBBERY|  SMALL RETAIL STORE|            31|      10| false|   false|1034|  25|       3|     29|     31|      30|                            32.6|            16444|            76|         9.600000000000001|                            25.8|                       15.8|                                        40.7|\n",
      "|2015|    1| 23|      4|       13|      0|Winter|    Fri| 486|             BATTERY|           RESIDENCE|            31|      10| false|    true|1034|  25|    null|     29|     31|      30|                            32.6|            16444|            76|         9.600000000000001|                            25.8|                       15.8|                                        40.7|\n",
      "|2015|    1| 23|      4|       13|      0|Winter|    Fri| 820|               THEFT|              STREET|            31|      12| false|   false|1234|  25|       6|     29|     31|      30|                            32.6|            16444|            76|         9.600000000000001|                            25.8|                       15.8|                                        40.7|\n",
      "|2015|    1| 23|      4|       12|      0|Winter|    Fri| 915| MOTOR VEHICLE THEFT|  VEHICLE-COMMERCIAL|            31|       9| false|   false| 912|  11|       7|     29|     31|      30|                            32.6|            16444|            76|         9.600000000000001|                            25.8|                       15.8|                                        40.7|\n",
      "|2015|    1| 23|      4|       12|      0|Winter|    Fri| 870|               THEFT|           CTA TRAIN|            31|      12| false|   false|1234|  25|       6|     29|     31|      30|                            32.6|            16444|            76|         9.600000000000001|                            25.8|                       15.8|                                        40.7|\n",
      "|2015|    1| 23|      4|       16|      0|Winter|    Fri| 470|PUBLIC PEACE VIOL...|             CTA BUS|            31|      10|  true|   false|1034|  25|      24|     29|     31|      30|                            32.6|            16444|            76|         9.600000000000001|                            25.8|                       15.8|                                        40.7|\n",
      "|2015|    1| 23|      4|       15|      0|Winter|    Fri|1305|     CRIMINAL DAMAGE|           RESIDENCE|            31|      12| false|   false|1235|  25|      14|     29|     31|      30|                            32.6|            16444|            76|         9.600000000000001|                            25.8|                       15.8|                                        40.7|\n",
      "|2015|    2|  2|      6|       14|      0|Winter|    Mon| 860|               THEFT|    DEPARTMENT STORE|            31|      10|  true|   false|1023|  25|       6|      6|     19|      13|                            32.6|            16444|            76|         9.600000000000001|                            25.8|                       15.8|                                        40.7|\n",
      "|2015|    2|  2|      6|       13|      0|Winter|    Mon|1320|     CRIMINAL DAMAGE|PARKING LOT/GARAG...|            31|      12| false|   false|1235|  25|      14|      6|     19|      13|                            32.6|            16444|            76|         9.600000000000001|                            25.8|                       15.8|                                        40.7|\n",
      "|2015|    2|  2|      6|       19|      0|Winter|    Mon| 860|               THEFT|  GROCERY FOOD STORE|            31|      10|  true|   false|1023|  25|       6|      6|     19|      13|                            32.6|            16444|            76|         9.600000000000001|                            25.8|                       15.8|                                        40.7|\n",
      "|2015|    2|  7|      6|       12|      1|Winter|    Sat|1320|     CRIMINAL DAMAGE|DRIVEWAY - RESIDE...|            31|      10| false|   false|1034|  25|      14|     18|     41|      30|                            32.6|            16444|            76|         9.600000000000001|                            25.8|                       15.8|                                        40.7|\n",
      "|2015|    2|  7|      6|       15|      1|Winter|    Sat| 860|               THEFT|  SMALL RETAIL STORE|            31|      10|  true|   false|1034|  25|       6|     18|     41|      30|                            32.6|            16444|            76|         9.600000000000001|                            25.8|                       15.8|                                        40.7|\n",
      "|2015|    2|  7|      6|       22|      1|Winter|    Sat|1320|     CRIMINAL DAMAGE|              STREET|            31|      10| false|   false|1034|  25|      14|     18|     41|      30|                            32.6|            16444|            76|         9.600000000000001|                            25.8|                       15.8|                                        40.7|\n",
      "|2015|    2|  7|      6|       21|      1|Winter|    Sat| 470|PUBLIC PEACE VIOL...|            SIDEWALK|            31|      12|  true|   false|1234|  25|      24|     18|     41|      30|                            32.6|            16444|            76|         9.600000000000001|                            25.8|                       15.8|                                        40.7|\n",
      "+----+-----+---+-------+---------+-------+------+-------+----+--------------------+--------------------+--------------+--------+------+--------+----+----+--------+-------+-------+--------+--------------------------------+-----------------+--------------+--------------------------+--------------------------------+---------------------------+--------------------------------------------+\n",
      "only showing top 20 rows\n",
      "\n"
     ]
    }
   ],
   "source": [
    "crimeWithWeather.show()"
   ]
  },
  {
   "cell_type": "code",
   "execution_count": 20,
   "metadata": {
    "collapsed": true
   },
   "outputs": [],
   "source": [
    "# Publish Spark DataFrame as H2OFrame with given name\n",
    "crimeWithWeatherHF = hc.as_h2o_frame(crimeWithWeather, \"crimeWithWeatherTable\")"
   ]
  },
  {
   "cell_type": "code",
   "execution_count": 21,
   "metadata": {
    "collapsed": true
   },
   "outputs": [],
   "source": [
    "# Transform selected String columns to categoricals\n",
    "crimeWithWeatherHF[\"Arrest\"] = crimeWithWeatherHF[\"Arrest\"].asfactor()\n",
    "crimeWithWeatherHF[\"Season\"] = crimeWithWeatherHF[\"Season\"].asfactor()\n",
    "crimeWithWeatherHF[\"WeekDay\"] = crimeWithWeatherHF[\"WeekDay\"].asfactor()\n",
    "crimeWithWeatherHF[\"Primary_Type\"] = crimeWithWeatherHF[\"Primary_Type\"].asfactor()\n",
    "crimeWithWeatherHF[\"Location_Description\"] = crimeWithWeatherHF[\"Location_Description\"].asfactor()\n",
    "crimeWithWeatherHF[\"Domestic\"] = crimeWithWeatherHF[\"Domestic\"].asfactor()"
   ]
  },
  {
   "cell_type": "code",
   "execution_count": 22,
   "metadata": {
    "collapsed": true
   },
   "outputs": [],
   "source": [
    "# Split frame into two - we use one as the training frame and the second one as the validation frame\n",
    "splits = crimeWithWeatherHF.split_frame(ratios=[0.8])\n",
    "train = splits[0]\n",
    "test = splits[1]\n",
    "\n",
    "# Prepare column names\n",
    "predictor_columns = train.drop(\"Arrest\").col_names\n",
    "response_column = \"Arrest\""
   ]
  },
  {
   "cell_type": "code",
   "execution_count": 23,
   "metadata": {
    "collapsed": false
   },
   "outputs": [
    {
     "name": "stdout",
     "output_type": "stream",
     "text": [
      "gbm Model Build progress: |███████████████████████████████████████████████| 100%\n"
     ]
    }
   ],
   "source": [
    "# Create and train GBM model\n",
    "from h2o.estimators.gbm import H2OGradientBoostingEstimator\n",
    "\n",
    "# Prepare model based on the given set of parameters\n",
    "gbm_model = H2OGradientBoostingEstimator(  ntrees       = 50,\n",
    "                                     max_depth    = 3,\n",
    "                                     learn_rate   = 0.1,\n",
    "                                     distribution = \"bernoulli\"\n",
    "                                 )\n",
    "\n",
    "# Train the model\n",
    "gbm_model.train(x            = predictor_columns,\n",
    "            y                = response_column,\n",
    "            training_frame   = train,\n",
    "            validation_frame = test\n",
    "         )"
   ]
  },
  {
   "cell_type": "code",
   "execution_count": 24,
   "metadata": {
    "collapsed": false
   },
   "outputs": [
    {
     "name": "stdout",
     "output_type": "stream",
     "text": [
      "\n",
      "ModelMetricsBinomial: gbm\n",
      "** Reported on test data. **\n",
      "\n",
      "MSE: 0.0968042850959\n",
      "RMSE: 0.311133870056\n",
      "LogLoss: 0.314546524428\n",
      "Mean Per-Class Error: 0.178539810767\n",
      "AUC: 0.914752554455\n",
      "Gini: 0.82950510891\n",
      "Confusion Matrix (Act/Pred) for max f1 @ threshold = 0.464815365344: \n"
     ]
    },
    {
     "data": {
      "text/html": [
       "<div style=\"overflow:auto\"><table style=\"width:50%\"><tr><td><b></b></td>\n",
       "<td><b>false</b></td>\n",
       "<td><b>true</b></td>\n",
       "<td><b>Error</b></td>\n",
       "<td><b>Rate</b></td></tr>\n",
       "<tr><td>false</td>\n",
       "<td>1321.0</td>\n",
       "<td>43.0</td>\n",
       "<td>0.0315</td>\n",
       "<td> (43.0/1364.0)</td></tr>\n",
       "<tr><td>true</td>\n",
       "<td>212.0</td>\n",
       "<td>424.0</td>\n",
       "<td>0.3333</td>\n",
       "<td> (212.0/636.0)</td></tr>\n",
       "<tr><td>Total</td>\n",
       "<td>1533.0</td>\n",
       "<td>467.0</td>\n",
       "<td>0.1275</td>\n",
       "<td> (255.0/2000.0)</td></tr></table></div>"
      ],
      "text/plain": [
       "       false    true    Error    Rate\n",
       "-----  -------  ------  -------  --------------\n",
       "false  1321     43      0.0315   (43.0/1364.0)\n",
       "true   212      424     0.3333   (212.0/636.0)\n",
       "Total  1533     467     0.1275   (255.0/2000.0)"
      ]
     },
     "metadata": {},
     "output_type": "execute_result"
    },
    {
     "name": "stdout",
     "output_type": "stream",
     "text": [
      "Maximum Metrics: Maximum metrics at their respective thresholds\n",
      "\n"
     ]
    },
    {
     "data": {
      "text/html": [
       "<div style=\"overflow:auto\"><table style=\"width:50%\"><tr><td><b>metric</b></td>\n",
       "<td><b>threshold</b></td>\n",
       "<td><b>value</b></td>\n",
       "<td><b>idx</b></td></tr>\n",
       "<tr><td>max f1</td>\n",
       "<td>0.4648154</td>\n",
       "<td>0.7688123</td>\n",
       "<td>121.0</td></tr>\n",
       "<tr><td>max f2</td>\n",
       "<td>0.1666398</td>\n",
       "<td>0.8284682</td>\n",
       "<td>268.0</td></tr>\n",
       "<tr><td>max f0point5</td>\n",
       "<td>0.6550564</td>\n",
       "<td>0.8622184</td>\n",
       "<td>93.0</td></tr>\n",
       "<tr><td>max accuracy</td>\n",
       "<td>0.5924880</td>\n",
       "<td>0.873</td>\n",
       "<td>105.0</td></tr>\n",
       "<tr><td>max precision</td>\n",
       "<td>0.9820111</td>\n",
       "<td>1.0</td>\n",
       "<td>0.0</td></tr>\n",
       "<tr><td>max recall</td>\n",
       "<td>0.0345803</td>\n",
       "<td>1.0</td>\n",
       "<td>394.0</td></tr>\n",
       "<tr><td>max specificity</td>\n",
       "<td>0.9820111</td>\n",
       "<td>1.0</td>\n",
       "<td>0.0</td></tr>\n",
       "<tr><td>max absolute_mcc</td>\n",
       "<td>0.5924880</td>\n",
       "<td>0.7020124</td>\n",
       "<td>105.0</td></tr>\n",
       "<tr><td>max min_per_class_accuracy</td>\n",
       "<td>0.2259175</td>\n",
       "<td>0.8181818</td>\n",
       "<td>221.0</td></tr>\n",
       "<tr><td>max mean_per_class_accuracy</td>\n",
       "<td>0.2253200</td>\n",
       "<td>0.8214602</td>\n",
       "<td>222.0</td></tr></table></div>"
      ],
      "text/plain": [
       "metric                       threshold    value     idx\n",
       "---------------------------  -----------  --------  -----\n",
       "max f1                       0.464815     0.768812  121\n",
       "max f2                       0.16664      0.828468  268\n",
       "max f0point5                 0.655056     0.862218  93\n",
       "max accuracy                 0.592488     0.873     105\n",
       "max precision                0.982011     1         0\n",
       "max recall                   0.0345803    1         394\n",
       "max specificity              0.982011     1         0\n",
       "max absolute_mcc             0.592488     0.702012  105\n",
       "max min_per_class_accuracy   0.225917     0.818182  221\n",
       "max mean_per_class_accuracy  0.22532      0.82146   222"
      ]
     },
     "metadata": {},
     "output_type": "execute_result"
    },
    {
     "name": "stdout",
     "output_type": "stream",
     "text": [
      "Gains/Lift Table: Avg response rate: 31.80 %\n",
      "\n"
     ]
    },
    {
     "data": {
      "text/html": [
       "<div style=\"overflow:auto\"><table style=\"width:50%\"><tr><td><b></b></td>\n",
       "<td><b>group</b></td>\n",
       "<td><b>cumulative_data_fraction</b></td>\n",
       "<td><b>lower_threshold</b></td>\n",
       "<td><b>lift</b></td>\n",
       "<td><b>cumulative_lift</b></td>\n",
       "<td><b>response_rate</b></td>\n",
       "<td><b>cumulative_response_rate</b></td>\n",
       "<td><b>capture_rate</b></td>\n",
       "<td><b>cumulative_capture_rate</b></td>\n",
       "<td><b>gain</b></td>\n",
       "<td><b>cumulative_gain</b></td></tr>\n",
       "<tr><td></td>\n",
       "<td>1</td>\n",
       "<td>0.0125</td>\n",
       "<td>0.9751486</td>\n",
       "<td>3.1446541</td>\n",
       "<td>3.1446541</td>\n",
       "<td>1.0</td>\n",
       "<td>1.0</td>\n",
       "<td>0.0393082</td>\n",
       "<td>0.0393082</td>\n",
       "<td>214.4654088</td>\n",
       "<td>214.4654088</td></tr>\n",
       "<tr><td></td>\n",
       "<td>2</td>\n",
       "<td>0.02</td>\n",
       "<td>0.9745386</td>\n",
       "<td>3.1446541</td>\n",
       "<td>3.1446541</td>\n",
       "<td>1.0</td>\n",
       "<td>1.0</td>\n",
       "<td>0.0235849</td>\n",
       "<td>0.0628931</td>\n",
       "<td>214.4654088</td>\n",
       "<td>214.4654088</td></tr>\n",
       "<tr><td></td>\n",
       "<td>3</td>\n",
       "<td>0.0665</td>\n",
       "<td>0.9745385</td>\n",
       "<td>3.1446541</td>\n",
       "<td>3.1446541</td>\n",
       "<td>1.0</td>\n",
       "<td>1.0</td>\n",
       "<td>0.1462264</td>\n",
       "<td>0.2091195</td>\n",
       "<td>214.4654088</td>\n",
       "<td>214.4654088</td></tr>\n",
       "<tr><td></td>\n",
       "<td>4</td>\n",
       "<td>0.1</td>\n",
       "<td>0.9735943</td>\n",
       "<td>3.1446541</td>\n",
       "<td>3.1446541</td>\n",
       "<td>1.0</td>\n",
       "<td>1.0</td>\n",
       "<td>0.1053459</td>\n",
       "<td>0.3144654</td>\n",
       "<td>214.4654088</td>\n",
       "<td>214.4654088</td></tr>\n",
       "<tr><td></td>\n",
       "<td>5</td>\n",
       "<td>0.15</td>\n",
       "<td>0.8768587</td>\n",
       "<td>3.0817610</td>\n",
       "<td>3.1236897</td>\n",
       "<td>0.98</td>\n",
       "<td>0.9933333</td>\n",
       "<td>0.1540881</td>\n",
       "<td>0.4685535</td>\n",
       "<td>208.1761006</td>\n",
       "<td>212.3689727</td></tr>\n",
       "<tr><td></td>\n",
       "<td>6</td>\n",
       "<td>0.2005</td>\n",
       "<td>0.7088394</td>\n",
       "<td>2.6464911</td>\n",
       "<td>3.0034975</td>\n",
       "<td>0.8415842</td>\n",
       "<td>0.9551122</td>\n",
       "<td>0.1336478</td>\n",
       "<td>0.6022013</td>\n",
       "<td>164.6491064</td>\n",
       "<td>200.3497545</td></tr>\n",
       "<tr><td></td>\n",
       "<td>7</td>\n",
       "<td>0.3005</td>\n",
       "<td>0.2587545</td>\n",
       "<td>1.2893082</td>\n",
       "<td>2.4330518</td>\n",
       "<td>0.41</td>\n",
       "<td>0.7737105</td>\n",
       "<td>0.1289308</td>\n",
       "<td>0.7311321</td>\n",
       "<td>28.9308176</td>\n",
       "<td>143.3051832</td></tr>\n",
       "<tr><td></td>\n",
       "<td>8</td>\n",
       "<td>0.4</td>\n",
       "<td>0.2211806</td>\n",
       "<td>1.0271483</td>\n",
       "<td>2.0833333</td>\n",
       "<td>0.3266332</td>\n",
       "<td>0.6625</td>\n",
       "<td>0.1022013</td>\n",
       "<td>0.8333333</td>\n",
       "<td>2.7148320</td>\n",
       "<td>108.3333333</td></tr>\n",
       "<tr><td></td>\n",
       "<td>9</td>\n",
       "<td>0.5</td>\n",
       "<td>0.1833535</td>\n",
       "<td>0.8490566</td>\n",
       "<td>1.8364780</td>\n",
       "<td>0.27</td>\n",
       "<td>0.584</td>\n",
       "<td>0.0849057</td>\n",
       "<td>0.9182390</td>\n",
       "<td>-15.0943396</td>\n",
       "<td>83.6477987</td></tr>\n",
       "<tr><td></td>\n",
       "<td>10</td>\n",
       "<td>0.6</td>\n",
       "<td>0.0894679</td>\n",
       "<td>0.3773585</td>\n",
       "<td>1.5932914</td>\n",
       "<td>0.12</td>\n",
       "<td>0.5066667</td>\n",
       "<td>0.0377358</td>\n",
       "<td>0.9559748</td>\n",
       "<td>-62.2641509</td>\n",
       "<td>59.3291405</td></tr>\n",
       "<tr><td></td>\n",
       "<td>11</td>\n",
       "<td>0.7</td>\n",
       "<td>0.0644380</td>\n",
       "<td>0.1886792</td>\n",
       "<td>1.3926325</td>\n",
       "<td>0.06</td>\n",
       "<td>0.4428571</td>\n",
       "<td>0.0188679</td>\n",
       "<td>0.9748428</td>\n",
       "<td>-81.1320755</td>\n",
       "<td>39.2632525</td></tr>\n",
       "<tr><td></td>\n",
       "<td>12</td>\n",
       "<td>0.8065</td>\n",
       "<td>0.0532612</td>\n",
       "<td>0.0738182</td>\n",
       "<td>1.2184804</td>\n",
       "<td>0.0234742</td>\n",
       "<td>0.3874768</td>\n",
       "<td>0.0078616</td>\n",
       "<td>0.9827044</td>\n",
       "<td>-92.6181829</td>\n",
       "<td>21.8480350</td></tr>\n",
       "<tr><td></td>\n",
       "<td>13</td>\n",
       "<td>0.9015</td>\n",
       "<td>0.0424838</td>\n",
       "<td>0.1489573</td>\n",
       "<td>1.1057741</td>\n",
       "<td>0.0473684</td>\n",
       "<td>0.3516362</td>\n",
       "<td>0.0141509</td>\n",
       "<td>0.9968553</td>\n",
       "<td>-85.1042701</td>\n",
       "<td>10.5774094</td></tr>\n",
       "<tr><td></td>\n",
       "<td>14</td>\n",
       "<td>1.0</td>\n",
       "<td>0.0262797</td>\n",
       "<td>0.0319254</td>\n",
       "<td>1.0</td>\n",
       "<td>0.0101523</td>\n",
       "<td>0.318</td>\n",
       "<td>0.0031447</td>\n",
       "<td>1.0</td>\n",
       "<td>-96.8074578</td>\n",
       "<td>0.0</td></tr></table></div>"
      ],
      "text/plain": [
       "    group    cumulative_data_fraction    lower_threshold    lift       cumulative_lift    response_rate    cumulative_response_rate    capture_rate    cumulative_capture_rate    gain      cumulative_gain\n",
       "--  -------  --------------------------  -----------------  ---------  -----------------  ---------------  --------------------------  --------------  -------------------------  --------  -----------------\n",
       "    1        0.0125                      0.975149           3.14465    3.14465            1                1                           0.0393082       0.0393082                  214.465   214.465\n",
       "    2        0.02                        0.974539           3.14465    3.14465            1                1                           0.0235849       0.0628931                  214.465   214.465\n",
       "    3        0.0665                      0.974538           3.14465    3.14465            1                1                           0.146226        0.209119                   214.465   214.465\n",
       "    4        0.1                         0.973594           3.14465    3.14465            1                1                           0.105346        0.314465                   214.465   214.465\n",
       "    5        0.15                        0.876859           3.08176    3.12369            0.98             0.993333                    0.154088        0.468553                   208.176   212.369\n",
       "    6        0.2005                      0.708839           2.64649    3.0035             0.841584         0.955112                    0.133648        0.602201                   164.649   200.35\n",
       "    7        0.3005                      0.258754           1.28931    2.43305            0.41             0.77371                     0.128931        0.731132                   28.9308   143.305\n",
       "    8        0.4                         0.221181           1.02715    2.08333            0.326633         0.6625                      0.102201        0.833333                   2.71483   108.333\n",
       "    9        0.5                         0.183354           0.849057   1.83648            0.27             0.584                       0.0849057       0.918239                   -15.0943  83.6478\n",
       "    10       0.6                         0.0894679          0.377358   1.59329            0.12             0.506667                    0.0377358       0.955975                   -62.2642  59.3291\n",
       "    11       0.7                         0.064438           0.188679   1.39263            0.06             0.442857                    0.0188679       0.974843                   -81.1321  39.2633\n",
       "    12       0.8065                      0.0532612          0.0738182  1.21848            0.0234742        0.387477                    0.00786164      0.982704                   -92.6182  21.848\n",
       "    13       0.9015                      0.0424838          0.148957   1.10577            0.0473684        0.351636                    0.0141509       0.996855                   -85.1043  10.5774\n",
       "    14       1                           0.0262797          0.0319254  1                  0.0101523        0.318                       0.00314465      1                          -96.8075  0"
      ]
     },
     "metadata": {},
     "output_type": "execute_result"
    },
    {
     "name": "stdout",
     "output_type": "stream",
     "text": [
      "\n"
     ]
    },
    {
     "data": {
      "text/plain": []
     },
     "execution_count": 24,
     "metadata": {},
     "output_type": "execute_result"
    }
   ],
   "source": [
    "# Show GBM model performance\n",
    "gbm_model.model_performance(test)"
   ]
  },
  {
   "cell_type": "code",
   "execution_count": 26,
   "metadata": {
    "collapsed": false
   },
   "outputs": [
    {
     "name": "stdout",
     "output_type": "stream",
     "text": [
      "deeplearning Model Build progress: |██████████████████████████████████████| 100%\n"
     ]
    }
   ],
   "source": [
    "# Create and train deeplearning model\n",
    "from h2o.estimators.deeplearning import H2ODeepLearningEstimator\n",
    "\n",
    "# Prepare model based on the given set of parameters\n",
    "dl_model = H2ODeepLearningEstimator()\n",
    "\n",
    "# Train the model\n",
    "dl_model.train(x            = predictor_columns,\n",
    "            y                = response_column,\n",
    "            training_frame   = train,\n",
    "            validation_frame = test\n",
    "            )"
   ]
  },
  {
   "cell_type": "code",
   "execution_count": 27,
   "metadata": {
    "collapsed": false
   },
   "outputs": [
    {
     "name": "stdout",
     "output_type": "stream",
     "text": [
      "\n",
      "ModelMetricsBinomial: deeplearning\n",
      "** Reported on test data. **\n",
      "\n",
      "MSE: 0.105736938269\n",
      "RMSE: 0.32517216712\n",
      "LogLoss: 0.341155331574\n",
      "Mean Per-Class Error: 0.177352496357\n",
      "AUC: 0.90432954776\n",
      "Gini: 0.80865909552\n",
      "Confusion Matrix (Act/Pred) for max f1 @ threshold = 0.322389414077: \n"
     ]
    },
    {
     "data": {
      "text/html": [
       "<div style=\"overflow:auto\"><table style=\"width:50%\"><tr><td><b></b></td>\n",
       "<td><b>false</b></td>\n",
       "<td><b>true</b></td>\n",
       "<td><b>Error</b></td>\n",
       "<td><b>Rate</b></td></tr>\n",
       "<tr><td>false</td>\n",
       "<td>1263.0</td>\n",
       "<td>101.0</td>\n",
       "<td>0.074</td>\n",
       "<td> (101.0/1364.0)</td></tr>\n",
       "<tr><td>true</td>\n",
       "<td>186.0</td>\n",
       "<td>450.0</td>\n",
       "<td>0.2925</td>\n",
       "<td> (186.0/636.0)</td></tr>\n",
       "<tr><td>Total</td>\n",
       "<td>1449.0</td>\n",
       "<td>551.0</td>\n",
       "<td>0.1435</td>\n",
       "<td> (287.0/2000.0)</td></tr></table></div>"
      ],
      "text/plain": [
       "       false    true    Error    Rate\n",
       "-----  -------  ------  -------  --------------\n",
       "false  1263     101     0.074    (101.0/1364.0)\n",
       "true   186      450     0.2925   (186.0/636.0)\n",
       "Total  1449     551     0.1435   (287.0/2000.0)"
      ]
     },
     "metadata": {},
     "output_type": "execute_result"
    },
    {
     "name": "stdout",
     "output_type": "stream",
     "text": [
      "Maximum Metrics: Maximum metrics at their respective thresholds\n",
      "\n"
     ]
    },
    {
     "data": {
      "text/html": [
       "<div style=\"overflow:auto\"><table style=\"width:50%\"><tr><td><b>metric</b></td>\n",
       "<td><b>threshold</b></td>\n",
       "<td><b>value</b></td>\n",
       "<td><b>idx</b></td></tr>\n",
       "<tr><td>max f1</td>\n",
       "<td>0.3223894</td>\n",
       "<td>0.7582140</td>\n",
       "<td>181.0</td></tr>\n",
       "<tr><td>max f2</td>\n",
       "<td>0.1017826</td>\n",
       "<td>0.8097902</td>\n",
       "<td>300.0</td></tr>\n",
       "<tr><td>max f0point5</td>\n",
       "<td>0.4810341</td>\n",
       "<td>0.8361345</td>\n",
       "<td>132.0</td></tr>\n",
       "<tr><td>max accuracy</td>\n",
       "<td>0.4810341</td>\n",
       "<td>0.862</td>\n",
       "<td>132.0</td></tr>\n",
       "<tr><td>max precision</td>\n",
       "<td>0.9996640</td>\n",
       "<td>1.0</td>\n",
       "<td>0.0</td></tr>\n",
       "<tr><td>max recall</td>\n",
       "<td>0.0052824</td>\n",
       "<td>1.0</td>\n",
       "<td>398.0</td></tr>\n",
       "<tr><td>max specificity</td>\n",
       "<td>0.9996640</td>\n",
       "<td>1.0</td>\n",
       "<td>0.0</td></tr>\n",
       "<tr><td>max absolute_mcc</td>\n",
       "<td>0.4810341</td>\n",
       "<td>0.6744073</td>\n",
       "<td>132.0</td></tr>\n",
       "<tr><td>max min_per_class_accuracy</td>\n",
       "<td>0.1893301</td>\n",
       "<td>0.8123167</td>\n",
       "<td>246.0</td></tr>\n",
       "<tr><td>max mean_per_class_accuracy</td>\n",
       "<td>0.2316893</td>\n",
       "<td>0.8226475</td>\n",
       "<td>224.0</td></tr></table></div>"
      ],
      "text/plain": [
       "metric                       threshold    value     idx\n",
       "---------------------------  -----------  --------  -----\n",
       "max f1                       0.322389     0.758214  181\n",
       "max f2                       0.101783     0.80979   300\n",
       "max f0point5                 0.481034     0.836134  132\n",
       "max accuracy                 0.481034     0.862     132\n",
       "max precision                0.999664     1         0\n",
       "max recall                   0.00528241   1         398\n",
       "max specificity              0.999664     1         0\n",
       "max absolute_mcc             0.481034     0.674407  132\n",
       "max min_per_class_accuracy   0.18933      0.812317  246\n",
       "max mean_per_class_accuracy  0.231689     0.822648  224"
      ]
     },
     "metadata": {},
     "output_type": "execute_result"
    },
    {
     "name": "stdout",
     "output_type": "stream",
     "text": [
      "Gains/Lift Table: Avg response rate: 31.80 %\n",
      "\n"
     ]
    },
    {
     "data": {
      "text/html": [
       "<div style=\"overflow:auto\"><table style=\"width:50%\"><tr><td><b></b></td>\n",
       "<td><b>group</b></td>\n",
       "<td><b>cumulative_data_fraction</b></td>\n",
       "<td><b>lower_threshold</b></td>\n",
       "<td><b>lift</b></td>\n",
       "<td><b>cumulative_lift</b></td>\n",
       "<td><b>response_rate</b></td>\n",
       "<td><b>cumulative_response_rate</b></td>\n",
       "<td><b>capture_rate</b></td>\n",
       "<td><b>cumulative_capture_rate</b></td>\n",
       "<td><b>gain</b></td>\n",
       "<td><b>cumulative_gain</b></td></tr>\n",
       "<tr><td></td>\n",
       "<td>1</td>\n",
       "<td>0.01</td>\n",
       "<td>0.9995724</td>\n",
       "<td>3.1446541</td>\n",
       "<td>3.1446541</td>\n",
       "<td>1.0</td>\n",
       "<td>1.0</td>\n",
       "<td>0.0314465</td>\n",
       "<td>0.0314465</td>\n",
       "<td>214.4654088</td>\n",
       "<td>214.4654088</td></tr>\n",
       "<tr><td></td>\n",
       "<td>2</td>\n",
       "<td>0.02</td>\n",
       "<td>0.9993583</td>\n",
       "<td>3.1446541</td>\n",
       "<td>3.1446541</td>\n",
       "<td>1.0</td>\n",
       "<td>1.0</td>\n",
       "<td>0.0314465</td>\n",
       "<td>0.0628931</td>\n",
       "<td>214.4654088</td>\n",
       "<td>214.4654088</td></tr>\n",
       "<tr><td></td>\n",
       "<td>3</td>\n",
       "<td>0.03</td>\n",
       "<td>0.9991607</td>\n",
       "<td>3.1446541</td>\n",
       "<td>3.1446541</td>\n",
       "<td>1.0</td>\n",
       "<td>1.0</td>\n",
       "<td>0.0314465</td>\n",
       "<td>0.0943396</td>\n",
       "<td>214.4654088</td>\n",
       "<td>214.4654088</td></tr>\n",
       "<tr><td></td>\n",
       "<td>4</td>\n",
       "<td>0.04</td>\n",
       "<td>0.9988819</td>\n",
       "<td>3.1446541</td>\n",
       "<td>3.1446541</td>\n",
       "<td>1.0</td>\n",
       "<td>1.0</td>\n",
       "<td>0.0314465</td>\n",
       "<td>0.1257862</td>\n",
       "<td>214.4654088</td>\n",
       "<td>214.4654088</td></tr>\n",
       "<tr><td></td>\n",
       "<td>5</td>\n",
       "<td>0.05</td>\n",
       "<td>0.9983837</td>\n",
       "<td>3.1446541</td>\n",
       "<td>3.1446541</td>\n",
       "<td>1.0</td>\n",
       "<td>1.0</td>\n",
       "<td>0.0314465</td>\n",
       "<td>0.1572327</td>\n",
       "<td>214.4654088</td>\n",
       "<td>214.4654088</td></tr>\n",
       "<tr><td></td>\n",
       "<td>6</td>\n",
       "<td>0.1</td>\n",
       "<td>0.9935288</td>\n",
       "<td>3.1446541</td>\n",
       "<td>3.1446541</td>\n",
       "<td>1.0</td>\n",
       "<td>1.0</td>\n",
       "<td>0.1572327</td>\n",
       "<td>0.3144654</td>\n",
       "<td>214.4654088</td>\n",
       "<td>214.4654088</td></tr>\n",
       "<tr><td></td>\n",
       "<td>7</td>\n",
       "<td>0.15</td>\n",
       "<td>0.8543228</td>\n",
       "<td>3.0188679</td>\n",
       "<td>3.1027254</td>\n",
       "<td>0.96</td>\n",
       "<td>0.9866667</td>\n",
       "<td>0.1509434</td>\n",
       "<td>0.4654088</td>\n",
       "<td>201.8867925</td>\n",
       "<td>210.2725367</td></tr>\n",
       "<tr><td></td>\n",
       "<td>8</td>\n",
       "<td>0.2</td>\n",
       "<td>0.5719081</td>\n",
       "<td>2.2955975</td>\n",
       "<td>2.9009434</td>\n",
       "<td>0.73</td>\n",
       "<td>0.9225</td>\n",
       "<td>0.1147799</td>\n",
       "<td>0.5801887</td>\n",
       "<td>129.5597484</td>\n",
       "<td>190.0943396</td></tr>\n",
       "<tr><td></td>\n",
       "<td>9</td>\n",
       "<td>0.3</td>\n",
       "<td>0.2812859</td>\n",
       "<td>1.5251572</td>\n",
       "<td>2.4423480</td>\n",
       "<td>0.485</td>\n",
       "<td>0.7766667</td>\n",
       "<td>0.1525157</td>\n",
       "<td>0.7327044</td>\n",
       "<td>52.5157233</td>\n",
       "<td>144.2348008</td></tr>\n",
       "<tr><td></td>\n",
       "<td>10</td>\n",
       "<td>0.4</td>\n",
       "<td>0.1798781</td>\n",
       "<td>0.8805031</td>\n",
       "<td>2.0518868</td>\n",
       "<td>0.28</td>\n",
       "<td>0.6525</td>\n",
       "<td>0.0880503</td>\n",
       "<td>0.8207547</td>\n",
       "<td>-11.9496855</td>\n",
       "<td>105.1886792</td></tr>\n",
       "<tr><td></td>\n",
       "<td>11</td>\n",
       "<td>0.5</td>\n",
       "<td>0.1101804</td>\n",
       "<td>0.7704403</td>\n",
       "<td>1.7955975</td>\n",
       "<td>0.245</td>\n",
       "<td>0.571</td>\n",
       "<td>0.0770440</td>\n",
       "<td>0.8977987</td>\n",
       "<td>-22.9559748</td>\n",
       "<td>79.5597484</td></tr>\n",
       "<tr><td></td>\n",
       "<td>12</td>\n",
       "<td>0.6</td>\n",
       "<td>0.0624899</td>\n",
       "<td>0.4559748</td>\n",
       "<td>1.5723270</td>\n",
       "<td>0.145</td>\n",
       "<td>0.5</td>\n",
       "<td>0.0455975</td>\n",
       "<td>0.9433962</td>\n",
       "<td>-54.4025157</td>\n",
       "<td>57.2327044</td></tr>\n",
       "<tr><td></td>\n",
       "<td>13</td>\n",
       "<td>0.7</td>\n",
       "<td>0.0438028</td>\n",
       "<td>0.2515723</td>\n",
       "<td>1.3836478</td>\n",
       "<td>0.08</td>\n",
       "<td>0.44</td>\n",
       "<td>0.0251572</td>\n",
       "<td>0.9685535</td>\n",
       "<td>-74.8427673</td>\n",
       "<td>38.3647799</td></tr>\n",
       "<tr><td></td>\n",
       "<td>14</td>\n",
       "<td>0.8</td>\n",
       "<td>0.0291225</td>\n",
       "<td>0.1100629</td>\n",
       "<td>1.2244497</td>\n",
       "<td>0.035</td>\n",
       "<td>0.389375</td>\n",
       "<td>0.0110063</td>\n",
       "<td>0.9795597</td>\n",
       "<td>-88.9937107</td>\n",
       "<td>22.4449686</td></tr>\n",
       "<tr><td></td>\n",
       "<td>15</td>\n",
       "<td>0.9</td>\n",
       "<td>0.0175475</td>\n",
       "<td>0.0786164</td>\n",
       "<td>1.0971349</td>\n",
       "<td>0.025</td>\n",
       "<td>0.3488889</td>\n",
       "<td>0.0078616</td>\n",
       "<td>0.9874214</td>\n",
       "<td>-92.1383648</td>\n",
       "<td>9.7134871</td></tr>\n",
       "<tr><td></td>\n",
       "<td>16</td>\n",
       "<td>1.0</td>\n",
       "<td>0.0036557</td>\n",
       "<td>0.1257862</td>\n",
       "<td>1.0</td>\n",
       "<td>0.04</td>\n",
       "<td>0.318</td>\n",
       "<td>0.0125786</td>\n",
       "<td>1.0</td>\n",
       "<td>-87.4213836</td>\n",
       "<td>0.0</td></tr></table></div>"
      ],
      "text/plain": [
       "    group    cumulative_data_fraction    lower_threshold    lift       cumulative_lift    response_rate    cumulative_response_rate    capture_rate    cumulative_capture_rate    gain      cumulative_gain\n",
       "--  -------  --------------------------  -----------------  ---------  -----------------  ---------------  --------------------------  --------------  -------------------------  --------  -----------------\n",
       "    1        0.01                        0.999572           3.14465    3.14465            1                1                           0.0314465       0.0314465                  214.465   214.465\n",
       "    2        0.02                        0.999358           3.14465    3.14465            1                1                           0.0314465       0.0628931                  214.465   214.465\n",
       "    3        0.03                        0.999161           3.14465    3.14465            1                1                           0.0314465       0.0943396                  214.465   214.465\n",
       "    4        0.04                        0.998882           3.14465    3.14465            1                1                           0.0314465       0.125786                   214.465   214.465\n",
       "    5        0.05                        0.998384           3.14465    3.14465            1                1                           0.0314465       0.157233                   214.465   214.465\n",
       "    6        0.1                         0.993529           3.14465    3.14465            1                1                           0.157233        0.314465                   214.465   214.465\n",
       "    7        0.15                        0.854323           3.01887    3.10273            0.96             0.986667                    0.150943        0.465409                   201.887   210.273\n",
       "    8        0.2                         0.571908           2.2956     2.90094            0.73             0.9225                      0.11478         0.580189                   129.56    190.094\n",
       "    9        0.3                         0.281286           1.52516    2.44235            0.485            0.776667                    0.152516        0.732704                   52.5157   144.235\n",
       "    10       0.4                         0.179878           0.880503   2.05189            0.28             0.6525                      0.0880503       0.820755                   -11.9497  105.189\n",
       "    11       0.5                         0.11018            0.77044    1.7956             0.245            0.571                       0.077044        0.897799                   -22.956   79.5597\n",
       "    12       0.6                         0.0624899          0.455975   1.57233            0.145            0.5                         0.0455975       0.943396                   -54.4025  57.2327\n",
       "    13       0.7                         0.0438028          0.251572   1.38365            0.08             0.44                        0.0251572       0.968553                   -74.8428  38.3648\n",
       "    14       0.8                         0.0291225          0.110063   1.22445            0.035            0.389375                    0.0110063       0.97956                    -88.9937  22.445\n",
       "    15       0.9                         0.0175475          0.0786164  1.09713            0.025            0.348889                    0.00786164      0.987421                   -92.1384  9.71349\n",
       "    16       1                           0.00365568         0.125786   1                  0.04             0.318                       0.0125786       1                          -87.4214  0"
      ]
     },
     "metadata": {},
     "output_type": "execute_result"
    },
    {
     "name": "stdout",
     "output_type": "stream",
     "text": [
      "\n"
     ]
    },
    {
     "data": {
      "text/plain": []
     },
     "execution_count": 27,
     "metadata": {},
     "output_type": "execute_result"
    }
   ],
   "source": [
    "# Show deeplearning model performance\n",
    "dl_model.model_performance(test)"
   ]
  },
  {
   "cell_type": "code",
   "execution_count": 28,
   "metadata": {
    "collapsed": true
   },
   "outputs": [],
   "source": [
    "# Create crime class which is used as a data holder on which prediction is done\n",
    "from datetime import datetime\n",
    "from pytz import timezone\n",
    "from pyspark.sql import Row\n",
    "\n",
    "def get_season(dt):\n",
    "    if (dt >= 3 and dt <= 5):\n",
    "        return \"Spring\"\n",
    "    elif (dt >= 6 and dt <= 8):\n",
    "        return \"Summer\"\n",
    "    elif (dt >= 9 and dt <= 10):\n",
    "        return \"Autumn\"\n",
    "    else:       \n",
    "        return \"Winter\"\n",
    "    \n",
    "def crime(date,\n",
    "        iucr,\n",
    "        primaryType,\n",
    "        locationDescr,\n",
    "        domestic,\n",
    "        beat,\n",
    "        district,\n",
    "        ward,\n",
    "        communityArea,\n",
    "        fbiCode,\n",
    "        minTemp = 77777,\n",
    "        maxTemp = 77777,\n",
    "        meanTemp = 77777,\n",
    "        datePattern = \"%d/%m/%Y %I:%M:%S %p\",\n",
    "        dateTimeZone = \"Etc/UTC\"):\n",
    "\n",
    "    dt = datetime.strptime(\"02/08/2015 11:43:58 PM\",'%d/%m/%Y %I:%M:%S %p')\n",
    "    dt.replace(tzinfo=timezone(\"Etc/UTC\"))\n",
    "\n",
    "    crime = Row(\n",
    "        Year = dt.year,\n",
    "        Month = dt.month,\n",
    "        Day = dt.day,\n",
    "        WeekNum = dt.isocalendar()[1],\n",
    "        HourOfDay = dt.hour,\n",
    "        Weekend = 1 if dt.weekday() == 5 or dt.weekday() == 6 else 0,\n",
    "        Season = get_season(dt.month),\n",
    "        WeekDay = dt.strftime('%a'),  #gets the day of week in short format - Mon, Tue ...\n",
    "        IUCR = iucr,\n",
    "        Primary_Type = primaryType,\n",
    "        Location_Description = locationDescr,\n",
    "        Domestic = True if domestic else False,\n",
    "        Beat = beat,\n",
    "        District = district,\n",
    "        Ward = ward,\n",
    "        Community_Area = communityArea,\n",
    "        FBI_Code = fbiCode,\n",
    "        minTemp = minTemp,\n",
    "        maxTemp = maxTemp,\n",
    "        meanTemp = meanTemp\n",
    "    )\n",
    "    return crime"
   ]
  },
  {
   "cell_type": "code",
   "execution_count": 29,
   "metadata": {
    "collapsed": true
   },
   "outputs": [],
   "source": [
    "# Create crime examples\n",
    "crime_examples = [\n",
    "  crime(\"02/08/2015 11:43:58 PM\", 1811, \"NARCOTICS\", \"STREET\",False, 422, 4, 7, 46, 18),\n",
    "  crime(\"02/08/2015 11:00:39 PM\", 1150, \"DECEPTIVE PRACTICE\", \"RESIDENCE\",False, 923, 9, 14, 63, 11)]"
   ]
  },
  {
   "cell_type": "code",
   "execution_count": 30,
   "metadata": {
    "collapsed": false
   },
   "outputs": [
    {
     "name": "stdout",
     "output_type": "stream",
     "text": [
      "gbm prediction progress: |████████████████████████████████████████████████| 100%\n",
      "deeplearning prediction progress: |███████████████████████████████████████| 100%\n",
      "\n",
      "       |Crime: Row(Beat=422, Community_Area=46, Day=2, District=4, Domestic=False, FBI_Code=18, HourOfDay=23, IUCR=1811, Location_Description='STREET', Month=8, Primary_Type='NARCOTICS', Season='Summer', Ward=7, WeekDay='Sun', WeekNum=31, Weekend=1, Year=2015, maxTemp=77777, meanTemp=77777, minTemp=77777)\n",
      "       |  Probability of arrest best on DeepLearning: 0.0\n",
      "       |  Probability of arrest best on GBM: 97.3589020485\n",
      "        \n",
      "gbm prediction progress: |████████████████████████████████████████████████| 100%\n",
      "deeplearning prediction progress: |███████████████████████████████████████| 100%\n",
      "\n",
      "       |Crime: Row(Beat=923, Community_Area=63, Day=2, District=9, Domestic=False, FBI_Code=11, HourOfDay=23, IUCR=1150, Location_Description='RESIDENCE', Month=8, Primary_Type='DECEPTIVE PRACTICE', Season='Summer', Ward=14, WeekDay='Sun', WeekNum=31, Weekend=1, Year=2015, maxTemp=77777, meanTemp=77777, minTemp=77777)\n",
      "       |  Probability of arrest best on DeepLearning: 0.0\n",
      "       |  Probability of arrest best on GBM: 4.13618055292\n",
      "        \n"
     ]
    }
   ],
   "source": [
    "# For given crime and model return probability of crime.\n",
    "def score_event(crime, model, censusTable):\n",
    "    rdd = sc.parallelize([crime])\n",
    "    crime_frame = sqlContext.createDataFrame(rdd)\n",
    "    # Join table with census data\n",
    "    df_row = censusTable.join(crime_frame).where(\"Community_Area = Community_Area_Number\")  \n",
    "    row = hc.as_h2o_frame(df_row)\n",
    "    row[\"Season\"] = row[\"Season\"].asfactor()\n",
    "    row[\"WeekDay\"] = row[\"WeekDay\"].asfactor()\n",
    "    row[\"Primary_Type\"] = row[\"Primary_Type\"].asfactor()\n",
    "    row[\"Location_Description\"] = row[\"Location_Description\"].asfactor()\n",
    "    row[\"Domestic\"] = row[\"Domestic\"].asfactor()\n",
    "\n",
    "    predictTable = model.predict(row)\n",
    "    probOfArrest = predictTable[\"true\"][0,0]\n",
    "    return probOfArrest\n",
    "\n",
    "for crime in crime_examples:\n",
    "    arrestProbGBM = 100*score_event(crime, gbm_model, df_census)\n",
    "    arrestProbDLM = 100*score_event(crime, dl_model, df_census)\n",
    "\n",
    "    print(\"\"\"\n",
    "       |Crime: \"\"\"+str(crime)+\"\"\"\n",
    "       |  Probability of arrest best on DeepLearning: \"\"\"+str(arrestProbDLM)+\"\"\"\n",
    "       |  Probability of arrest best on GBM: \"\"\"+str(arrestProbGBM)+\"\"\"\n",
    "        \"\"\")"
   ]
  }
 ],
 "metadata": {
  "kernelspec": {
   "display_name": "Python 2",
   "language": "python",
   "name": "python2"
  },
  "language_info": {
   "codemirror_mode": {
    "name": "ipython",
    "version": 2.0
   },
   "file_extension": ".py",
   "mimetype": "text/x-python",
   "name": "python",
   "nbconvert_exporter": "python",
   "pygments_lexer": "ipython2",
   "version": "2.7.13"
  }
 },
 "nbformat": 4,
 "nbformat_minor": 0
}