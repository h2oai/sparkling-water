{
 "cells": [
  {
   "cell_type": "code",
   "execution_count": 1,
   "metadata": {
    "collapsed": false
   },
   "outputs": [
    {
     "name": "stdout",
     "output_type": "stream",
     "text": [
      "Connecting to H2O server at http://172.16.2.103:54327... successful.\n"
     ]
    },
    {
     "data": {
      "text/html": [
       "<div style=\"overflow:auto\"><table style=\"width:50%\"><tr><td>H2O cluster uptime:</td>\n",
       "<td>12 secs</td></tr>\n",
       "<tr><td>H2O cluster version:</td>\n",
       "<td>3.10.5.4</td></tr>\n",
       "<tr><td>H2O cluster version age:</td>\n",
       "<td>1 month </td></tr>\n",
       "<tr><td>H2O cluster name:</td>\n",
       "<td>sparkling-water-megankurka_app-20170817115418-0000</td></tr>\n",
       "<tr><td>H2O cluster total nodes:</td>\n",
       "<td>3</td></tr>\n",
       "<tr><td>H2O cluster free memory:</td>\n",
       "<td>2.282 Gb</td></tr>\n",
       "<tr><td>H2O cluster total cores:</td>\n",
       "<td>24</td></tr>\n",
       "<tr><td>H2O cluster allowed cores:</td>\n",
       "<td>24</td></tr>\n",
       "<tr><td>H2O cluster status:</td>\n",
       "<td>accepting new members, healthy</td></tr>\n",
       "<tr><td>H2O connection url:</td>\n",
       "<td>http://172.16.2.103:54327</td></tr>\n",
       "<tr><td>H2O connection proxy:</td>\n",
       "<td>None</td></tr>\n",
       "<tr><td>H2O internal security:</td>\n",
       "<td>False</td></tr>\n",
       "<tr><td>Python version:</td>\n",
       "<td>2.7.13 final</td></tr></table></div>"
      ],
      "text/plain": [
       "--------------------------  --------------------------------------------------\n",
       "H2O cluster uptime:         12 secs\n",
       "H2O cluster version:        3.10.5.4\n",
       "H2O cluster version age:    1 month\n",
       "H2O cluster name:           sparkling-water-megankurka_app-20170817115418-0000\n",
       "H2O cluster total nodes:    3\n",
       "H2O cluster free memory:    2.282 Gb\n",
       "H2O cluster total cores:    24\n",
       "H2O cluster allowed cores:  24\n",
       "H2O cluster status:         accepting new members, healthy\n",
       "H2O connection url:         http://172.16.2.103:54327\n",
       "H2O connection proxy:\n",
       "H2O internal security:      False\n",
       "Python version:             2.7.13 final\n",
       "--------------------------  --------------------------------------------------"
      ]
     },
     "metadata": {},
     "output_type": "display_data"
    }
   ],
   "source": [
    "#Initiate H2OContext on top of Spark\n",
    "from pysparkling import *\n",
    "hc = H2OContext.getOrCreate(spark)"
   ]
  },
  {
   "cell_type": "code",
   "execution_count": 2,
   "metadata": {
    "collapsed": false
   },
   "outputs": [
    {
     "name": "stdout",
     "output_type": "stream",
     "text": [
      "Parse progress: |█████████████████████████████████████████████████████████| 100%\n",
      "Parse progress: |█████████████████████████████████████████████████████████| 100%\n",
      "Parse progress: |█████████████████████████████████████████████████████████| 100%\n"
     ]
    }
   ],
   "source": [
    "# This is just helper function returning relative path to data files within sparkling-water project directories\n",
    "def _locate(example_name): \n",
    "    return \"../../../examples/smalldata/\" + example_name \n",
    "\n",
    "\n",
    "# Define file names\n",
    "chicagoAllWeather = \"chicagoAllWeather.csv\"\n",
    "chicagoCensus = \"chicagoCensus.csv\"\n",
    "chicagoCrimes10k = \"chicagoCrimes10k.csv\"\n",
    "\n",
    "import h2o\n",
    "# h2o.import_file expects cluster-relative path\n",
    "f_weather = h2o.upload_file(_locate(chicagoAllWeather))\n",
    "f_census = h2o.upload_file(_locate(chicagoCensus))\n",
    "f_crimes = h2o.upload_file(_locate(chicagoCrimes10k))"
   ]
  },
  {
   "cell_type": "code",
   "execution_count": 3,
   "metadata": {
    "collapsed": false
   },
   "outputs": [
    {
     "data": {
      "text/html": [
       "<table>\n",
       "<thead>\n",
       "<tr><th>date               </th><th style=\"text-align: right;\">  month</th><th style=\"text-align: right;\">  day</th><th style=\"text-align: right;\">  year</th><th style=\"text-align: right;\">  maxTemp</th><th style=\"text-align: right;\">  meanTemp</th><th style=\"text-align: right;\">  minTemp</th></tr>\n",
       "</thead>\n",
       "<tbody>\n",
       "<tr><td>2001-01-01 00:00:00</td><td style=\"text-align: right;\">      1</td><td style=\"text-align: right;\">    1</td><td style=\"text-align: right;\">  2001</td><td style=\"text-align: right;\">       23</td><td style=\"text-align: right;\">        14</td><td style=\"text-align: right;\">        6</td></tr>\n",
       "<tr><td>2001-01-02 00:00:00</td><td style=\"text-align: right;\">      1</td><td style=\"text-align: right;\">    2</td><td style=\"text-align: right;\">  2001</td><td style=\"text-align: right;\">       18</td><td style=\"text-align: right;\">        12</td><td style=\"text-align: right;\">        6</td></tr>\n",
       "<tr><td>2001-01-03 00:00:00</td><td style=\"text-align: right;\">      1</td><td style=\"text-align: right;\">    3</td><td style=\"text-align: right;\">  2001</td><td style=\"text-align: right;\">       28</td><td style=\"text-align: right;\">        18</td><td style=\"text-align: right;\">        8</td></tr>\n",
       "<tr><td>2001-01-04 00:00:00</td><td style=\"text-align: right;\">      1</td><td style=\"text-align: right;\">    4</td><td style=\"text-align: right;\">  2001</td><td style=\"text-align: right;\">       30</td><td style=\"text-align: right;\">        24</td><td style=\"text-align: right;\">       19</td></tr>\n",
       "<tr><td>2001-01-05 00:00:00</td><td style=\"text-align: right;\">      1</td><td style=\"text-align: right;\">    5</td><td style=\"text-align: right;\">  2001</td><td style=\"text-align: right;\">       36</td><td style=\"text-align: right;\">        30</td><td style=\"text-align: right;\">       21</td></tr>\n",
       "<tr><td>2001-01-06 00:00:00</td><td style=\"text-align: right;\">      1</td><td style=\"text-align: right;\">    6</td><td style=\"text-align: right;\">  2001</td><td style=\"text-align: right;\">       33</td><td style=\"text-align: right;\">        26</td><td style=\"text-align: right;\">       19</td></tr>\n",
       "<tr><td>2001-01-07 00:00:00</td><td style=\"text-align: right;\">      1</td><td style=\"text-align: right;\">    7</td><td style=\"text-align: right;\">  2001</td><td style=\"text-align: right;\">       34</td><td style=\"text-align: right;\">        28</td><td style=\"text-align: right;\">       21</td></tr>\n",
       "<tr><td>2001-01-08 00:00:00</td><td style=\"text-align: right;\">      1</td><td style=\"text-align: right;\">    8</td><td style=\"text-align: right;\">  2001</td><td style=\"text-align: right;\">       26</td><td style=\"text-align: right;\">        20</td><td style=\"text-align: right;\">       14</td></tr>\n",
       "<tr><td>2001-01-09 00:00:00</td><td style=\"text-align: right;\">      1</td><td style=\"text-align: right;\">    9</td><td style=\"text-align: right;\">  2001</td><td style=\"text-align: right;\">       23</td><td style=\"text-align: right;\">        16</td><td style=\"text-align: right;\">       10</td></tr>\n",
       "<tr><td>2001-01-10 00:00:00</td><td style=\"text-align: right;\">      1</td><td style=\"text-align: right;\">   10</td><td style=\"text-align: right;\">  2001</td><td style=\"text-align: right;\">       34</td><td style=\"text-align: right;\">        26</td><td style=\"text-align: right;\">       19</td></tr>\n",
       "</tbody>\n",
       "</table>"
      ]
     },
     "metadata": {},
     "output_type": "display_data"
    },
    {
     "data": {
      "text/html": [
       "<table>\n",
       "<thead>\n",
       "<tr><th style=\"text-align: right;\">  Community Area Number</th><th>COMMUNITY AREA NAME  </th><th style=\"text-align: right;\">  PERCENT OF HOUSING CROWDED</th><th style=\"text-align: right;\">  PERCENT HOUSEHOLDS BELOW POVERTY</th><th style=\"text-align: right;\">  PERCENT AGED 16+ UNEMPLOYED</th><th style=\"text-align: right;\">  PERCENT AGED 25+ WITHOUT HIGH SCHOOL DIPLOMA</th><th style=\"text-align: right;\">  PERCENT AGED UNDER 18 OR OVER 64</th><th style=\"text-align: right;\">  PER CAPITA INCOME </th><th style=\"text-align: right;\">  HARDSHIP INDEX</th></tr>\n",
       "</thead>\n",
       "<tbody>\n",
       "<tr><td style=\"text-align: right;\">                      1</td><td>Rogers Park          </td><td style=\"text-align: right;\">                         7.7</td><td style=\"text-align: right;\">                              23.6</td><td style=\"text-align: right;\">                          8.7</td><td style=\"text-align: right;\">                                          18.2</td><td style=\"text-align: right;\">                              27.5</td><td style=\"text-align: right;\">               23939</td><td style=\"text-align: right;\">              39</td></tr>\n",
       "<tr><td style=\"text-align: right;\">                      2</td><td>West Ridge           </td><td style=\"text-align: right;\">                         7.8</td><td style=\"text-align: right;\">                              17.2</td><td style=\"text-align: right;\">                          8.8</td><td style=\"text-align: right;\">                                          20.8</td><td style=\"text-align: right;\">                              38.5</td><td style=\"text-align: right;\">               23040</td><td style=\"text-align: right;\">              46</td></tr>\n",
       "<tr><td style=\"text-align: right;\">                      3</td><td>Uptown               </td><td style=\"text-align: right;\">                         3.8</td><td style=\"text-align: right;\">                              24  </td><td style=\"text-align: right;\">                          8.9</td><td style=\"text-align: right;\">                                          11.8</td><td style=\"text-align: right;\">                              22.2</td><td style=\"text-align: right;\">               35787</td><td style=\"text-align: right;\">              20</td></tr>\n",
       "<tr><td style=\"text-align: right;\">                      4</td><td>Lincoln Square       </td><td style=\"text-align: right;\">                         3.4</td><td style=\"text-align: right;\">                              10.9</td><td style=\"text-align: right;\">                          8.2</td><td style=\"text-align: right;\">                                          13.4</td><td style=\"text-align: right;\">                              25.5</td><td style=\"text-align: right;\">               37524</td><td style=\"text-align: right;\">              17</td></tr>\n",
       "<tr><td style=\"text-align: right;\">                      5</td><td>North Center         </td><td style=\"text-align: right;\">                         0.3</td><td style=\"text-align: right;\">                               7.5</td><td style=\"text-align: right;\">                          5.2</td><td style=\"text-align: right;\">                                           4.5</td><td style=\"text-align: right;\">                              26.2</td><td style=\"text-align: right;\">               57123</td><td style=\"text-align: right;\">               6</td></tr>\n",
       "<tr><td style=\"text-align: right;\">                      6</td><td>Lake View            </td><td style=\"text-align: right;\">                         1.1</td><td style=\"text-align: right;\">                              11.4</td><td style=\"text-align: right;\">                          4.7</td><td style=\"text-align: right;\">                                           2.6</td><td style=\"text-align: right;\">                              17  </td><td style=\"text-align: right;\">               60058</td><td style=\"text-align: right;\">               5</td></tr>\n",
       "<tr><td style=\"text-align: right;\">                      7</td><td>Lincoln Park         </td><td style=\"text-align: right;\">                         0.8</td><td style=\"text-align: right;\">                              12.3</td><td style=\"text-align: right;\">                          5.1</td><td style=\"text-align: right;\">                                           3.6</td><td style=\"text-align: right;\">                              21.5</td><td style=\"text-align: right;\">               71551</td><td style=\"text-align: right;\">               2</td></tr>\n",
       "<tr><td style=\"text-align: right;\">                      8</td><td>Near North Side      </td><td style=\"text-align: right;\">                         1.9</td><td style=\"text-align: right;\">                              12.9</td><td style=\"text-align: right;\">                          7  </td><td style=\"text-align: right;\">                                           2.5</td><td style=\"text-align: right;\">                              22.6</td><td style=\"text-align: right;\">               88669</td><td style=\"text-align: right;\">               1</td></tr>\n",
       "<tr><td style=\"text-align: right;\">                      9</td><td>Edison Park          </td><td style=\"text-align: right;\">                         1.1</td><td style=\"text-align: right;\">                               3.3</td><td style=\"text-align: right;\">                          6.5</td><td style=\"text-align: right;\">                                           7.4</td><td style=\"text-align: right;\">                              35.3</td><td style=\"text-align: right;\">               40959</td><td style=\"text-align: right;\">               8</td></tr>\n",
       "<tr><td style=\"text-align: right;\">                     10</td><td>Norwood Park         </td><td style=\"text-align: right;\">                         2  </td><td style=\"text-align: right;\">                               5.4</td><td style=\"text-align: right;\">                          9  </td><td style=\"text-align: right;\">                                          11.5</td><td style=\"text-align: right;\">                              39.5</td><td style=\"text-align: right;\">               32875</td><td style=\"text-align: right;\">              21</td></tr>\n",
       "</tbody>\n",
       "</table>"
      ]
     },
     "metadata": {},
     "output_type": "display_data"
    },
    {
     "data": {
      "text/html": [
       "<table>\n",
       "<thead>\n",
       "<tr><th style=\"text-align: right;\">             ID</th><th>Case Number  </th><th>Date               </th><th>Block               </th><th style=\"text-align: right;\">  IUCR</th><th>Primary Type   </th><th>Description                 </th><th>Location Description  </th><th>Arrest  </th><th>Domestic  </th><th style=\"text-align: right;\">  Beat</th><th style=\"text-align: right;\">  District</th><th style=\"text-align: right;\">  Ward</th><th style=\"text-align: right;\">  Community Area</th><th style=\"text-align: right;\">  FBI Code</th><th style=\"text-align: right;\">  X Coordinate</th><th style=\"text-align: right;\">  Y Coordinate</th><th style=\"text-align: right;\">  Year</th><th>Updated On         </th><th style=\"text-align: right;\">  Latitude</th><th style=\"text-align: right;\">  Longitude</th><th>Location                     </th></tr>\n",
       "</thead>\n",
       "<tbody>\n",
       "<tr><td style=\"text-align: right;\">    9.95581e+06</td><td>HY144797     </td><td>2015-02-08 23:43:40</td><td>081XX S COLES AVE   </td><td style=\"text-align: right;\">  1811</td><td>NARCOTICS      </td><td>POSS: CANNABIS 30GMS OR LESS</td><td>STREET                </td><td>true    </td><td>false     </td><td style=\"text-align: right;\">   422</td><td style=\"text-align: right;\">         4</td><td style=\"text-align: right;\">     7</td><td style=\"text-align: right;\">              46</td><td style=\"text-align: right;\">        18</td><td style=\"text-align: right;\">   1.19827e+06</td><td style=\"text-align: right;\">   1.85163e+06</td><td style=\"text-align: right;\">  2015</td><td>2015-02-15 00:43:39</td><td style=\"text-align: right;\">   41.7477</td><td style=\"text-align: right;\">   -87.549 </td><td>(41.747693646, -87.549035389)</td></tr>\n",
       "<tr><td style=\"text-align: right;\">    9.95586e+06</td><td>HY144838     </td><td>2015-02-08 23:41:42</td><td>118XX S STATE ST    </td><td style=\"text-align: right;\">   486</td><td>BATTERY        </td><td>DOMESTIC BATTERY SIMPLE     </td><td>APARTMENT             </td><td>true    </td><td>true      </td><td style=\"text-align: right;\">   522</td><td style=\"text-align: right;\">         5</td><td style=\"text-align: right;\">    34</td><td style=\"text-align: right;\">              53</td><td style=\"text-align: right;\">       nan</td><td style=\"text-align: right;\">   1.17834e+06</td><td style=\"text-align: right;\">   1.82658e+06</td><td style=\"text-align: right;\">  2015</td><td>2015-02-15 00:43:39</td><td style=\"text-align: right;\">   41.6794</td><td style=\"text-align: right;\">   -87.6229</td><td>(41.679442289, -87.622850758)</td></tr>\n",
       "<tr><td style=\"text-align: right;\">    9.9558e+06 </td><td>HY144779     </td><td>2015-02-08 23:30:22</td><td>002XX S LARAMIE AVE </td><td style=\"text-align: right;\">  2026</td><td>NARCOTICS      </td><td>POSS: PCP                   </td><td>SIDEWALK              </td><td>true    </td><td>false     </td><td style=\"text-align: right;\">  1522</td><td style=\"text-align: right;\">        15</td><td style=\"text-align: right;\">    29</td><td style=\"text-align: right;\">              25</td><td style=\"text-align: right;\">        18</td><td style=\"text-align: right;\">   1.14172e+06</td><td style=\"text-align: right;\">   1.89858e+06</td><td style=\"text-align: right;\">  2015</td><td>2015-02-15 00:43:39</td><td style=\"text-align: right;\">   41.8778</td><td style=\"text-align: right;\">   -87.7551</td><td>(41.87777333, -87.755117993) </td></tr>\n",
       "<tr><td style=\"text-align: right;\">    9.9562e+06 </td><td>HY144787     </td><td>2015-02-08 23:30:23</td><td>006XX E 67TH ST     </td><td style=\"text-align: right;\">  1811</td><td>NARCOTICS      </td><td>POSS: CANNABIS 30GMS OR LESS</td><td>STREET                </td><td>true    </td><td>false     </td><td style=\"text-align: right;\">   321</td><td style=\"text-align: right;\">       nan</td><td style=\"text-align: right;\">     6</td><td style=\"text-align: right;\">              42</td><td style=\"text-align: right;\">        18</td><td style=\"text-align: right;\"> nan          </td><td style=\"text-align: right;\"> nan          </td><td style=\"text-align: right;\">  2015</td><td>2015-02-15 00:43:39</td><td style=\"text-align: right;\">  nan     </td><td style=\"text-align: right;\">   nan     </td><td>                             </td></tr>\n",
       "<tr><td style=\"text-align: right;\">    9.95585e+06</td><td>HY144829     </td><td>2015-02-08 23:30:58</td><td>0000X S MAYFIELD AVE</td><td style=\"text-align: right;\">   610</td><td>BURGLARY       </td><td>FORCIBLE ENTRY              </td><td>APARTMENT             </td><td>false   </td><td>false     </td><td style=\"text-align: right;\">  1513</td><td style=\"text-align: right;\">        15</td><td style=\"text-align: right;\">    29</td><td style=\"text-align: right;\">              25</td><td style=\"text-align: right;\">         5</td><td style=\"text-align: right;\">   1.13724e+06</td><td style=\"text-align: right;\">   1.89937e+06</td><td style=\"text-align: right;\">  2015</td><td>2015-02-15 00:43:39</td><td style=\"text-align: right;\">   41.88  </td><td style=\"text-align: right;\">   -87.7715</td><td>(41.880025548, -87.771541324)</td></tr>\n",
       "<tr><td style=\"text-align: right;\">    9.95584e+06</td><td>HY144778     </td><td>2015-02-08 23:30:21</td><td>010XX W 48TH ST     </td><td style=\"text-align: right;\">   486</td><td>BATTERY        </td><td>DOMESTIC BATTERY SIMPLE     </td><td>APARTMENT             </td><td>false   </td><td>true      </td><td style=\"text-align: right;\">   933</td><td style=\"text-align: right;\">         9</td><td style=\"text-align: right;\">     3</td><td style=\"text-align: right;\">              61</td><td style=\"text-align: right;\">       nan</td><td style=\"text-align: right;\">   1.16999e+06</td><td style=\"text-align: right;\">   1.87302e+06</td><td style=\"text-align: right;\">  2015</td><td>2015-02-15 00:43:39</td><td style=\"text-align: right;\">   41.8071</td><td style=\"text-align: right;\">   -87.6521</td><td>(41.807059405, -87.65206589) </td></tr>\n",
       "<tr><td style=\"text-align: right;\">    9.95587e+06</td><td>HY144822     </td><td>2015-02-08 23:27:24</td><td>015XX W ARTHUR AVE  </td><td style=\"text-align: right;\">  1320</td><td>CRIMINAL DAMAGE</td><td>TO VEHICLE                  </td><td>STREET                </td><td>false   </td><td>false     </td><td style=\"text-align: right;\">  2432</td><td style=\"text-align: right;\">        24</td><td style=\"text-align: right;\">    40</td><td style=\"text-align: right;\">               1</td><td style=\"text-align: right;\">        14</td><td style=\"text-align: right;\">   1.16473e+06</td><td style=\"text-align: right;\">   1.94322e+06</td><td style=\"text-align: right;\">  2015</td><td>2015-02-15 00:43:39</td><td style=\"text-align: right;\">   41.9998</td><td style=\"text-align: right;\">   -87.6693</td><td>(41.999814056, -87.669342967)</td></tr>\n",
       "<tr><td style=\"text-align: right;\">21752          </td><td>HY144738     </td><td>2015-02-08 23:26:12</td><td>060XX W GRAND AVE   </td><td style=\"text-align: right;\">   110</td><td>HOMICIDE       </td><td>FIRST DEGREE MURDER         </td><td>STREET                </td><td>true    </td><td>false     </td><td style=\"text-align: right;\">  2512</td><td style=\"text-align: right;\">        25</td><td style=\"text-align: right;\">    37</td><td style=\"text-align: right;\">              19</td><td style=\"text-align: right;\">       nan</td><td style=\"text-align: right;\">   1.13591e+06</td><td style=\"text-align: right;\">   1.91421e+06</td><td style=\"text-align: right;\">  2015</td><td>2015-02-15 00:43:39</td><td style=\"text-align: right;\">   41.9208</td><td style=\"text-align: right;\">   -87.7761</td><td>(41.920755683, -87.776067514)</td></tr>\n",
       "<tr><td style=\"text-align: right;\">    9.95581e+06</td><td>HY144775     </td><td>2015-02-08 23:20:33</td><td>001XX W WACKER DR   </td><td style=\"text-align: right;\">   460</td><td>BATTERY        </td><td>SIMPLE                      </td><td>OTHER                 </td><td>false   </td><td>false     </td><td style=\"text-align: right;\">   122</td><td style=\"text-align: right;\">         1</td><td style=\"text-align: right;\">    42</td><td style=\"text-align: right;\">              32</td><td style=\"text-align: right;\">       nan</td><td style=\"text-align: right;\">   1.17538e+06</td><td style=\"text-align: right;\">   1.90209e+06</td><td style=\"text-align: right;\">  2015</td><td>2015-02-15 00:43:39</td><td style=\"text-align: right;\">   41.8867</td><td style=\"text-align: right;\">   -87.6314</td><td>(41.886707818, -87.631396356)</td></tr>\n",
       "<tr><td style=\"text-align: right;\">    9.95828e+06</td><td>HY146732     </td><td>2015-02-08 23:15:36</td><td>001XX W WACKER DR   </td><td style=\"text-align: right;\">   460</td><td>BATTERY        </td><td>SIMPLE                      </td><td>HOTEL/MOTEL           </td><td>false   </td><td>false     </td><td style=\"text-align: right;\">   122</td><td style=\"text-align: right;\">         1</td><td style=\"text-align: right;\">    42</td><td style=\"text-align: right;\">              32</td><td style=\"text-align: right;\">       nan</td><td style=\"text-align: right;\">   1.17538e+06</td><td style=\"text-align: right;\">   1.90209e+06</td><td style=\"text-align: right;\">  2015</td><td>2015-02-15 00:43:39</td><td style=\"text-align: right;\">   41.8867</td><td style=\"text-align: right;\">   -87.6314</td><td>(41.886707818, -87.631396356)</td></tr>\n",
       "</tbody>\n",
       "</table>"
      ]
     },
     "metadata": {},
     "output_type": "display_data"
    }
   ],
   "source": [
    "f_weather.show()\n",
    "f_census.show()\n",
    "f_crimes.show()"
   ]
  },
  {
   "cell_type": "code",
   "execution_count": 4,
   "metadata": {
    "collapsed": false
   },
   "outputs": [],
   "source": [
    "# Set time zone to UTC for date manipulation\n",
    "h2o.cluster().timezone = \"Etc/UTC\""
   ]
  },
  {
   "cell_type": "code",
   "execution_count": 5,
   "metadata": {
    "collapsed": true
   },
   "outputs": [],
   "source": [
    "# Transform weather table\n",
    "## Remove 1st column (date)\n",
    "f_weather = f_weather[1:]"
   ]
  },
  {
   "cell_type": "code",
   "execution_count": 6,
   "metadata": {
    "collapsed": true
   },
   "outputs": [],
   "source": [
    "# Transform census table\n",
    "## Remove all spaces from column names (causing problems in Spark SQL)\n",
    "col_names = map(lambda s: s.strip().replace(' ', '_').replace('+','_'), f_census.col_names)\n",
    "\n",
    "## Update column names in the table\n",
    "#f_weather.names = col_names\n",
    "f_census.names = col_names"
   ]
  },
  {
   "cell_type": "code",
   "execution_count": 7,
   "metadata": {
    "collapsed": false
   },
   "outputs": [
    {
     "name": "stdout",
     "output_type": "stream",
     "text": [
      "Rows:9999\n",
      "Cols:26\n",
      "\n",
      "\n"
     ]
    },
    {
     "data": {
      "text/html": [
       "<table>\n",
       "<thead>\n",
       "<tr><th>       </th><th>Block               </th><th>IUCR         </th><th>Primary_Type   </th><th>Description                 </th><th>Location_Description  </th><th>Arrest  </th><th>Domestic  </th><th>Beat         </th><th>District     </th><th>Ward         </th><th>Community_Area  </th><th>FBI_Code     </th><th>X_Coordinate  </th><th>Y_Coordinate  </th><th>Year  </th><th>Updated_On         </th><th>Latitude       </th><th>Longitude      </th><th>Location                     </th><th>Day          </th><th>Month         </th><th>WeekNum       </th><th>WeekDay  </th><th>HourOfDay    </th><th>Weekend       </th><th>Season  </th></tr>\n",
       "</thead>\n",
       "<tbody>\n",
       "<tr><td>type   </td><td>enum                </td><td>int          </td><td>enum           </td><td>enum                        </td><td>enum                  </td><td>enum    </td><td>enum      </td><td>int          </td><td>int          </td><td>int          </td><td>int             </td><td>int          </td><td>int           </td><td>int           </td><td>int   </td><td>time               </td><td>real           </td><td>real           </td><td>enum                         </td><td>int          </td><td>int           </td><td>int           </td><td>enum     </td><td>int          </td><td>int           </td><td>enum    </td></tr>\n",
       "<tr><td>mins   </td><td>                    </td><td>110.0        </td><td>               </td><td>                            </td><td>                      </td><td>        </td><td>          </td><td>111.0        </td><td>1.0          </td><td>1.0          </td><td>1.0             </td><td>2.0          </td><td>1100317.0     </td><td>1814255.0     </td><td>2015.0</td><td>1.422579065e+12    </td><td>41.64507243    </td><td>-87.906463888  </td><td>                             </td><td>1.0          </td><td>1.0           </td><td>4.0           </td><td>         </td><td>0.0          </td><td>0.0           </td><td>        </td></tr>\n",
       "<tr><td>mean   </td><td>                    </td><td>1189.67651357</td><td>               </td><td>                            </td><td>                      </td><td>        </td><td>          </td><td>1159.61806181</td><td>11.3489885128</td><td>22.9540954095</td><td>37.4476447645   </td><td>12.7401236227</td><td>1163880.59815 </td><td>1885916.14984 </td><td>2015.0</td><td>1.42326095905e+12  </td><td>41.8425652247  </td><td>-87.6741405221 </td><td>                             </td><td>17.6839683968</td><td>1.41944194419 </td><td>5.18081808181 </td><td>         </td><td>13.4279427943</td><td>0.357535753575</td><td>        </td></tr>\n",
       "<tr><td>maxs   </td><td>                    </td><td>5131.0       </td><td>               </td><td>                            </td><td>                      </td><td>        </td><td>          </td><td>2535.0       </td><td>25.0         </td><td>50.0         </td><td>77.0            </td><td>26.0         </td><td>1205069.0     </td><td>1951533.0     </td><td>2015.0</td><td>1.423961019e+12    </td><td>42.022646183   </td><td>-87.524773286  </td><td>                             </td><td>31.0         </td><td>2.0           </td><td>6.0           </td><td>         </td><td>23.0         </td><td>1.0           </td><td>        </td></tr>\n",
       "<tr><td>sigma  </td><td>                    </td><td>927.751435583</td><td>               </td><td>                            </td><td>                      </td><td>        </td><td>          </td><td>695.76029875 </td><td>6.94547493301</td><td>13.6495661144</td><td>21.2748762223   </td><td>7.57423857911</td><td>16496.4493681 </td><td>31274.0163199 </td><td>0.0   </td><td>435853634.474      </td><td>0.0860186579358</td><td>0.0600357970653</td><td>                             </td><td>11.1801043358</td><td>0.493492406787</td><td>0.738929830409</td><td>         </td><td>6.70636849226</td><td>0.47929835539 </td><td>        </td></tr>\n",
       "<tr><td>zeros  </td><td>                    </td><td>0            </td><td>               </td><td>                            </td><td>                      </td><td>        </td><td>          </td><td>0            </td><td>0            </td><td>0            </td><td>0               </td><td>0            </td><td>0             </td><td>0             </td><td>0     </td><td>0                  </td><td>0              </td><td>0              </td><td>                             </td><td>0            </td><td>0             </td><td>0             </td><td>         </td><td>544          </td><td>6424          </td><td>        </td></tr>\n",
       "<tr><td>missing</td><td>0                   </td><td>419          </td><td>0              </td><td>0                           </td><td>6                     </td><td>0       </td><td>0         </td><td>0            </td><td>162          </td><td>0            </td><td>0               </td><td>2557         </td><td>162           </td><td>162           </td><td>0     </td><td>0                  </td><td>162            </td><td>162            </td><td>162                          </td><td>0            </td><td>0             </td><td>0             </td><td>0        </td><td>0            </td><td>0             </td><td>0       </td></tr>\n",
       "<tr><td>0      </td><td>081XX S COLES AVE   </td><td>1811.0       </td><td>NARCOTICS      </td><td>POSS: CANNABIS 30GMS OR LESS</td><td>STREET                </td><td>true    </td><td>false     </td><td>422.0        </td><td>4.0          </td><td>7.0          </td><td>46.0            </td><td>18.0         </td><td>1198273.0     </td><td>1851626.0     </td><td>2015.0</td><td>2015-02-15 00:43:39</td><td>41.747693646   </td><td>-87.549035389  </td><td>(41.747693646, -87.549035389)</td><td>8.0          </td><td>2.0           </td><td>6.0           </td><td>Sun      </td><td>23.0         </td><td>1.0           </td><td>Winter  </td></tr>\n",
       "<tr><td>1      </td><td>118XX S STATE ST    </td><td>486.0        </td><td>BATTERY        </td><td>DOMESTIC BATTERY SIMPLE     </td><td>APARTMENT             </td><td>true    </td><td>true      </td><td>522.0        </td><td>5.0          </td><td>34.0         </td><td>53.0            </td><td>nan          </td><td>1178335.0     </td><td>1826581.0     </td><td>2015.0</td><td>2015-02-15 00:43:39</td><td>41.679442289   </td><td>-87.622850758  </td><td>(41.679442289, -87.622850758)</td><td>8.0          </td><td>2.0           </td><td>6.0           </td><td>Sun      </td><td>23.0         </td><td>1.0           </td><td>Winter  </td></tr>\n",
       "<tr><td>2      </td><td>002XX S LARAMIE AVE </td><td>2026.0       </td><td>NARCOTICS      </td><td>POSS: PCP                   </td><td>SIDEWALK              </td><td>true    </td><td>false     </td><td>1522.0       </td><td>15.0         </td><td>29.0         </td><td>25.0            </td><td>18.0         </td><td>1141717.0     </td><td>1898581.0     </td><td>2015.0</td><td>2015-02-15 00:43:39</td><td>41.87777333    </td><td>-87.755117993  </td><td>(41.87777333, -87.755117993) </td><td>8.0          </td><td>2.0           </td><td>6.0           </td><td>Sun      </td><td>23.0         </td><td>1.0           </td><td>Winter  </td></tr>\n",
       "<tr><td>3      </td><td>006XX E 67TH ST     </td><td>1811.0       </td><td>NARCOTICS      </td><td>POSS: CANNABIS 30GMS OR LESS</td><td>STREET                </td><td>true    </td><td>false     </td><td>321.0        </td><td>nan          </td><td>6.0          </td><td>42.0            </td><td>18.0         </td><td>nan           </td><td>nan           </td><td>2015.0</td><td>2015-02-15 00:43:39</td><td>nan            </td><td>nan            </td><td>                             </td><td>8.0          </td><td>2.0           </td><td>6.0           </td><td>Sun      </td><td>23.0         </td><td>1.0           </td><td>Winter  </td></tr>\n",
       "<tr><td>4      </td><td>0000X S MAYFIELD AVE</td><td>610.0        </td><td>BURGLARY       </td><td>FORCIBLE ENTRY              </td><td>APARTMENT             </td><td>false   </td><td>false     </td><td>1513.0       </td><td>15.0         </td><td>29.0         </td><td>25.0            </td><td>5.0          </td><td>1137239.0     </td><td>1899372.0     </td><td>2015.0</td><td>2015-02-15 00:43:39</td><td>41.880025548   </td><td>-87.771541324  </td><td>(41.880025548, -87.771541324)</td><td>8.0          </td><td>2.0           </td><td>6.0           </td><td>Sun      </td><td>23.0         </td><td>1.0           </td><td>Winter  </td></tr>\n",
       "<tr><td>5      </td><td>010XX W 48TH ST     </td><td>486.0        </td><td>BATTERY        </td><td>DOMESTIC BATTERY SIMPLE     </td><td>APARTMENT             </td><td>false   </td><td>true      </td><td>933.0        </td><td>9.0          </td><td>3.0          </td><td>61.0            </td><td>nan          </td><td>1169986.0     </td><td>1873019.0     </td><td>2015.0</td><td>2015-02-15 00:43:39</td><td>41.807059405   </td><td>-87.65206589   </td><td>(41.807059405, -87.65206589) </td><td>8.0          </td><td>2.0           </td><td>6.0           </td><td>Sun      </td><td>23.0         </td><td>1.0           </td><td>Winter  </td></tr>\n",
       "<tr><td>6      </td><td>015XX W ARTHUR AVE  </td><td>1320.0       </td><td>CRIMINAL DAMAGE</td><td>TO VEHICLE                  </td><td>STREET                </td><td>false   </td><td>false     </td><td>2432.0       </td><td>24.0         </td><td>40.0         </td><td>1.0             </td><td>14.0         </td><td>1164732.0     </td><td>1943222.0     </td><td>2015.0</td><td>2015-02-15 00:43:39</td><td>41.999814056   </td><td>-87.669342967  </td><td>(41.999814056, -87.669342967)</td><td>8.0          </td><td>2.0           </td><td>6.0           </td><td>Sun      </td><td>23.0         </td><td>1.0           </td><td>Winter  </td></tr>\n",
       "<tr><td>7      </td><td>060XX W GRAND AVE   </td><td>110.0        </td><td>HOMICIDE       </td><td>FIRST DEGREE MURDER         </td><td>STREET                </td><td>true    </td><td>false     </td><td>2512.0       </td><td>25.0         </td><td>37.0         </td><td>19.0            </td><td>nan          </td><td>1135910.0     </td><td>1914206.0     </td><td>2015.0</td><td>2015-02-15 00:43:39</td><td>41.920755683   </td><td>-87.776067514  </td><td>(41.920755683, -87.776067514)</td><td>8.0          </td><td>2.0           </td><td>6.0           </td><td>Sun      </td><td>23.0         </td><td>1.0           </td><td>Winter  </td></tr>\n",
       "<tr><td>8      </td><td>001XX W WACKER DR   </td><td>460.0        </td><td>BATTERY        </td><td>SIMPLE                      </td><td>OTHER                 </td><td>false   </td><td>false     </td><td>122.0        </td><td>1.0          </td><td>42.0         </td><td>32.0            </td><td>nan          </td><td>1175384.0     </td><td>1902088.0     </td><td>2015.0</td><td>2015-02-15 00:43:39</td><td>41.886707818   </td><td>-87.631396356  </td><td>(41.886707818, -87.631396356)</td><td>8.0          </td><td>2.0           </td><td>6.0           </td><td>Sun      </td><td>23.0         </td><td>1.0           </td><td>Winter  </td></tr>\n",
       "<tr><td>9      </td><td>001XX W WACKER DR   </td><td>460.0        </td><td>BATTERY        </td><td>SIMPLE                      </td><td>HOTEL/MOTEL           </td><td>false   </td><td>false     </td><td>122.0        </td><td>1.0          </td><td>42.0         </td><td>32.0            </td><td>nan          </td><td>1175384.0     </td><td>1902088.0     </td><td>2015.0</td><td>2015-02-15 00:43:39</td><td>41.886707818   </td><td>-87.631396356  </td><td>(41.886707818, -87.631396356)</td><td>8.0          </td><td>2.0           </td><td>6.0           </td><td>Sun      </td><td>23.0         </td><td>1.0           </td><td>Winter  </td></tr>\n",
       "</tbody>\n",
       "</table>"
      ]
     },
     "metadata": {},
     "output_type": "display_data"
    }
   ],
   "source": [
    "# Transform crimes table\n",
    "\n",
    "## Drop useless columns\n",
    "f_crimes = f_crimes[2:]\n",
    "\n",
    "## Replace ' ' by '_' in column names\n",
    "col_names = map(lambda s: s.replace(' ', '_'), f_crimes.col_names)\n",
    "f_crimes.names = col_names\n",
    "\n",
    "## Refine date column\n",
    "def refine_date_col(data, col):\n",
    "    data[\"Day\"]       = data[col].day()\n",
    "    data[\"Month\"]     = data[col].month()\n",
    "    data[\"Year\"]      = data[col].year()\n",
    "    data[\"WeekNum\"]   = data[col].week()\n",
    "    data[\"WeekDay\"]   = data[col].dayOfWeek()\n",
    "    data[\"HourOfDay\"] = data[col].hour()\n",
    "        \n",
    "    # Create weekend and season cols\n",
    "    data[\"Weekend\"] = ((data[\"WeekDay\"] == \"Sun\") | (data[\"WeekDay\"] == \"Sat\"))\n",
    "    data[\"Season\"] = data[\"Month\"].cut([0, 2, 5, 7, 10, 12], [\"Winter\", \"Spring\", \"Summer\", \"Autumn\", \"Winter\"])\n",
    "    \n",
    "refine_date_col(f_crimes, \"Date\")\n",
    "f_crimes = f_crimes.drop(\"Date\")\n",
    "f_crimes.describe()"
   ]
  },
  {
   "cell_type": "code",
   "execution_count": 8,
   "metadata": {
    "collapsed": true
   },
   "outputs": [],
   "source": [
    "# Expose H2O frames as Spark DataFrame\n",
    "df_weather = hc.as_spark_frame(f_weather)\n",
    "df_census = hc.as_spark_frame(f_census)\n",
    "df_crimes = hc.as_spark_frame(f_crimes)"
   ]
  },
  {
   "cell_type": "code",
   "execution_count": 9,
   "metadata": {
    "collapsed": false
   },
   "outputs": [
    {
     "name": "stdout",
     "output_type": "stream",
     "text": [
      "+-----+---+----+-------+--------+-------+\n",
      "|month|day|year|maxTemp|meanTemp|minTemp|\n",
      "+-----+---+----+-------+--------+-------+\n",
      "|    1|  1|2001|     23|      14|      6|\n",
      "|    1|  2|2001|     18|      12|      6|\n",
      "|    1|  3|2001|     28|      18|      8|\n",
      "|    1|  4|2001|     30|      24|     19|\n",
      "|    1|  5|2001|     36|      30|     21|\n",
      "|    1|  6|2001|     33|      26|     19|\n",
      "|    1|  7|2001|     34|      28|     21|\n",
      "|    1|  8|2001|     26|      20|     14|\n",
      "|    1|  9|2001|     23|      16|     10|\n",
      "|    1| 10|2001|     34|      26|     19|\n",
      "|    1| 11|2001|     39|      28|     18|\n",
      "|    1| 12|2001|     37|      31|     25|\n",
      "|    1| 13|2001|     35|      34|     33|\n",
      "|    1| 14|2001|     36|      34|     32|\n",
      "|    1| 15|2001|     35|      32|     30|\n",
      "|    1| 16|2001|     30|      28|     26|\n",
      "|    1| 17|2001|     26|      22|     19|\n",
      "|    1| 18|2001|     30|      24|     19|\n",
      "|    1| 19|2001|     27|      22|     17|\n",
      "|    1| 20|2001|     24|      18|     10|\n",
      "+-----+---+----+-------+--------+-------+\n",
      "only showing top 20 rows\n",
      "\n"
     ]
    }
   ],
   "source": [
    "df_weather.show()"
   ]
  },
  {
   "cell_type": "code",
   "execution_count": 10,
   "metadata": {
    "collapsed": true
   },
   "outputs": [],
   "source": [
    "# Use Spark SQL to join datasets\n",
    "\n",
    "# Register DataFrames as tables\n",
    "df_weather.createOrReplaceTempView(\"chicagoWeather\")\n",
    "df_census.createOrReplaceTempView(\"chicagoCensus\")\n",
    "df_crimes.createOrReplaceTempView(\"chicagoCrime\")\n",
    "\n",
    "\n",
    "crimeWithWeather = spark.sql(\"\"\"SELECT\n",
    "a.Year, a.Month, a.Day, a.WeekNum, a.HourOfDay, a.Weekend, a.Season, a.WeekDay,\n",
    "a.IUCR, a.Primary_Type, a.Location_Description, a.Community_Area, a.District,\n",
    "a.Arrest, a.Domestic, a.Beat, a.Ward, a.FBI_Code,\n",
    "b.minTemp, b.maxTemp, b.meanTemp,\n",
    "c.PERCENT_AGED_UNDER_18_OR_OVER_64, c.PER_CAPITA_INCOME, c.HARDSHIP_INDEX,\n",
    "c.PERCENT_OF_HOUSING_CROWDED, c.PERCENT_HOUSEHOLDS_BELOW_POVERTY,\n",
    "c.PERCENT_AGED_16__UNEMPLOYED, c.PERCENT_AGED_25__WITHOUT_HIGH_SCHOOL_DIPLOMA\n",
    "FROM chicagoCrime a\n",
    "JOIN chicagoWeather b\n",
    "ON a.Year = b.year AND a.Month = b.month AND a.Day = b.day\n",
    "JOIN chicagoCensus c\n",
    "ON a.Community_Area = c.Community_Area_Number\"\"\")"
   ]
  },
  {
   "cell_type": "code",
   "execution_count": 11,
   "metadata": {
    "collapsed": false
   },
   "outputs": [
    {
     "name": "stdout",
     "output_type": "stream",
     "text": [
      "+----+-----+---+-------+---------+-------+------+-------+----+--------------------+--------------------+--------------+--------+------+--------+----+----+--------+-------+-------+--------+--------------------------------+-----------------+--------------+--------------------------+--------------------------------+---------------------------+--------------------------------------------+\n",
      "|Year|Month|Day|WeekNum|HourOfDay|Weekend|Season|WeekDay|IUCR|        Primary_Type|Location_Description|Community_Area|District|Arrest|Domestic|Beat|Ward|FBI_Code|minTemp|maxTemp|meanTemp|PERCENT_AGED_UNDER_18_OR_OVER_64|PER_CAPITA_INCOME|HARDSHIP_INDEX|PERCENT_OF_HOUSING_CROWDED|PERCENT_HOUSEHOLDS_BELOW_POVERTY|PERCENT_AGED_16__UNEMPLOYED|PERCENT_AGED_25__WITHOUT_HIGH_SCHOOL_DIPLOMA|\n",
      "+----+-----+---+-------+---------+-------+------+-------+----+--------------------+--------------------+--------------+--------+------+--------+----+----+--------+-------+-------+--------+--------------------------------+-----------------+--------------+--------------------------+--------------------------------+---------------------------+--------------------------------------------+\n",
      "|2015|    1| 23|      4|       22|      0|Winter|    Fri|null|   WEAPONS VIOLATION|               ALLEY|            31|      12|  true|   false|1234|  25|      15|     29|     31|      30|                            32.6|            16444|            76|         9.600000000000001|                            25.8|                       15.8|                                        40.7|\n",
      "|2015|    1| 23|      4|       19|      0|Winter|    Fri|4625|       OTHER OFFENSE|            SIDEWALK|            31|      10|  true|   false|1034|  25|      26|     29|     31|      30|                            32.6|            16444|            76|         9.600000000000001|                            25.8|                       15.8|                                        40.7|\n",
      "|2015|    1| 23|      4|       19|      0|Winter|    Fri| 320|             ROBBERY|  SMALL RETAIL STORE|            31|      10| false|   false|1034|  25|       3|     29|     31|      30|                            32.6|            16444|            76|         9.600000000000001|                            25.8|                       15.8|                                        40.7|\n",
      "|2015|    1| 23|      4|       18|      0|Winter|    Fri|1310|     CRIMINAL DAMAGE|          RESTAURANT|            31|      12| false|   false|1235|  25|      14|     29|     31|      30|                            32.6|            16444|            76|         9.600000000000001|                            25.8|                       15.8|                                        40.7|\n",
      "|2015|    1| 23|      4|       18|      0|Winter|    Fri| 610|            BURGLARY|           RESIDENCE|            31|      12| false|   false|1234|  25|       5|     29|     31|      30|                            32.6|            16444|            76|         9.600000000000001|                            25.8|                       15.8|                                        40.7|\n",
      "|2015|    1| 23|      4|       16|      0|Winter|    Fri|2210|LIQUOR LAW VIOLATION| TAVERN/LIQUOR STORE|            31|      12|  true|   false|1233|  25|      22|     29|     31|      30|                            32.6|            16444|            76|         9.600000000000001|                            25.8|                       15.8|                                        40.7|\n",
      "|2015|    1| 23|      4|       16|      0|Winter|    Fri| 470|PUBLIC PEACE VIOL...|             CTA BUS|            31|      10|  true|   false|1034|  25|      24|     29|     31|      30|                            32.6|            16444|            76|         9.600000000000001|                            25.8|                       15.8|                                        40.7|\n",
      "|2015|    1| 23|      4|       15|      0|Winter|    Fri|1305|     CRIMINAL DAMAGE|           RESIDENCE|            31|      12| false|   false|1235|  25|      14|     29|     31|      30|                            32.6|            16444|            76|         9.600000000000001|                            25.8|                       15.8|                                        40.7|\n",
      "|2015|    1| 23|      4|       13|      0|Winter|    Fri| 486|             BATTERY|           RESIDENCE|            31|      10| false|    true|1034|  25|    null|     29|     31|      30|                            32.6|            16444|            76|         9.600000000000001|                            25.8|                       15.8|                                        40.7|\n",
      "|2015|    1| 23|      4|       13|      0|Winter|    Fri| 820|               THEFT|              STREET|            31|      12| false|   false|1234|  25|       6|     29|     31|      30|                            32.6|            16444|            76|         9.600000000000001|                            25.8|                       15.8|                                        40.7|\n",
      "|2015|    1| 23|      4|        0|      0|Winter|    Fri| 915| MOTOR VEHICLE THEFT|  VEHICLE-COMMERCIAL|            31|       9| false|   false| 912|  11|       7|     29|     31|      30|                            32.6|            16444|            76|         9.600000000000001|                            25.8|                       15.8|                                        40.7|\n",
      "|2015|    1| 23|      4|        0|      0|Winter|    Fri| 870|               THEFT|           CTA TRAIN|            31|      12| false|   false|1234|  25|       6|     29|     31|      30|                            32.6|            16444|            76|         9.600000000000001|                            25.8|                       15.8|                                        40.7|\n",
      "|2015|    1| 23|      4|       10|      0|Winter|    Fri| 486|             BATTERY|           APARTMENT|            31|      12|  true|   false|1234|  25|    null|     29|     31|      30|                            32.6|            16444|            76|         9.600000000000001|                            25.8|                       15.8|                                        40.7|\n",
      "|2015|    2|  2|      6|       19|      0|Winter|    Mon| 860|               THEFT|  GROCERY FOOD STORE|            31|      10|  true|   false|1023|  25|       6|      6|     19|      13|                            32.6|            16444|            76|         9.600000000000001|                            25.8|                       15.8|                                        40.7|\n",
      "|2015|    2|  2|      6|       14|      0|Winter|    Mon| 860|               THEFT|    DEPARTMENT STORE|            31|      10|  true|   false|1023|  25|       6|      6|     19|      13|                            32.6|            16444|            76|         9.600000000000001|                            25.8|                       15.8|                                        40.7|\n",
      "|2015|    2|  2|      6|       13|      0|Winter|    Mon|1320|     CRIMINAL DAMAGE|PARKING LOT/GARAG...|            31|      12| false|   false|1235|  25|      14|      6|     19|      13|                            32.6|            16444|            76|         9.600000000000001|                            25.8|                       15.8|                                        40.7|\n",
      "|2015|    2|  6|      6|       23|      0|Winter|    Fri| 460|             BATTERY| TAVERN/LIQUOR STORE|            31|      12| false|   false|1235|  25|    null|     13|     31|      22|                            32.6|            16444|            76|         9.600000000000001|                            25.8|                       15.8|                                        40.7|\n",
      "|2015|    2|  6|      6|       15|      0|Winter|    Fri|2820|       OTHER OFFENSE|           RESIDENCE|            31|      12| false|   false|1235|  25|      26|     13|     31|      22|                            32.6|            16444|            76|         9.600000000000001|                            25.8|                       15.8|                                        40.7|\n",
      "|2015|    2|  6|      6|       13|      0|Winter|    Fri| 620|            BURGLARY|           APARTMENT|            31|      12| false|   false|1234|  25|       5|     13|     31|      22|                            32.6|            16444|            76|         9.600000000000001|                            25.8|                       15.8|                                        40.7|\n",
      "|2015|    2|  6|      6|        9|      0|Winter|    Fri| 820|               THEFT|          RESTAURANT|            31|      12| false|   false|1233|  25|       6|     13|     31|      22|                            32.6|            16444|            76|         9.600000000000001|                            25.8|                       15.8|                                        40.7|\n",
      "+----+-----+---+-------+---------+-------+------+-------+----+--------------------+--------------------+--------------+--------+------+--------+----+----+--------+-------+-------+--------+--------------------------------+-----------------+--------------+--------------------------+--------------------------------+---------------------------+--------------------------------------------+\n",
      "only showing top 20 rows\n",
      "\n"
     ]
    }
   ],
   "source": [
    "crimeWithWeather.show()"
   ]
  },
  {
   "cell_type": "code",
   "execution_count": 12,
   "metadata": {
    "collapsed": true
   },
   "outputs": [],
   "source": [
    "# Publish Spark DataFrame as H2OFrame with given name\n",
    "crimeWithWeatherHF = hc.as_h2o_frame(crimeWithWeather, \"crimeWithWeatherTable\")"
   ]
  },
  {
   "cell_type": "code",
   "execution_count": 13,
   "metadata": {
    "collapsed": true
   },
   "outputs": [],
   "source": [
    "# Transform selected String columns to categoricals\n",
    "cat_cols = [\"Arrest\", \"Season\", \"WeekDay\", \"Primary_Type\", \"Location_Description\", \"Domestic\"]\n",
    "\n",
    "for col in cat_cols :\n",
    "    crimeWithWeatherHF[col] = crimeWithWeatherHF[col].asfactor()"
   ]
  },
  {
   "cell_type": "code",
   "execution_count": 14,
   "metadata": {
    "collapsed": true
   },
   "outputs": [],
   "source": [
    "# Split frame into two - we use one as the training frame and the second one as the validation frame\n",
    "splits = crimeWithWeatherHF.split_frame(ratios=[0.8])\n",
    "train = splits[0]\n",
    "test = splits[1]\n",
    "\n",
    "# Prepare column names\n",
    "predictor_columns = train.drop(\"Arrest\").col_names\n",
    "response_column = \"Arrest\""
   ]
  },
  {
   "cell_type": "code",
   "execution_count": 15,
   "metadata": {
    "collapsed": false
   },
   "outputs": [
    {
     "name": "stdout",
     "output_type": "stream",
     "text": [
      "gbm Model Build progress: |███████████████████████████████████████████████| 100%\n"
     ]
    }
   ],
   "source": [
    "# Create and train GBM model\n",
    "from h2o.estimators.gbm import H2OGradientBoostingEstimator\n",
    "\n",
    "# Prepare model based on the given set of parameters\n",
    "gbm_model = H2OGradientBoostingEstimator(ntrees       = 50,\n",
    "                                         max_depth    = 3,\n",
    "                                         learn_rate   = 0.1,\n",
    "                                         distribution = \"bernoulli\"\n",
    "                                        )\n",
    "\n",
    "# Train the model\n",
    "gbm_model.train(x            = predictor_columns,\n",
    "            y                = response_column,\n",
    "            training_frame   = train,\n",
    "            validation_frame = test\n",
    "         )"
   ]
  },
  {
   "cell_type": "code",
   "execution_count": 16,
   "metadata": {
    "collapsed": false
   },
   "outputs": [
    {
     "name": "stdout",
     "output_type": "stream",
     "text": [
      "\n",
      "ModelMetricsBinomial: gbm\n",
      "** Reported on test data. **\n",
      "\n",
      "MSE: 0.0888289280274\n",
      "RMSE: 0.298041822615\n",
      "LogLoss: 0.296045556702\n",
      "Mean Per-Class Error: 0.174419424371\n",
      "AUC: 0.91461212912\n",
      "Gini: 0.82922425824\n",
      "Confusion Matrix (Act/Pred) for max f1 @ threshold = 0.508816707035: \n"
     ]
    },
    {
     "data": {
      "text/html": [
       "<div style=\"overflow:auto\"><table style=\"width:50%\"><tr><td><b></b></td>\n",
       "<td><b>false</b></td>\n",
       "<td><b>true</b></td>\n",
       "<td><b>Error</b></td>\n",
       "<td><b>Rate</b></td></tr>\n",
       "<tr><td>false</td>\n",
       "<td>1419.0</td>\n",
       "<td>34.0</td>\n",
       "<td>0.0234</td>\n",
       "<td> (34.0/1453.0)</td></tr>\n",
       "<tr><td>true</td>\n",
       "<td>191.0</td>\n",
       "<td>385.0</td>\n",
       "<td>0.3316</td>\n",
       "<td> (191.0/576.0)</td></tr>\n",
       "<tr><td>Total</td>\n",
       "<td>1610.0</td>\n",
       "<td>419.0</td>\n",
       "<td>0.1109</td>\n",
       "<td> (225.0/2029.0)</td></tr></table></div>"
      ],
      "text/plain": [
       "       false    true    Error    Rate\n",
       "-----  -------  ------  -------  --------------\n",
       "false  1419     34      0.0234   (34.0/1453.0)\n",
       "true   191      385     0.3316   (191.0/576.0)\n",
       "Total  1610     419     0.1109   (225.0/2029.0)"
      ]
     },
     "metadata": {},
     "output_type": "display_data"
    },
    {
     "name": "stdout",
     "output_type": "stream",
     "text": [
      "Maximum Metrics: Maximum metrics at their respective thresholds\n",
      "\n"
     ]
    },
    {
     "data": {
      "text/html": [
       "<div style=\"overflow:auto\"><table style=\"width:50%\"><tr><td><b>metric</b></td>\n",
       "<td><b>threshold</b></td>\n",
       "<td><b>value</b></td>\n",
       "<td><b>idx</b></td></tr>\n",
       "<tr><td>max f1</td>\n",
       "<td>0.5088167</td>\n",
       "<td>0.7738693</td>\n",
       "<td>112.0</td></tr>\n",
       "<tr><td>max f2</td>\n",
       "<td>0.1678649</td>\n",
       "<td>0.8045455</td>\n",
       "<td>259.0</td></tr>\n",
       "<tr><td>max f0point5</td>\n",
       "<td>0.6106454</td>\n",
       "<td>0.8599453</td>\n",
       "<td>99.0</td></tr>\n",
       "<tr><td>max accuracy</td>\n",
       "<td>0.5088167</td>\n",
       "<td>0.8891079</td>\n",
       "<td>112.0</td></tr>\n",
       "<tr><td>max precision</td>\n",
       "<td>0.9797413</td>\n",
       "<td>1.0</td>\n",
       "<td>0.0</td></tr>\n",
       "<tr><td>max recall</td>\n",
       "<td>0.0365993</td>\n",
       "<td>1.0</td>\n",
       "<td>390.0</td></tr>\n",
       "<tr><td>max specificity</td>\n",
       "<td>0.9797413</td>\n",
       "<td>1.0</td>\n",
       "<td>0.0</td></tr>\n",
       "<tr><td>max absolute_mcc</td>\n",
       "<td>0.5088167</td>\n",
       "<td>0.7184322</td>\n",
       "<td>112.0</td></tr>\n",
       "<tr><td>max min_per_class_accuracy</td>\n",
       "<td>0.2462900</td>\n",
       "<td>0.8100482</td>\n",
       "<td>204.0</td></tr>\n",
       "<tr><td>max mean_per_class_accuracy</td>\n",
       "<td>0.2774379</td>\n",
       "<td>0.8255806</td>\n",
       "<td>182.0</td></tr></table></div>"
      ],
      "text/plain": [
       "metric                       threshold    value     idx\n",
       "---------------------------  -----------  --------  -----\n",
       "max f1                       0.508817     0.773869  112\n",
       "max f2                       0.167865     0.804545  259\n",
       "max f0point5                 0.610645     0.859945  99\n",
       "max accuracy                 0.508817     0.889108  112\n",
       "max precision                0.979741     1         0\n",
       "max recall                   0.0365993    1         390\n",
       "max specificity              0.979741     1         0\n",
       "max absolute_mcc             0.508817     0.718432  112\n",
       "max min_per_class_accuracy   0.24629      0.810048  204\n",
       "max mean_per_class_accuracy  0.277438     0.825581  182"
      ]
     },
     "metadata": {},
     "output_type": "display_data"
    },
    {
     "name": "stdout",
     "output_type": "stream",
     "text": [
      "Gains/Lift Table: Avg response rate: 28.39 %\n",
      "\n"
     ]
    },
    {
     "data": {
      "text/html": [
       "<div style=\"overflow:auto\"><table style=\"width:50%\"><tr><td><b></b></td>\n",
       "<td><b>group</b></td>\n",
       "<td><b>cumulative_data_fraction</b></td>\n",
       "<td><b>lower_threshold</b></td>\n",
       "<td><b>lift</b></td>\n",
       "<td><b>cumulative_lift</b></td>\n",
       "<td><b>response_rate</b></td>\n",
       "<td><b>cumulative_response_rate</b></td>\n",
       "<td><b>capture_rate</b></td>\n",
       "<td><b>cumulative_capture_rate</b></td>\n",
       "<td><b>gain</b></td>\n",
       "<td><b>cumulative_gain</b></td></tr>\n",
       "<tr><td></td>\n",
       "<td>1</td>\n",
       "<td>0.0271069</td>\n",
       "<td>0.9771507</td>\n",
       "<td>3.5225694</td>\n",
       "<td>3.5225694</td>\n",
       "<td>1.0</td>\n",
       "<td>1.0</td>\n",
       "<td>0.0954861</td>\n",
       "<td>0.0954861</td>\n",
       "<td>252.2569444</td>\n",
       "<td>252.2569444</td></tr>\n",
       "<tr><td></td>\n",
       "<td>2</td>\n",
       "<td>0.0305569</td>\n",
       "<td>0.9764985</td>\n",
       "<td>3.5225694</td>\n",
       "<td>3.5225694</td>\n",
       "<td>1.0</td>\n",
       "<td>1.0</td>\n",
       "<td>0.0121528</td>\n",
       "<td>0.1076389</td>\n",
       "<td>252.2569444</td>\n",
       "<td>252.2569444</td></tr>\n",
       "<tr><td></td>\n",
       "<td>3</td>\n",
       "<td>0.0418926</td>\n",
       "<td>0.9760376</td>\n",
       "<td>3.5225694</td>\n",
       "<td>3.5225694</td>\n",
       "<td>1.0</td>\n",
       "<td>1.0</td>\n",
       "<td>0.0399306</td>\n",
       "<td>0.1475694</td>\n",
       "<td>252.2569444</td>\n",
       "<td>252.2569444</td></tr>\n",
       "<tr><td></td>\n",
       "<td>4</td>\n",
       "<td>0.0758995</td>\n",
       "<td>0.9755700</td>\n",
       "<td>3.5225694</td>\n",
       "<td>3.5225694</td>\n",
       "<td>1.0</td>\n",
       "<td>1.0</td>\n",
       "<td>0.1197917</td>\n",
       "<td>0.2673611</td>\n",
       "<td>252.2569444</td>\n",
       "<td>252.2569444</td></tr>\n",
       "<tr><td></td>\n",
       "<td>5</td>\n",
       "<td>0.1020207</td>\n",
       "<td>0.9727694</td>\n",
       "<td>3.5225694</td>\n",
       "<td>3.5225694</td>\n",
       "<td>1.0</td>\n",
       "<td>1.0</td>\n",
       "<td>0.0920139</td>\n",
       "<td>0.359375</td>\n",
       "<td>252.2569444</td>\n",
       "<td>252.2569444</td></tr>\n",
       "<tr><td></td>\n",
       "<td>6</td>\n",
       "<td>0.1517989</td>\n",
       "<td>0.8105781</td>\n",
       "<td>3.2784310</td>\n",
       "<td>3.4425110</td>\n",
       "<td>0.9306931</td>\n",
       "<td>0.9772727</td>\n",
       "<td>0.1631944</td>\n",
       "<td>0.5225694</td>\n",
       "<td>227.8430968</td>\n",
       "<td>244.2511048</td></tr>\n",
       "<tr><td></td>\n",
       "<td>7</td>\n",
       "<td>0.2000986</td>\n",
       "<td>0.5891030</td>\n",
       "<td>2.7317885</td>\n",
       "<td>3.2709573</td>\n",
       "<td>0.7755102</td>\n",
       "<td>0.9285714</td>\n",
       "<td>0.1319444</td>\n",
       "<td>0.6545139</td>\n",
       "<td>173.1788549</td>\n",
       "<td>227.0957341</td></tr>\n",
       "<tr><td></td>\n",
       "<td>8</td>\n",
       "<td>0.3026121</td>\n",
       "<td>0.2635039</td>\n",
       "<td>1.0330612</td>\n",
       "<td>2.5128427</td>\n",
       "<td>0.2932692</td>\n",
       "<td>0.7133550</td>\n",
       "<td>0.1059028</td>\n",
       "<td>0.7604167</td>\n",
       "<td>3.3061231</td>\n",
       "<td>151.2842698</td></tr>\n",
       "<tr><td></td>\n",
       "<td>9</td>\n",
       "<td>0.4001971</td>\n",
       "<td>0.2176908</td>\n",
       "<td>0.9607008</td>\n",
       "<td>2.1343647</td>\n",
       "<td>0.2727273</td>\n",
       "<td>0.6059113</td>\n",
       "<td>0.09375</td>\n",
       "<td>0.8541667</td>\n",
       "<td>-3.9299242</td>\n",
       "<td>113.4364737</td></tr>\n",
       "<tr><td></td>\n",
       "<td>10</td>\n",
       "<td>0.5012321</td>\n",
       "<td>0.1572267</td>\n",
       "<td>0.7216972</td>\n",
       "<td>1.8496087</td>\n",
       "<td>0.2048780</td>\n",
       "<td>0.5250737</td>\n",
       "<td>0.0729167</td>\n",
       "<td>0.9270833</td>\n",
       "<td>-27.8302846</td>\n",
       "<td>84.9608735</td></tr>\n",
       "<tr><td></td>\n",
       "<td>11</td>\n",
       "<td>0.6047314</td>\n",
       "<td>0.0843289</td>\n",
       "<td>0.2851604</td>\n",
       "<td>1.5818547</td>\n",
       "<td>0.0809524</td>\n",
       "<td>0.4490628</td>\n",
       "<td>0.0295139</td>\n",
       "<td>0.9565972</td>\n",
       "<td>-71.4839616</td>\n",
       "<td>58.1854738</td></tr>\n",
       "<tr><td></td>\n",
       "<td>12</td>\n",
       "<td>0.6998521</td>\n",
       "<td>0.0638507</td>\n",
       "<td>0.2190199</td>\n",
       "<td>1.3966244</td>\n",
       "<td>0.0621762</td>\n",
       "<td>0.3964789</td>\n",
       "<td>0.0208333</td>\n",
       "<td>0.9774306</td>\n",
       "<td>-78.0980138</td>\n",
       "<td>39.6624364</td></tr>\n",
       "<tr><td></td>\n",
       "<td>13</td>\n",
       "<td>0.7999014</td>\n",
       "<td>0.0540403</td>\n",
       "<td>0.0867628</td>\n",
       "<td>1.2327908</td>\n",
       "<td>0.0246305</td>\n",
       "<td>0.3499692</td>\n",
       "<td>0.0086806</td>\n",
       "<td>0.9861111</td>\n",
       "<td>-91.3237206</td>\n",
       "<td>23.2790785</td></tr>\n",
       "<tr><td></td>\n",
       "<td>14</td>\n",
       "<td>0.8999507</td>\n",
       "<td>0.0439598</td>\n",
       "<td>0.0694102</td>\n",
       "<td>1.1034555</td>\n",
       "<td>0.0197044</td>\n",
       "<td>0.3132530</td>\n",
       "<td>0.0069444</td>\n",
       "<td>0.9930556</td>\n",
       "<td>-93.0589765</td>\n",
       "<td>10.3455489</td></tr>\n",
       "<tr><td></td>\n",
       "<td>15</td>\n",
       "<td>1.0</td>\n",
       "<td>0.0223555</td>\n",
       "<td>0.0694102</td>\n",
       "<td>1.0</td>\n",
       "<td>0.0197044</td>\n",
       "<td>0.2838837</td>\n",
       "<td>0.0069444</td>\n",
       "<td>1.0</td>\n",
       "<td>-93.0589765</td>\n",
       "<td>0.0</td></tr></table></div>"
      ],
      "text/plain": [
       "    group    cumulative_data_fraction    lower_threshold    lift       cumulative_lift    response_rate    cumulative_response_rate    capture_rate    cumulative_capture_rate    gain      cumulative_gain\n",
       "--  -------  --------------------------  -----------------  ---------  -----------------  ---------------  --------------------------  --------------  -------------------------  --------  -----------------\n",
       "    1        0.0271069                   0.977151           3.52257    3.52257            1                1                           0.0954861       0.0954861                  252.257   252.257\n",
       "    2        0.0305569                   0.976499           3.52257    3.52257            1                1                           0.0121528       0.107639                   252.257   252.257\n",
       "    3        0.0418926                   0.976038           3.52257    3.52257            1                1                           0.0399306       0.147569                   252.257   252.257\n",
       "    4        0.0758995                   0.97557            3.52257    3.52257            1                1                           0.119792        0.267361                   252.257   252.257\n",
       "    5        0.102021                    0.972769           3.52257    3.52257            1                1                           0.0920139       0.359375                   252.257   252.257\n",
       "    6        0.151799                    0.810578           3.27843    3.44251            0.930693         0.977273                    0.163194        0.522569                   227.843   244.251\n",
       "    7        0.200099                    0.589103           2.73179    3.27096            0.77551          0.928571                    0.131944        0.654514                   173.179   227.096\n",
       "    8        0.302612                    0.263504           1.03306    2.51284            0.293269         0.713355                    0.105903        0.760417                   3.30612   151.284\n",
       "    9        0.400197                    0.217691           0.960701   2.13436            0.272727         0.605911                    0.09375         0.854167                   -3.92992  113.436\n",
       "    10       0.501232                    0.157227           0.721697   1.84961            0.204878         0.525074                    0.0729167       0.927083                   -27.8303  84.9609\n",
       "    11       0.604731                    0.0843289          0.28516    1.58185            0.0809524        0.449063                    0.0295139       0.956597                   -71.484   58.1855\n",
       "    12       0.699852                    0.0638507          0.21902    1.39662            0.0621762        0.396479                    0.0208333       0.977431                   -78.098   39.6624\n",
       "    13       0.799901                    0.0540403          0.0867628  1.23279            0.0246305        0.349969                    0.00868056      0.986111                   -91.3237  23.2791\n",
       "    14       0.899951                    0.0439598          0.0694102  1.10346            0.0197044        0.313253                    0.00694444      0.993056                   -93.059   10.3455\n",
       "    15       1                           0.0223555          0.0694102  1                  0.0197044        0.283884                    0.00694444      1                          -93.059   0"
      ]
     },
     "metadata": {},
     "output_type": "display_data"
    },
    {
     "name": "stdout",
     "output_type": "stream",
     "text": [
      "\n"
     ]
    },
    {
     "data": {
      "text/plain": []
     },
     "execution_count": 16,
     "metadata": {},
     "output_type": "execute_result"
    }
   ],
   "source": [
    "# Show GBM model performance\n",
    "gbm_model.model_performance(test)"
   ]
  },
  {
   "cell_type": "code",
   "execution_count": 17,
   "metadata": {
    "collapsed": false
   },
   "outputs": [
    {
     "name": "stdout",
     "output_type": "stream",
     "text": [
      "deeplearning Model Build progress: |██████████████████████████████████████| 100%\n"
     ]
    }
   ],
   "source": [
    "# Create and train deeplearning model\n",
    "from h2o.estimators.deeplearning import H2ODeepLearningEstimator\n",
    "\n",
    "# Prepare model based on the given set of parameters\n",
    "dl_model = H2ODeepLearningEstimator()\n",
    "\n",
    "# Train the model\n",
    "dl_model.train(x                = predictor_columns,\n",
    "               y                = response_column,\n",
    "               training_frame   = train,\n",
    "               validation_frame = test\n",
    "              )"
   ]
  },
  {
   "cell_type": "code",
   "execution_count": 18,
   "metadata": {
    "collapsed": false
   },
   "outputs": [
    {
     "name": "stdout",
     "output_type": "stream",
     "text": [
      "\n",
      "ModelMetricsBinomial: deeplearning\n",
      "** Reported on test data. **\n",
      "\n",
      "MSE: 0.10570662204\n",
      "RMSE: 0.325125548119\n",
      "LogLoss: 0.342591874039\n",
      "Mean Per-Class Error: 0.17939237306\n",
      "AUC: 0.894944367974\n",
      "Gini: 0.789888735949\n",
      "Confusion Matrix (Act/Pred) for max f1 @ threshold = 0.542798412723: \n"
     ]
    },
    {
     "data": {
      "text/html": [
       "<div style=\"overflow:auto\"><table style=\"width:50%\"><tr><td><b></b></td>\n",
       "<td><b>false</b></td>\n",
       "<td><b>true</b></td>\n",
       "<td><b>Error</b></td>\n",
       "<td><b>Rate</b></td></tr>\n",
       "<tr><td>false</td>\n",
       "<td>1358.0</td>\n",
       "<td>95.0</td>\n",
       "<td>0.0654</td>\n",
       "<td> (95.0/1453.0)</td></tr>\n",
       "<tr><td>true</td>\n",
       "<td>169.0</td>\n",
       "<td>407.0</td>\n",
       "<td>0.2934</td>\n",
       "<td> (169.0/576.0)</td></tr>\n",
       "<tr><td>Total</td>\n",
       "<td>1527.0</td>\n",
       "<td>502.0</td>\n",
       "<td>0.1301</td>\n",
       "<td> (264.0/2029.0)</td></tr></table></div>"
      ],
      "text/plain": [
       "       false    true    Error    Rate\n",
       "-----  -------  ------  -------  --------------\n",
       "false  1358     95      0.0654   (95.0/1453.0)\n",
       "true   169      407     0.2934   (169.0/576.0)\n",
       "Total  1527     502     0.1301   (264.0/2029.0)"
      ]
     },
     "metadata": {},
     "output_type": "display_data"
    },
    {
     "name": "stdout",
     "output_type": "stream",
     "text": [
      "Maximum Metrics: Maximum metrics at their respective thresholds\n",
      "\n"
     ]
    },
    {
     "data": {
      "text/html": [
       "<div style=\"overflow:auto\"><table style=\"width:50%\"><tr><td><b>metric</b></td>\n",
       "<td><b>threshold</b></td>\n",
       "<td><b>value</b></td>\n",
       "<td><b>idx</b></td></tr>\n",
       "<tr><td>max f1</td>\n",
       "<td>0.5427984</td>\n",
       "<td>0.7551020</td>\n",
       "<td>129.0</td></tr>\n",
       "<tr><td>max f2</td>\n",
       "<td>0.2096269</td>\n",
       "<td>0.7751699</td>\n",
       "<td>258.0</td></tr>\n",
       "<tr><td>max f0point5</td>\n",
       "<td>0.8430132</td>\n",
       "<td>0.8242032</td>\n",
       "<td>58.0</td></tr>\n",
       "<tr><td>max accuracy</td>\n",
       "<td>0.6508226</td>\n",
       "<td>0.8758009</td>\n",
       "<td>100.0</td></tr>\n",
       "<tr><td>max precision</td>\n",
       "<td>0.9997802</td>\n",
       "<td>1.0</td>\n",
       "<td>0.0</td></tr>\n",
       "<tr><td>max recall</td>\n",
       "<td>0.0090462</td>\n",
       "<td>1.0</td>\n",
       "<td>397.0</td></tr>\n",
       "<tr><td>max specificity</td>\n",
       "<td>0.9997802</td>\n",
       "<td>1.0</td>\n",
       "<td>0.0</td></tr>\n",
       "<tr><td>max absolute_mcc</td>\n",
       "<td>0.6433781</td>\n",
       "<td>0.6821241</td>\n",
       "<td>103.0</td></tr>\n",
       "<tr><td>max min_per_class_accuracy</td>\n",
       "<td>0.3107365</td>\n",
       "<td>0.8003472</td>\n",
       "<td>208.0</td></tr>\n",
       "<tr><td>max mean_per_class_accuracy</td>\n",
       "<td>0.5427984</td>\n",
       "<td>0.8206076</td>\n",
       "<td>129.0</td></tr></table></div>"
      ],
      "text/plain": [
       "metric                       threshold    value     idx\n",
       "---------------------------  -----------  --------  -----\n",
       "max f1                       0.542798     0.755102  129\n",
       "max f2                       0.209627     0.77517   258\n",
       "max f0point5                 0.843013     0.824203  58\n",
       "max accuracy                 0.650823     0.875801  100\n",
       "max precision                0.99978      1         0\n",
       "max recall                   0.0090462    1         397\n",
       "max specificity              0.99978      1         0\n",
       "max absolute_mcc             0.643378     0.682124  103\n",
       "max min_per_class_accuracy   0.310737     0.800347  208\n",
       "max mean_per_class_accuracy  0.542798     0.820608  129"
      ]
     },
     "metadata": {},
     "output_type": "display_data"
    },
    {
     "name": "stdout",
     "output_type": "stream",
     "text": [
      "Gains/Lift Table: Avg response rate: 28.39 %\n",
      "\n"
     ]
    },
    {
     "data": {
      "text/html": [
       "<div style=\"overflow:auto\"><table style=\"width:50%\"><tr><td><b></b></td>\n",
       "<td><b>group</b></td>\n",
       "<td><b>cumulative_data_fraction</b></td>\n",
       "<td><b>lower_threshold</b></td>\n",
       "<td><b>lift</b></td>\n",
       "<td><b>cumulative_lift</b></td>\n",
       "<td><b>response_rate</b></td>\n",
       "<td><b>cumulative_response_rate</b></td>\n",
       "<td><b>capture_rate</b></td>\n",
       "<td><b>cumulative_capture_rate</b></td>\n",
       "<td><b>gain</b></td>\n",
       "<td><b>cumulative_gain</b></td></tr>\n",
       "<tr><td></td>\n",
       "<td>1</td>\n",
       "<td>0.0103499</td>\n",
       "<td>0.9997335</td>\n",
       "<td>3.5225694</td>\n",
       "<td>3.5225694</td>\n",
       "<td>1.0</td>\n",
       "<td>1.0</td>\n",
       "<td>0.0364583</td>\n",
       "<td>0.0364583</td>\n",
       "<td>252.2569444</td>\n",
       "<td>252.2569444</td></tr>\n",
       "<tr><td></td>\n",
       "<td>2</td>\n",
       "<td>0.0202070</td>\n",
       "<td>0.9995993</td>\n",
       "<td>3.5225694</td>\n",
       "<td>3.5225694</td>\n",
       "<td>1.0</td>\n",
       "<td>1.0</td>\n",
       "<td>0.0347222</td>\n",
       "<td>0.0711806</td>\n",
       "<td>252.2569444</td>\n",
       "<td>252.2569444</td></tr>\n",
       "<tr><td></td>\n",
       "<td>3</td>\n",
       "<td>0.0300641</td>\n",
       "<td>0.9994778</td>\n",
       "<td>3.5225694</td>\n",
       "<td>3.5225694</td>\n",
       "<td>1.0</td>\n",
       "<td>1.0</td>\n",
       "<td>0.0347222</td>\n",
       "<td>0.1059028</td>\n",
       "<td>252.2569444</td>\n",
       "<td>252.2569444</td></tr>\n",
       "<tr><td></td>\n",
       "<td>4</td>\n",
       "<td>0.0404140</td>\n",
       "<td>0.9993345</td>\n",
       "<td>3.5225694</td>\n",
       "<td>3.5225694</td>\n",
       "<td>1.0</td>\n",
       "<td>1.0</td>\n",
       "<td>0.0364583</td>\n",
       "<td>0.1423611</td>\n",
       "<td>252.2569444</td>\n",
       "<td>252.2569444</td></tr>\n",
       "<tr><td></td>\n",
       "<td>5</td>\n",
       "<td>0.0502711</td>\n",
       "<td>0.9991145</td>\n",
       "<td>3.5225694</td>\n",
       "<td>3.5225694</td>\n",
       "<td>1.0</td>\n",
       "<td>1.0</td>\n",
       "<td>0.0347222</td>\n",
       "<td>0.1770833</td>\n",
       "<td>252.2569444</td>\n",
       "<td>252.2569444</td></tr>\n",
       "<tr><td></td>\n",
       "<td>6</td>\n",
       "<td>0.1000493</td>\n",
       "<td>0.9962200</td>\n",
       "<td>3.5225694</td>\n",
       "<td>3.5225694</td>\n",
       "<td>1.0</td>\n",
       "<td>1.0</td>\n",
       "<td>0.1753472</td>\n",
       "<td>0.3524306</td>\n",
       "<td>252.2569444</td>\n",
       "<td>252.2569444</td></tr>\n",
       "<tr><td></td>\n",
       "<td>7</td>\n",
       "<td>0.1503204</td>\n",
       "<td>0.9114509</td>\n",
       "<td>3.1772195</td>\n",
       "<td>3.4070754</td>\n",
       "<td>0.9019608</td>\n",
       "<td>0.9672131</td>\n",
       "<td>0.1597222</td>\n",
       "<td>0.5121528</td>\n",
       "<td>217.7219499</td>\n",
       "<td>240.7075364</td></tr>\n",
       "<tr><td></td>\n",
       "<td>8</td>\n",
       "<td>0.2000986</td>\n",
       "<td>0.7267511</td>\n",
       "<td>2.1274924</td>\n",
       "<td>3.0887555</td>\n",
       "<td>0.6039604</td>\n",
       "<td>0.8768473</td>\n",
       "<td>0.1059028</td>\n",
       "<td>0.6180556</td>\n",
       "<td>112.7492437</td>\n",
       "<td>208.8755473</td></tr>\n",
       "<tr><td></td>\n",
       "<td>9</td>\n",
       "<td>0.3001479</td>\n",
       "<td>0.4099771</td>\n",
       "<td>1.2667368</td>\n",
       "<td>2.4814159</td>\n",
       "<td>0.3596059</td>\n",
       "<td>0.7044335</td>\n",
       "<td>0.1267361</td>\n",
       "<td>0.7447917</td>\n",
       "<td>26.6736795</td>\n",
       "<td>148.1415914</td></tr>\n",
       "<tr><td></td>\n",
       "<td>10</td>\n",
       "<td>0.4001971</td>\n",
       "<td>0.2624851</td>\n",
       "<td>0.7461600</td>\n",
       "<td>2.0476019</td>\n",
       "<td>0.2118227</td>\n",
       "<td>0.5812808</td>\n",
       "<td>0.0746528</td>\n",
       "<td>0.8194444</td>\n",
       "<td>-25.3839970</td>\n",
       "<td>104.7601943</td></tr>\n",
       "<tr><td></td>\n",
       "<td>11</td>\n",
       "<td>0.5002464</td>\n",
       "<td>0.1793400</td>\n",
       "<td>0.6073396</td>\n",
       "<td>1.7595495</td>\n",
       "<td>0.1724138</td>\n",
       "<td>0.4995074</td>\n",
       "<td>0.0607639</td>\n",
       "<td>0.8802083</td>\n",
       "<td>-39.2660441</td>\n",
       "<td>75.9549466</td></tr>\n",
       "<tr><td></td>\n",
       "<td>12</td>\n",
       "<td>0.5998029</td>\n",
       "<td>0.1194996</td>\n",
       "<td>0.5405923</td>\n",
       "<td>1.5572246</td>\n",
       "<td>0.1534653</td>\n",
       "<td>0.4420707</td>\n",
       "<td>0.0538194</td>\n",
       "<td>0.9340278</td>\n",
       "<td>-45.9407660</td>\n",
       "<td>55.7224619</td></tr>\n",
       "<tr><td></td>\n",
       "<td>13</td>\n",
       "<td>0.6998521</td>\n",
       "<td>0.0784783</td>\n",
       "<td>0.2429358</td>\n",
       "<td>1.3693369</td>\n",
       "<td>0.0689655</td>\n",
       "<td>0.3887324</td>\n",
       "<td>0.0243056</td>\n",
       "<td>0.9583333</td>\n",
       "<td>-75.7064176</td>\n",
       "<td>36.9336854</td></tr>\n",
       "<tr><td></td>\n",
       "<td>14</td>\n",
       "<td>0.7999014</td>\n",
       "<td>0.0519504</td>\n",
       "<td>0.2082307</td>\n",
       "<td>1.2241092</td>\n",
       "<td>0.0591133</td>\n",
       "<td>0.3475046</td>\n",
       "<td>0.0208333</td>\n",
       "<td>0.9791667</td>\n",
       "<td>-79.1769294</td>\n",
       "<td>22.4109160</td></tr>\n",
       "<tr><td></td>\n",
       "<td>15</td>\n",
       "<td>0.8999507</td>\n",
       "<td>0.0306317</td>\n",
       "<td>0.1041154</td>\n",
       "<td>1.0995973</td>\n",
       "<td>0.0295567</td>\n",
       "<td>0.3121577</td>\n",
       "<td>0.0104167</td>\n",
       "<td>0.9895833</td>\n",
       "<td>-89.5884647</td>\n",
       "<td>9.9597253</td></tr>\n",
       "<tr><td></td>\n",
       "<td>16</td>\n",
       "<td>1.0</td>\n",
       "<td>0.0042309</td>\n",
       "<td>0.1041154</td>\n",
       "<td>1.0</td>\n",
       "<td>0.0295567</td>\n",
       "<td>0.2838837</td>\n",
       "<td>0.0104167</td>\n",
       "<td>1.0</td>\n",
       "<td>-89.5884647</td>\n",
       "<td>0.0</td></tr></table></div>"
      ],
      "text/plain": [
       "    group    cumulative_data_fraction    lower_threshold    lift      cumulative_lift    response_rate    cumulative_response_rate    capture_rate    cumulative_capture_rate    gain      cumulative_gain\n",
       "--  -------  --------------------------  -----------------  --------  -----------------  ---------------  --------------------------  --------------  -------------------------  --------  -----------------\n",
       "    1        0.0103499                   0.999733           3.52257   3.52257            1                1                           0.0364583       0.0364583                  252.257   252.257\n",
       "    2        0.020207                    0.999599           3.52257   3.52257            1                1                           0.0347222       0.0711806                  252.257   252.257\n",
       "    3        0.0300641                   0.999478           3.52257   3.52257            1                1                           0.0347222       0.105903                   252.257   252.257\n",
       "    4        0.040414                    0.999335           3.52257   3.52257            1                1                           0.0364583       0.142361                   252.257   252.257\n",
       "    5        0.0502711                   0.999114           3.52257   3.52257            1                1                           0.0347222       0.177083                   252.257   252.257\n",
       "    6        0.100049                    0.99622            3.52257   3.52257            1                1                           0.175347        0.352431                   252.257   252.257\n",
       "    7        0.15032                     0.911451           3.17722   3.40708            0.901961         0.967213                    0.159722        0.512153                   217.722   240.708\n",
       "    8        0.200099                    0.726751           2.12749   3.08876            0.60396          0.876847                    0.105903        0.618056                   112.749   208.876\n",
       "    9        0.300148                    0.409977           1.26674   2.48142            0.359606         0.704433                    0.126736        0.744792                   26.6737   148.142\n",
       "    10       0.400197                    0.262485           0.74616   2.0476             0.211823         0.581281                    0.0746528       0.819444                   -25.384   104.76\n",
       "    11       0.500246                    0.17934            0.60734   1.75955            0.172414         0.499507                    0.0607639       0.880208                   -39.266   75.9549\n",
       "    12       0.599803                    0.1195             0.540592  1.55722            0.153465         0.442071                    0.0538194       0.934028                   -45.9408  55.7225\n",
       "    13       0.699852                    0.0784783          0.242936  1.36934            0.0689655        0.388732                    0.0243056       0.958333                   -75.7064  36.9337\n",
       "    14       0.799901                    0.0519504          0.208231  1.22411            0.0591133        0.347505                    0.0208333       0.979167                   -79.1769  22.4109\n",
       "    15       0.899951                    0.0306317          0.104115  1.0996             0.0295567        0.312158                    0.0104167       0.989583                   -89.5885  9.95973\n",
       "    16       1                           0.00423093         0.104115  1                  0.0295567        0.283884                    0.0104167       1                          -89.5885  0"
      ]
     },
     "metadata": {},
     "output_type": "display_data"
    },
    {
     "name": "stdout",
     "output_type": "stream",
     "text": [
      "\n"
     ]
    },
    {
     "data": {
      "text/plain": []
     },
     "execution_count": 18,
     "metadata": {},
     "output_type": "execute_result"
    }
   ],
   "source": [
    "# Show deeplearning model performance\n",
    "dl_model.model_performance(test)"
   ]
  },
  {
   "cell_type": "code",
   "execution_count": 19,
   "metadata": {
    "collapsed": true
   },
   "outputs": [],
   "source": [
    "# Create crime class which is used as a data holder on which prediction is done\n",
    "from datetime import datetime\n",
    "from pytz import timezone\n",
    "from pyspark.sql import Row\n",
    "\n",
    "def get_season(dt):\n",
    "    if (dt >= 3 and dt <= 5):\n",
    "        return \"Spring\"\n",
    "    elif (dt >= 6 and dt <= 8):\n",
    "        return \"Summer\"\n",
    "    elif (dt >= 9 and dt <= 10):\n",
    "        return \"Autumn\"\n",
    "    else:       \n",
    "        return \"Winter\"\n",
    "    \n",
    "def crime(date,\n",
    "          iucr,\n",
    "          primaryType,\n",
    "          locationDescr,\n",
    "          domestic,\n",
    "          beat,\n",
    "          district,\n",
    "          ward,\n",
    "          communityArea,\n",
    "          fbiCode,\n",
    "          minTemp = 77777,\n",
    "          maxTemp = 77777,\n",
    "          meanTemp = 77777,\n",
    "          datePattern = \"%m/%d/%Y %I:%M:%S %p\",\n",
    "          dateTimeZone = \"Etc/UTC\"):\n",
    "\n",
    "    dt = datetime.strptime(date, datePattern)\n",
    "    dt.replace(tzinfo=timezone(dateTimeZone))\n",
    "\n",
    "    crime = Row(\n",
    "        Year = dt.year,\n",
    "        Month = dt.month,\n",
    "        Day = dt.day,\n",
    "        WeekNum = dt.isocalendar()[1],\n",
    "        HourOfDay = dt.hour,\n",
    "        Weekend = 1 if dt.weekday() == 5 or dt.weekday() == 6 else 0,\n",
    "        Season = get_season(dt.month),\n",
    "        WeekDay = dt.strftime('%a'),  #gets the day of week in short format - Mon, Tue ...\n",
    "        IUCR = iucr,\n",
    "        Primary_Type = primaryType,\n",
    "        Location_Description = locationDescr,\n",
    "        Domestic = \"true\" if domestic else \"false\",\n",
    "        Beat = beat,\n",
    "        District = district,\n",
    "        Ward = ward,\n",
    "        Community_Area = communityArea,\n",
    "        FBI_Code = fbiCode,\n",
    "        minTemp = minTemp,\n",
    "        maxTemp = maxTemp,\n",
    "        meanTemp = meanTemp\n",
    "    )\n",
    "    return crime"
   ]
  },
  {
   "cell_type": "code",
   "execution_count": 20,
   "metadata": {
    "collapsed": true
   },
   "outputs": [],
   "source": [
    "# Create crime examples\n",
    "crime_examples = [\n",
    "  \n",
    "    crime(date=\"02/08/2015 11:43:58 PM\", iucr=1811, primaryType=\"NARCOTICS\", locationDescr=\"STREET\",\n",
    "          domestic=False, beat=422, district=4, ward=7, communityArea=46, fbiCode=18, \n",
    "          minTemp = 19, meanTemp=27, maxTemp=32),\n",
    "  \n",
    "    crime(date=\"02/08/2015 11:00:39 PM\", iucr=1150, primaryType=\"DECEPTIVE PRACTICE\", locationDescr=\"RESIDENCE\",\n",
    "          domestic=False, beat=923, district=9, ward=14, communityArea=63, fbiCode=11, \n",
    "          minTemp = 19, meanTemp=27, maxTemp=32)\n",
    "]"
   ]
  },
  {
   "cell_type": "code",
   "execution_count": 21,
   "metadata": {
    "collapsed": false
   },
   "outputs": [
    {
     "name": "stdout",
     "output_type": "stream",
     "text": [
      "gbm prediction progress: |████████████████████████████████████████████████| 100%\n",
      "deeplearning prediction progress: |███████████████████████████████████████| 100%\n",
      "\n",
      "       |Crime: Row(Beat=422, Community_Area=46, Day=8, District=4, Domestic='false', FBI_Code=18, HourOfDay=23, IUCR=1811, Location_Description='STREET', Month=2, Primary_Type='NARCOTICS', Season='Winter', Ward=7, WeekDay='Sun', WeekNum=6, Weekend=1, Year=2015, maxTemp=32, meanTemp=27, minTemp=19)\n",
      "       |  Probability of arrest best on DeepLearning: 99.9486165525\n",
      "       |  Probability of arrest best on GBM: 97.6037639424\n",
      "        \n",
      "gbm prediction progress: |████████████████████████████████████████████████| 100%\n",
      "deeplearning prediction progress: |███████████████████████████████████████| 100%\n",
      "\n",
      "       |Crime: Row(Beat=923, Community_Area=63, Day=8, District=9, Domestic='false', FBI_Code=11, HourOfDay=23, IUCR=1150, Location_Description='RESIDENCE', Month=2, Primary_Type='DECEPTIVE PRACTICE', Season='Winter', Ward=14, WeekDay='Sun', WeekNum=6, Weekend=1, Year=2015, maxTemp=32, meanTemp=27, minTemp=19)\n",
      "       |  Probability of arrest best on DeepLearning: 3.51544437471\n",
      "       |  Probability of arrest best on GBM: 5.28089312199\n",
      "        \n"
     ]
    }
   ],
   "source": [
    "# For given crime and model return probability of crime.\n",
    "def score_event(crime, model, censusTable):\n",
    "    rdd = sc.parallelize([crime])\n",
    "    crime_frame = sqlContext.createDataFrame(rdd)\n",
    "    # Join table with census data\n",
    "    df_row = censusTable.join(crime_frame).where(\"Community_Area = Community_Area_Number\")  \n",
    "    row = hc.as_h2o_frame(df_row)\n",
    "    row[\"Season\"] = row[\"Season\"].asfactor()\n",
    "    row[\"WeekDay\"] = row[\"WeekDay\"].asfactor()\n",
    "    row[\"Primary_Type\"] = row[\"Primary_Type\"].asfactor()\n",
    "    row[\"Location_Description\"] = row[\"Location_Description\"].asfactor()\n",
    "    row[\"Domestic\"] = row[\"Domestic\"].asfactor()\n",
    "\n",
    "    predictTable = model.predict(row)\n",
    "    probOfArrest = predictTable[\"true\"][0,0]\n",
    "    return probOfArrest\n",
    "\n",
    "for i in crime_examples:\n",
    "    arrestProbGBM = 100*score_event(i, gbm_model, df_census)\n",
    "    arrestProbDLM = 100*score_event(i, dl_model, df_census)\n",
    "\n",
    "    print(\"\"\"\n",
    "       |Crime: \"\"\"+ str(i)+\"\"\"\n",
    "       |  Probability of arrest best on DeepLearning: \"\"\"+str(arrestProbDLM)+\"\"\"\n",
    "       |  Probability of arrest best on GBM: \"\"\"+str(arrestProbGBM)+\"\"\"\n",
    "        \"\"\")"
   ]
  },
  {
   "cell_type": "code",
   "execution_count": null,
   "metadata": {
    "collapsed": true
   },
   "outputs": [],
   "source": []
  }
 ],
 "metadata": {
  "kernelspec": {
   "display_name": "Python 2",
   "language": "python",
   "name": "python2"
  },
  "language_info": {
   "codemirror_mode": {
    "name": "ipython",
    "version": 2
   },
   "file_extension": ".py",
   "mimetype": "text/x-python",
   "name": "python",
   "nbconvert_exporter": "python",
   "pygments_lexer": "ipython2",
   "version": "2.7.13"
  }
 },
 "nbformat": 4,
 "nbformat_minor": 0
}
